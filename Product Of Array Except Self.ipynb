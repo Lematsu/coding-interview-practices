{
 "cells": [
  {
   "cell_type": "markdown",
   "metadata": {},
   "source": [
    "# Product of Array Except Self\n",
    "\n",
    "Given an array nums of n integers where n > 1,  return an array output such that output[i] is equal to the product of all the elements of nums except nums[i].\n",
    "```\n",
    "Example:\n",
    "\n",
    "Input:  [1,2,3,4]\n",
    "Output: [24,12,8,6]\n",
    "Constraint: It's guaranteed that the product of the elements of any prefix or suffix of the array (including the whole array) fits in a 32 bit integer.\n",
    "```\n",
    "Note: Please solve it without division and in O(n).\n",
    "\n",
    "Follow up:\n",
    "Could you solve it with constant space complexity? (The output array does not count as extra space for the purpose of space complexity analysis.)"
   ]
  },
  {
   "cell_type": "markdown",
   "metadata": {},
   "source": [
    "## Communication\n",
    "\n",
    "We could approach this problem with a roll-over list technique. In a roll-over, we want to accumulate the changes from left to right and right to left where both our starting point is 1. For instance, in the given example above, the Left to right roll-over is as follows:\n",
    "```\n",
    "L = [1, 1, 2, 6]\n",
    "```\n",
    "In the other hand, the right to left roll-over is as follows:\n",
    "```\n",
    "R = [24, 12, 4, 1]\n",
    "```\n",
    "Finally, if we combine the two by index and multiplication, we get the follows:\n",
    "```\n",
    "output = [1*24 = 24, 1*12 = 12, 2*4 = 8, 6*1 = 6]\n",
    "```\n",
    "For further explanation, by defining the starting point as 1, we are shifting the numbers multiplied therefore allowing us to find the product w/o self.\n",
    "\n",
    "To implement the constant space complexity, we can utilize the output array and perform multiplication there. We can first implement the left array directly to the output array. Then, we can store the state of the right array to a variable, and per iteration update the state of the right array and directly multiply into the output array. Thus, the space complexity is constant. In addition, the time complexity is running three independent linear loops, so it is O(n) where n is the number of elements in the input array."
   ]
  },
  {
   "cell_type": "code",
   "execution_count": 7,
   "metadata": {},
   "outputs": [
    {
     "name": "stdout",
     "output_type": "stream",
     "text": [
      "L array: [1, 1, 2, 6]\n",
      "R array: [24, 12, 8, 6]\n",
      "test#0 passed\n",
      "L array: [1, 2, 8, 8, 40]\n",
      "R array: [60, 30, 120, 24, 40]\n",
      "test#1 passed\n"
     ]
    }
   ],
   "source": [
    "## Coding\n",
    "class Solution(object):\n",
    "    def productExceptSelf(self, nums):\n",
    "        \"\"\"\n",
    "        :type nums: List[int]\n",
    "        :rtype: List[int]\n",
    "        \"\"\"\n",
    "        output = [1] * len(nums)\n",
    "        # Apply left\n",
    "        for index in range(1, len(nums)):\n",
    "            output[index] = output[index - 1] * nums[index - 1]\n",
    "        # Apply right\n",
    "        R = 1\n",
    "        for index in range(len(nums)-2, -1, -1):\n",
    "            R *= nums[index+1]\n",
    "            output[index] *= R\n",
    "        return output\n",
    "    def unit_tests(self):\n",
    "        test_cases = [\n",
    "            [[1,2,3,4],[24,12,8,6]],\n",
    "            [[2,4,1,5,3],[60,30,120,24,40]]\n",
    "        ]\n",
    "        for index, tc in enumerate(test_cases):\n",
    "            output = self.productExceptSelf(tc[0])\n",
    "            assert output == tc[1], 'test#{0} failed'.format(index)\n",
    "            print('test#{0} passed'.format(index))\n",
    "Solution().unit_tests()"
   ]
  },
  {
   "cell_type": "markdown",
   "metadata": {},
   "source": [
    "## Reference\n",
    "- [Leetcode](https://leetcode.com/problems/product-of-array-except-self/)"
   ]
  },
  {
   "cell_type": "code",
   "execution_count": null,
   "metadata": {},
   "outputs": [],
   "source": []
  }
 ],
 "metadata": {
  "kernelspec": {
   "display_name": "Python 3",
   "language": "python",
   "name": "python3"
  },
  "language_info": {
   "codemirror_mode": {
    "name": "ipython",
    "version": 3
   },
   "file_extension": ".py",
   "mimetype": "text/x-python",
   "name": "python",
   "nbconvert_exporter": "python",
   "pygments_lexer": "ipython3",
   "version": "3.7.6"
  }
 },
 "nbformat": 4,
 "nbformat_minor": 4
}
