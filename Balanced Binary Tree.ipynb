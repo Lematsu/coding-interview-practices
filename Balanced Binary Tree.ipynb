{
 "cells": [
  {
   "cell_type": "markdown",
   "metadata": {},
   "source": [
    "# Balanced Binary Tree\n",
    "\n",
    "Given a binary tree, determine if it is height-balanced.\n",
    "\n",
    "For this problem, a height-balanced binary tree is defined as:\n",
    "\n",
    "a binary tree in which the left and right subtrees of every node differ in height by no more than 1.\n",
    "\n",
    " \n",
    "\n",
    "**Example 1:**\n",
    "```\n",
    "Given the following tree [3,9,20,null,null,15,7]:\n",
    "\n",
    "    3\n",
    "   / \\\n",
    "  9  20\n",
    "    /  \\\n",
    "   15   7\n",
    "Return true.\n",
    "```\n",
    "\n",
    "**Example 2:**\n",
    "```\n",
    "Given the following tree [1,2,2,3,3,null,null,4,4]:\n",
    "\n",
    "       1\n",
    "      / \\\n",
    "     2   2\n",
    "    / \\\n",
    "   3   3\n",
    "  / \\\n",
    " 4   4\n",
    "Return false.\n",
    "```"
   ]
  },
  {
   "cell_type": "markdown",
   "metadata": {},
   "source": [
    "## Communication\n",
    "\n",
    "We could approach this problem by traserving the tree with dfs and comparing the left and right path to see if there are node differences greater than 1. If at any point we encounter a node where the left and right path differ for more than 1, we could conclude that conclude we could return `False`. This distinction is possible by having a negative return value in case of the `False` case, and maintain a zero or positive integer value for all `True` cases. The time complexity of this algorithm is linear because we traverse over `n` number of nodes in $O(n)$. The space complexity is also linear in $O(n)$ because of the recursive stack maintained by the dfs algorithm."
   ]
  },
  {
   "cell_type": "code",
   "execution_count": 3,
   "metadata": {},
   "outputs": [
    {
     "name": "stdout",
     "output_type": "stream",
     "text": [
      "test#0 passed\n",
      "test#1 passed\n"
     ]
    }
   ],
   "source": [
    "## Coding\n",
    "# Definition for a binary tree node.\n",
    "class TreeNode(object):\n",
    "     def __init__(self, x):\n",
    "        self.val = x\n",
    "        self.left = None\n",
    "        self.right = None\n",
    "\n",
    "class Solution(object):\n",
    "    def isBalanced(self, root):\n",
    "        \"\"\"\n",
    "        :type root: TreeNode\n",
    "        :rtype: bool\n",
    "        \"\"\"\n",
    "        def dfs(node):\n",
    "            # leaf node\n",
    "            if node is None:\n",
    "                return 0\n",
    "            L, R = dfs(node.left), dfs(node.right)\n",
    "            if L == -1 or R == -1:\n",
    "                return -1\n",
    "            elif abs(L-R) > 1:\n",
    "                return -1\n",
    "            else:\n",
    "                return max(L,R) + 1\n",
    "        res = dfs(root)\n",
    "        return True if res >= 0 else False\n",
    "    def createTree(self, nums):\n",
    "        head = current = None\n",
    "        nums.insert(0, None)\n",
    "        queue = []\n",
    "        for i in range(1, len(nums)):\n",
    "            if head is None:\n",
    "                head = current = TreeNode(nums[i])\n",
    "            else:\n",
    "                current = queue.pop(0)\n",
    "                if current is None:\n",
    "                    continue\n",
    "            if i*2 < len(nums):\n",
    "                if nums[i*2] == None:\n",
    "                    current.left = None\n",
    "                else:\n",
    "                    current.left = TreeNode(nums[i*2])\n",
    "                queue.append(current.left)\n",
    "            if i*2 + 1 < len(nums):\n",
    "                if nums[i*2+1] == None:\n",
    "                    current.right = None\n",
    "                else:\n",
    "                    current.right = TreeNode(nums[i*2+1])\n",
    "                queue.append(current.right)\n",
    "        return head\n",
    "            \n",
    "    def unit_tests(self):\n",
    "        test_cases = [\n",
    "            [[3,9,20,None,None,15,7], True],\n",
    "            [[1,2,2,3,3,None,None,4,4], False]\n",
    "        ]\n",
    "        for index, tc in enumerate(test_cases):\n",
    "            head = self.createTree(tc[0])\n",
    "            output = self.isBalanced(head)\n",
    "            assert output == tc[1], 'test#{0} failed'.format(index)\n",
    "            print('test#{0} passed'.format(index))\n",
    "Solution().unit_tests()"
   ]
  },
  {
   "cell_type": "markdown",
   "metadata": {},
   "source": [
    "## Reference\n",
    "- [Leetcode](https://leetcode.com/problems/balanced-binary-tree/)"
   ]
  },
  {
   "cell_type": "code",
   "execution_count": null,
   "metadata": {},
   "outputs": [],
   "source": []
  }
 ],
 "metadata": {
  "kernelspec": {
   "display_name": "Python 3",
   "language": "python",
   "name": "python3"
  },
  "language_info": {
   "codemirror_mode": {
    "name": "ipython",
    "version": 3
   },
   "file_extension": ".py",
   "mimetype": "text/x-python",
   "name": "python",
   "nbconvert_exporter": "python",
   "pygments_lexer": "ipython3",
   "version": "3.7.6"
  }
 },
 "nbformat": 4,
 "nbformat_minor": 4
}
