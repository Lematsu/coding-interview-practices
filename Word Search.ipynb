{
 "cells": [
  {
   "cell_type": "markdown",
   "metadata": {},
   "source": [
    "# Word Search\n",
    "\n",
    "Given a 2D board and a word, find if the word exists in the grid.\n",
    "\n",
    "The word can be constructed from letters of sequentially adjacent cell, where \"adjacent\" cells are those horizontally or vertically neighboring. The same letter cell may not be used more than once.\n",
    "```\n",
    "Example:\n",
    "\n",
    "board =\n",
    "[\n",
    "  ['A','B','C','E'],\n",
    "  ['S','F','C','S'],\n",
    "  ['A','D','E','E']\n",
    "]\n",
    "\n",
    "Given word = \"ABCCED\", return true.\n",
    "Given word = \"SEE\", return true.\n",
    "Given word = \"ABCB\", return false.\n",
    "```\n",
    "\n",
    "Constraints:\n",
    "\n",
    "board and word consists only of lowercase and uppercase English letters.\n",
    "1 <= board.length <= 200\n",
    "1 <= board[i].length <= 200\n",
    "1 <= word.length <= 10^3"
   ]
  },
  {
   "cell_type": "markdown",
   "metadata": {},
   "source": [
    "## Communication\n",
    "\n",
    "Since we're working with a graph, we can iterate through the columns for every row. When we find the beginning of the given word in the board, we can recursively seek through all possible vertical and horizontal letters. After every found word, we want to keep track of all the letters we have visited. In addition, we need to keep track of all the found letters in the given word. We can store this if we've already visited a letter using a set we store the row and column indexes into the set. The run time complexity of this approach is expensive and exponential. Since we're iterating over the row and column, the run time complexity is $O(n*m)$ where n is the row and m is the column. If there exists the start of the given word, we also need $O(w)$ to iterate through the graph to find the given word where w is the length of the word. Therefore, the total runtime complexity is $O(n*m*w)$. The space complexity is linear, since we're creating the hash map of visited."
   ]
  },
  {
   "cell_type": "code",
   "execution_count": 16,
   "metadata": {},
   "outputs": [
    {
     "name": "stdout",
     "output_type": "stream",
     "text": [
      "test#0 passed\n",
      "test#1 passed\n",
      "test#2 passed\n"
     ]
    }
   ],
   "source": [
    "## Coding\n",
    "class Solution(object):\n",
    "    def exist(self, board, word):\n",
    "        \"\"\"\n",
    "        :type board: List[List[str]]\n",
    "        :type word: str\n",
    "        :rtype: bool\n",
    "        \"\"\"\n",
    "        visited = set()\n",
    "        def findWord(i, j, index):\n",
    "            if index < len(word) and (i,j) not in visited and board[i][j] == word[index]:\n",
    "                visited.add((i,j))\n",
    "                if index == len(word) - 1:\n",
    "                    return True\n",
    "                if i != 0 and findWord(i-1, j, index+1):\n",
    "                        return True\n",
    "                if i != len(board) - 1 and findWord(i+1, j, index+1):\n",
    "                    return True\n",
    "                if j != 0 and findWord(i, j-1, index+1):\n",
    "                    return True\n",
    "                if j != len(board[i]) - 1 and findWord(i, j+1, index+1):\n",
    "                    return True\n",
    "                visited.remove((i,j))\n",
    "            return False \n",
    "            \n",
    "        for row in range(len(board)):\n",
    "            for col in range(len(board[row])):\n",
    "                char = board[row][col]\n",
    "                if char == word[0]:\n",
    "                    if findWord(row,col,0):\n",
    "                        return True\n",
    "        return False\n",
    "\n",
    "    def unit_tests(self):\n",
    "        board = [\n",
    "          ['A','B','C','E'],\n",
    "          ['S','F','C','S'],\n",
    "          ['A','D','E','E']\n",
    "        ]\n",
    "        test_cases = [\n",
    "            [board, \"ABCCED\", True],\n",
    "            [board,  \"SEE\", True],\n",
    "            [board,  \"ABCB\", False]\n",
    "        ]\n",
    "        for index, tc in enumerate(test_cases):\n",
    "            output = self.exist(tc[0], tc[1])\n",
    "            assert output == tc[2], 'test#{0} failed'.format(index)\n",
    "            print('test#{0} passed'.format(index))\n",
    "Solution().unit_tests()\n",
    "                        "
   ]
  },
  {
   "cell_type": "markdown",
   "metadata": {},
   "source": [
    "## Reference\n",
    "- [Leetcode](https://leetcode.com/problems/word-search/)"
   ]
  },
  {
   "cell_type": "code",
   "execution_count": null,
   "metadata": {},
   "outputs": [],
   "source": []
  }
 ],
 "metadata": {
  "kernelspec": {
   "display_name": "Python 3",
   "language": "python",
   "name": "python3"
  },
  "language_info": {
   "codemirror_mode": {
    "name": "ipython",
    "version": 3
   },
   "file_extension": ".py",
   "mimetype": "text/x-python",
   "name": "python",
   "nbconvert_exporter": "python",
   "pygments_lexer": "ipython3",
   "version": "3.7.6"
  }
 },
 "nbformat": 4,
 "nbformat_minor": 4
}
