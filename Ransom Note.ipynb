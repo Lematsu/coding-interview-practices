{
 "cells": [
  {
   "cell_type": "markdown",
   "metadata": {},
   "source": [
    "# Ransom Note\n",
    "Givn an arbitrary ransom note string and another string containing letters from all the magazines, write a function that will return true if the ransom note can be constructed from the magazines; otherwise, it will return false.\n",
    "\n",
    "Each letter in the magazine string can only be used once in your ransom note.\n",
    "\n",
    "Note:\n",
    "\n",
    "You May assume that both strings contain only lowercase letters.\n",
    "\n",
    "```\n",
    "canConstruct('a', 'b') -> False\n",
    "canConstruct('aa','ab') -> False\n",
    "canConstruct('aa', 'aab') -> True\n",
    "```"
   ]
  },
  {
   "cell_type": "markdown",
   "metadata": {},
   "source": [
    "## Communication\n",
    "\n",
    "I would like to utilize a hash map in order to answer this question. If we store the letter as the key and the number of occurrences of said letter as the value, we could store the magazine as a hash map. By having this hash map, when we iterate over the ransom note, we could check if the magazine contains enough letters to be able to complete the ransom note.\n",
    "\n",
    "For instance, if given ransom note 'abcc' and magazine 'aabbcc', we could create the following hash map:\n",
    "```\n",
    "magazine = {'a': 2, 'b': 2, 'c'}\n",
    "```\n",
    "In our ransom note, we have one 'a', one 'b', and two 'c'. Therefore, we can complete the ransom note.\n",
    "\n",
    "We can check if the ransom note is completed by decrementing the count when a ransom note contains a letter in the magazine. If the letter is not contained in the magazine, we can conclude at that point that the ransom note cannot be completed. Similarly, if we do not have enough letters, meaning that if the count is below 0, we can also conclude at that point the ransom note is not completed."
   ]
  },
  {
   "cell_type": "code",
   "execution_count": 11,
   "metadata": {},
   "outputs": [
    {
     "name": "stdout",
     "output_type": "stream",
     "text": [
      "test#0 passed\n",
      "test#1 passed\n",
      "test#2 passed\n"
     ]
    }
   ],
   "source": [
    "## Coding\n",
    "\n",
    "def canConstruct(ransom_note, magazine):\n",
    "    # Create the word map\n",
    "    word_map = {}\n",
    "    for letter in magazine:\n",
    "        word_map[letter] = word_map.get(letter, 0) + 1\n",
    "    # Iterate over ransom_note\n",
    "    for letter in ransom_note:\n",
    "        # False case #1\n",
    "        if letter not in word_map:\n",
    "            return False\n",
    "        word_map[letter] -= 1\n",
    "        # False case #2\n",
    "        if word_map[letter] < 0:\n",
    "            return False\n",
    "    # Ransom_note was completed\n",
    "    return True\n",
    "\n",
    "def unit_test():\n",
    "    test_case = [['ab', 'c', False], ['ab', 'aab', True], ['aaab', 'bbb', False]]\n",
    "    for index, tc in enumerate(test_case):\n",
    "        output = canConstruct(tc[0], tc[1])\n",
    "        assert tc[2] == output, 'test#{0} failed'.format(index)\n",
    "        print('test#{0} passed'.format(index))\n",
    "\n",
    "unit_test()"
   ]
  },
  {
   "cell_type": "markdown",
   "metadata": {},
   "source": [
    "## Complexity\n",
    "\n",
    "Time Complexity: we have to iterate over every character in the string so O(n)\n",
    "\n",
    "Space Compleixty: we have to store the every character in a map, so O(n)"
   ]
  }
 ],
 "metadata": {
  "kernelspec": {
   "display_name": "Python 3",
   "language": "python",
   "name": "python3"
  },
  "language_info": {
   "codemirror_mode": {
    "name": "ipython",
    "version": 3
   },
   "file_extension": ".py",
   "mimetype": "text/x-python",
   "name": "python",
   "nbconvert_exporter": "python",
   "pygments_lexer": "ipython3",
   "version": "3.7.6"
  }
 },
 "nbformat": 4,
 "nbformat_minor": 4
}
