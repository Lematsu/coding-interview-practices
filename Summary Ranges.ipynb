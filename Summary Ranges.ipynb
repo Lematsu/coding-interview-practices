{
 "cells": [
  {
   "cell_type": "markdown",
   "metadata": {},
   "source": [
    "# Summary Ranges\n",
    "\n",
    "Given a sorted integer array without duplicates, return the summary of its ranges.\n",
    "\n",
    "**Example 1:**\n",
    "```\n",
    "Input:  [0,1,2,4,5,7]\n",
    "Output: [\"0->2\",\"4->5\",\"7\"]\n",
    "Explanation: 0,1,2 form a continuous range; 4,5 form a continuous range.\n",
    "```\n",
    "\n",
    "**Example 2:**\n",
    "```\n",
    "Input:  [0,2,3,4,6,8,9]\n",
    "Output: [\"0\",\"2->4\",\"6\",\"8->9\"]\n",
    "Explanation: 2,3,4 form a continuous range; 8,9 form a continuous range.\n",
    "```"
   ]
  },
  {
   "cell_type": "markdown",
   "metadata": {},
   "source": [
    "## Communication\n",
    "\n",
    "We could approach this problem using two pointers who left pointer keep track of the origins of the consecutive numbers, and the right pointer would keep track of where the consecutive numbers would end. In either case of consecutive numbers ending or reaching the end of the list, we want to be able to append single numbers or ranges to the result list. This approach takes time complexity $O(n)$ where n is the number of nodes since we iterate over every number once. The space complexity is $O(1)$ because we do not use any additional data structures other than constant pointers."
   ]
  },
  {
   "cell_type": "code",
   "execution_count": 2,
   "metadata": {},
   "outputs": [
    {
     "name": "stdout",
     "output_type": "stream",
     "text": [
      "test#0 passed\n",
      "test#1 passed\n"
     ]
    }
   ],
   "source": [
    "## Coding\n",
    "class Solution(object):\n",
    "    def summaryRanges(self, nums):\n",
    "        \"\"\"\n",
    "        :type nums: List[int]\n",
    "        :rtype: List[str]\n",
    "        \"\"\"\n",
    "        res = []\n",
    "        L = 0\n",
    "        N = len(nums)\n",
    "        for R in range(N):\n",
    "            append_flag = False\n",
    "            if R == N - 1:\n",
    "                append_flag = True\n",
    "            elif R + 1 < N and nums[R + 1] - nums[R] > 1:\n",
    "                append_flag = True\n",
    "\n",
    "            if append_flag:\n",
    "                if L == R:\n",
    "                    res.append(str(nums[R]))\n",
    "                    if R != N - 1: L += 1\n",
    "                else:\n",
    "                    res.append('{0}->{1}'.format(nums[L], nums[R]))\n",
    "                    L = R + 1\n",
    "        return res\n",
    "    def compareLists(self, lst1, lst2):\n",
    "        if len(lst1) != len(lst2):\n",
    "            return False\n",
    "        for i in range(len(lst1)):\n",
    "            if lst1[i] != lst2[i]:\n",
    "                return False\n",
    "        return True\n",
    "    def unit_tests(self):\n",
    "        test_cases = [\n",
    "            [[0,1,2,4,5,7], [\"0->2\",\"4->5\",\"7\"]],\n",
    "            [[0,2,3,4,6,8,9], [\"0\",\"2->4\",\"6\",\"8->9\"]]\n",
    "        ]\n",
    "        for index, tc in enumerate(test_cases):\n",
    "            output = self.summaryRanges(tc[0])\n",
    "            assert self.compareLists(output, tc[1]), 'test#{0} failed'.format(index)\n",
    "            print('test#{0} passed'.format(index))\n",
    "Solution().unit_tests()"
   ]
  },
  {
   "cell_type": "markdown",
   "metadata": {},
   "source": [
    "## Reference\n",
    "- [Leetcode](https://leetcode.com/problems/summary-ranges/)"
   ]
  },
  {
   "cell_type": "code",
   "execution_count": null,
   "metadata": {},
   "outputs": [],
   "source": []
  }
 ],
 "metadata": {
  "kernelspec": {
   "display_name": "Python 3",
   "language": "python",
   "name": "python3"
  },
  "language_info": {
   "codemirror_mode": {
    "name": "ipython",
    "version": 3
   },
   "file_extension": ".py",
   "mimetype": "text/x-python",
   "name": "python",
   "nbconvert_exporter": "python",
   "pygments_lexer": "ipython3",
   "version": "3.7.6"
  }
 },
 "nbformat": 4,
 "nbformat_minor": 4
}
