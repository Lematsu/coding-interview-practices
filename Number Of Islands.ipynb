{
 "cells": [
  {
   "cell_type": "markdown",
   "metadata": {},
   "source": [
    "# Number of Islands\n",
    "\n",
    "Given a 2d grid map of '1's (land) and '0's (water), count the number of islands. An island is surrounded by water and is formed by connecting adjacent lands horizontally or vertically. You may assume all four edges of the grid are all surrounded by water.\n",
    "\n",
    "**Example 1:**\n",
    "```\n",
    "Input:\n",
    "11110\n",
    "11010\n",
    "11000\n",
    "00000\n",
    "\n",
    "Output: 1\n",
    "```\n",
    "**Example 2:**\n",
    "```\n",
    "Input:\n",
    "11000\n",
    "11000\n",
    "00100\n",
    "00011\n",
    "\n",
    "Output: 3\n",
    "```"
   ]
  },
  {
   "cell_type": "markdown",
   "metadata": {},
   "source": [
    "## Communication\n",
    "\n",
    "We could approach this problem using bfs methodology because we're interested in the neighboring cells of a non-visited island cell. By using bfs, we could check for all continuous cells and mark all traversed cells as visited. By identifying which cells we've already visited, we could count the number of independent islands. During our bfs, we only append queue x-y coordinates only if the traversed neighboring cell is an island. The time complexity of this algorithm is $O(n^2)$ because we need to iterate over every cell and run bfs on island cells. The space complexity of this algorithm is $O(n)$ because of the visiting matrix where n is the number of cells."
   ]
  },
  {
   "cell_type": "code",
   "execution_count": 7,
   "metadata": {},
   "outputs": [
    {
     "name": "stdout",
     "output_type": "stream",
     "text": [
      "test#0 passed\n",
      "test#1 passed\n"
     ]
    }
   ],
   "source": [
    "class Solution(object):\n",
    "    def numIslands(self, grid):\n",
    "        \"\"\"\n",
    "        :type grid: List[List[str]]\n",
    "        :rtype: int\n",
    "        \"\"\"\n",
    "        if not grid:\n",
    "            return 0\n",
    "        rows = len(grid)\n",
    "        cols = len(grid[0])\n",
    "        visited = [[False for _ in range(cols)] for _ in range(rows)]\n",
    "        def bfs(r, c):\n",
    "            queue = [(r, c)]\n",
    "            while queue:\n",
    "                r, c = queue.pop(0)\n",
    "                for dr, dc in ((1,0), (-1,0), (0,1), (0,-1)):\n",
    "                    nr, nc = dr + r, dc + c\n",
    "                    if 0 <= nr < rows and 0 <= nc < cols and not visited[nr][nc]:\n",
    "                        if grid[nr][nc] == 1:\n",
    "                            queue.append((nr,nc))\n",
    "                        visited[nr][nc] = True\n",
    "        count = 0\n",
    "        for r in range(rows):\n",
    "            for c in range(cols):\n",
    "                if not visited[r][c]:\n",
    "                    visited[r][c] = True\n",
    "                    if grid[r][c] == 1:\n",
    "                        count += 1\n",
    "                        bfs(r, c)\n",
    "        return count\n",
    "    def unit_tests(self):\n",
    "        test_cases = [\n",
    "            [[[1,1,1,1,0],[1,1,0,1,0],[1,1,0,0,0],[0,0,0,0,0]], 1],\n",
    "            [[[1,1,0,0,0],[1,1,0,0,0],[0,0,1,0,0],[0,0,0,1,1]], 3]\n",
    "        ]\n",
    "        for index, tc in enumerate(test_cases):\n",
    "            output = self.numIslands(tc[0])\n",
    "            assert output == tc[1], 'test#{0} failed'.format(index)\n",
    "            print('test#{0} passed'.format(index))\n",
    "Solution().unit_tests()"
   ]
  },
  {
   "cell_type": "markdown",
   "metadata": {},
   "source": [
    "## Reference\n",
    "- [Leetcode](https://leetcode.com/problems/number-of-islands/)"
   ]
  },
  {
   "cell_type": "code",
   "execution_count": null,
   "metadata": {},
   "outputs": [],
   "source": []
  }
 ],
 "metadata": {
  "kernelspec": {
   "display_name": "Python 3",
   "language": "python",
   "name": "python3"
  },
  "language_info": {
   "codemirror_mode": {
    "name": "ipython",
    "version": 3
   },
   "file_extension": ".py",
   "mimetype": "text/x-python",
   "name": "python",
   "nbconvert_exporter": "python",
   "pygments_lexer": "ipython3",
   "version": "3.7.6"
  }
 },
 "nbformat": 4,
 "nbformat_minor": 4
}
