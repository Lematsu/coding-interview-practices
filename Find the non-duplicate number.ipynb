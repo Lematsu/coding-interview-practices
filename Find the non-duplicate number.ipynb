{
 "cells": [
  {
   "cell_type": "markdown",
   "metadata": {},
   "source": [
    "# Find the non-duplicate number\n",
    "\n",
    "Given a list of array, every number is duplicated except one. Find the non-duplicate number.\n",
    "```\n",
    "Example:\n",
    "\n",
    "[4,3,2,4,1,3,2] -> 1\n",
    "```"
   ]
  },
  {
   "cell_type": "markdown",
   "metadata": {},
   "source": [
    "## Communication\n",
    "\n",
    "I would be using the XOR operator to find the unique element within the duplicate numbers. The XOR is useful because it will only return the unique number within a set of duplicate numbers. The time complexity of this will be linear time, and the space complexity will be constant because all we need to do is loop over the list once and XOR incrementally all the elements together."
   ]
  },
  {
   "cell_type": "code",
   "execution_count": 2,
   "metadata": {},
   "outputs": [
    {
     "name": "stdout",
     "output_type": "stream",
     "text": [
      "test#0 passed\n"
     ]
    }
   ],
   "source": [
    "## Coding\n",
    "\n",
    "class Solution(object):\n",
    "    def find_non_duplicate(self, nums):\n",
    "        unique = 0\n",
    "        for n in nums:\n",
    "            unique ^= n\n",
    "        return unique\n",
    "    def unit_tests(self):\n",
    "        test_cases = [ [[4,3,2,4,1,3,2], 1] ]\n",
    "        for index, tc in enumerate(test_cases):\n",
    "            output = self.find_non_duplicate(tc[0])\n",
    "            assert output == tc[1], 'test#{0} failed'.format(index)\n",
    "            print('test#{0} passed'.format(index))\n",
    "\n",
    "Solution().unit_tests()"
   ]
  },
  {
   "cell_type": "code",
   "execution_count": null,
   "metadata": {},
   "outputs": [],
   "source": []
  }
 ],
 "metadata": {
  "kernelspec": {
   "display_name": "Python 3",
   "language": "python",
   "name": "python3"
  },
  "language_info": {
   "codemirror_mode": {
    "name": "ipython",
    "version": 3
   },
   "file_extension": ".py",
   "mimetype": "text/x-python",
   "name": "python",
   "nbconvert_exporter": "python",
   "pygments_lexer": "ipython3",
   "version": "3.7.6"
  }
 },
 "nbformat": 4,
 "nbformat_minor": 4
}
