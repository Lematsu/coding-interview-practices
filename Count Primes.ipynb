{
 "cells": [
  {
   "cell_type": "markdown",
   "metadata": {},
   "source": [
    "# Count Primes\n",
    "\n",
    "```\n",
    "Count the number of prime numbers less than a non-negative number, n.\n",
    "\n",
    "Example:\n",
    "\n",
    "Input: 10\n",
    "Output: 4\n",
    "Explanation: There are 4 prime numbers less than 10, they are 2, 3, 5, 7.\n",
    "```\n"
   ]
  },
  {
   "cell_type": "markdown",
   "metadata": {},
   "source": [
    "## Communication\n",
    "\n",
    "*Brute Force* To solve this question, we could iterate over the range of numbers from 0 to input, incrementing by one, checking if the iterating number is a prime number. As stated above, prime numbers less than 10 are 2, 3, 5, and 7. If given these values, we could add them to the result prime number list. If the number is larger than 10, we could check if the given number is disible by all the previous prime numbers found. If the iterative number is not divisible by the past prime numbers, then it is not a prime number. If it is, then it is not a prime number and we could continue the iteration. The time complexity of this algorithm is O(n * p) where n is the given input number and p is the number of prime numbers in the given n. The space complexity is O(p) where p is the number of prime numbers found in the given input number."
   ]
  },
  {
   "cell_type": "code",
   "execution_count": 3,
   "metadata": {},
   "outputs": [
    {
     "name": "stdout",
     "output_type": "stream",
     "text": [
      "test#0 passed\n",
      "test#1 passed\n",
      "test#2 passed\n"
     ]
    }
   ],
   "source": [
    "## Coding\n",
    "class Solution(object):\n",
    "    def countPrimes(self, n):\n",
    "        \"\"\"\n",
    "        :type n: int\n",
    "        :rtype: int\n",
    "        \"\"\"\n",
    "        if n == 0 or n == 1 or n == 2:\n",
    "            return 0\n",
    "        p = [2]\n",
    "        for number in range(3, n):\n",
    "            divisible = False\n",
    "            for d in p:\n",
    "                if number % d == 0:\n",
    "                    divisible = True\n",
    "            if not divisible:\n",
    "                p.append(number)\n",
    "        return len(p)\n",
    "    def unit_tests(self):\n",
    "        test_cases = [\n",
    "            [2, 0],\n",
    "            [3, 1],\n",
    "            [10, 4]\n",
    "        ]\n",
    "        for index, tc in enumerate(test_cases):\n",
    "            output = self.countPrimes(tc[0])\n",
    "            assert output == tc[1], 'test#{0} failed'.format(index)\n",
    "            print('test#{0} passed'.format(index))\n",
    "Solution().unit_tests()"
   ]
  },
  {
   "cell_type": "markdown",
   "metadata": {},
   "source": [
    "## Communication\n",
    "\n",
    "*Effiecient Way* We can improve our efficiency by using the Siece of Eratosthenes method. This method states that we can mark off all numbers divisible by p in order to reduce the number of process iterations. When we're markingnumbers off, the general formula is to start marking off $p^2 + i*p$ where $p$ is the discovered prime number and $i$ is the number of iterations until we reach a termination condition. The termination condition can also be updated from $i < n$ to $i < n^{1/2}$ because all non-prime numbers that are $>= n^{1/2}$ are already marked off. With this method, our time complexity is reduced to $O(n log log n)$ and the space complexity is $O(n)$. "
   ]
  },
  {
   "cell_type": "code",
   "execution_count": 11,
   "metadata": {},
   "outputs": [
    {
     "name": "stdout",
     "output_type": "stream",
     "text": [
      "output: 0\n",
      "test#0 passed\n",
      "output: 1\n",
      "test#1 passed\n",
      "output: 4\n",
      "test#2 passed\n"
     ]
    }
   ],
   "source": [
    "## Coding\n",
    "class Solution(object):\n",
    "    def countPrimes(self, n):\n",
    "        \"\"\"\n",
    "        :type n: int\n",
    "        :rtype: int\n",
    "        \"\"\"\n",
    "        p = [1]*n\n",
    "        res = 0\n",
    "        for i in range(2,n):\n",
    "            if p[i]: \n",
    "                res+=1\n",
    "                j = 2\n",
    "                while j*i<n:\n",
    "                    p[i*j] = 0\n",
    "                    j+=1\n",
    "        return res\n",
    "        \n",
    "        \n",
    "    def unit_tests(self):\n",
    "        test_cases = [\n",
    "            [2, 0],\n",
    "            [3, 1],\n",
    "            [10, 4]\n",
    "        ]\n",
    "        for index, tc in enumerate(test_cases):\n",
    "            output = self.countPrimes(tc[0])\n",
    "            print('output: {0}'.format(output))\n",
    "            assert output == tc[1], 'test#{0} failed'.format(index)\n",
    "            print('test#{0} passed'.format(index))\n",
    "Solution().unit_tests()"
   ]
  },
  {
   "cell_type": "markdown",
   "metadata": {},
   "source": [
    "## Reference\n",
    "- [Leetcode](https://leetcode.com/problems/count-primes/)"
   ]
  },
  {
   "cell_type": "code",
   "execution_count": null,
   "metadata": {},
   "outputs": [],
   "source": []
  }
 ],
 "metadata": {
  "kernelspec": {
   "display_name": "Python 3",
   "language": "python",
   "name": "python3"
  },
  "language_info": {
   "codemirror_mode": {
    "name": "ipython",
    "version": 3
   },
   "file_extension": ".py",
   "mimetype": "text/x-python",
   "name": "python",
   "nbconvert_exporter": "python",
   "pygments_lexer": "ipython3",
   "version": "3.7.6"
  }
 },
 "nbformat": 4,
 "nbformat_minor": 4
}
