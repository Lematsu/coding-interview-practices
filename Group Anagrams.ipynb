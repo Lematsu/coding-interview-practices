{
 "cells": [
  {
   "cell_type": "markdown",
   "metadata": {},
   "source": [
    "# Group Anagrams\n",
    "\n",
    "Given an array of strings, group anagrams together.\n",
    "\n",
    "**Example:**\n",
    "```\n",
    "Input: [\"eat\", \"tea\", \"tan\", \"ate\", \"nat\", \"bat\"],\n",
    "Output:\n",
    "[\n",
    "  [\"ate\",\"eat\",\"tea\"],\n",
    "  [\"nat\",\"tan\"],\n",
    "  [\"bat\"]\n",
    "]\n",
    "```\n",
    "Note:\n",
    "\n",
    "All inputs will be in lowercase.\n",
    "The order of your output does not matter."
   ]
  },
  {
   "cell_type": "markdown",
   "metadata": {},
   "source": [
    "## Communication\n",
    "\n",
    "We could approach this problem using a hash map by storing a sorted anagram as a key and all words that set the anagram as a value list. To create this hash map, we could iterate over every word, sort the word to check if the word is in the hash map, and add the word to the correct anagram key. After we complete creating the hash map, we could return all the values in the list. The time complexity of this algorithm is O$(n log n)$ since for every word $O(n)$, we need to sort the word which takes $O(log n)$, therefore taking $O(n log n)$.The space complexity is $O(n)$ since we have to store every word into a list."
   ]
  },
  {
   "cell_type": "code",
   "execution_count": 12,
   "metadata": {},
   "outputs": [
    {
     "name": "stdout",
     "output_type": "stream",
     "text": [
      "test#0 passed\n"
     ]
    }
   ],
   "source": [
    "## Coding\n",
    "class Solution(object):\n",
    "    def groupAnagrams(self, strs):\n",
    "        \"\"\"\n",
    "        :type strs: List[str]\n",
    "        :rtype: List[List[str]]\n",
    "        \"\"\"\n",
    "        anagrams = {}\n",
    "        for word in strs:\n",
    "            sort = ''.join(sorted(word))\n",
    "            if sort in anagrams:\n",
    "                anagrams[sort].append(word)\n",
    "            else:\n",
    "                anagrams[sort] = [word]\n",
    "        return list(anagrams.values())\n",
    "\n",
    "    def compareLists(self, lst1, lst2):\n",
    "        if len(lst1) != len(lst2):\n",
    "            return False\n",
    "        else:\n",
    "            for i in range(len(lst1)):\n",
    "                found = False\n",
    "                for j in range(len(lst1[0])):\n",
    "                    if set(lst1[i]) == set(lst2[j]):\n",
    "                        found = True\n",
    "                if not found:\n",
    "                    return False\n",
    "        return True\n",
    "\n",
    "    def unit_tests(self):\n",
    "        test_cases = [\n",
    "            [[\"eat\",\"tea\",\"tan\",\"ate\",\"nat\",\"bat\"], [[\"bat\"],[\"nat\",\"tan\"],[\"ate\",\"eat\",\"tea\"]]]\n",
    "        ]\n",
    "        for index, tc in enumerate(test_cases):\n",
    "            output = self.groupAnagrams(tc[0])\n",
    "            assert self.compareLists(output, tc[1]), 'test#{0} failed'.format(index)\n",
    "            print('test#{0} passed'.format(index))\n",
    "Solution().unit_tests()"
   ]
  },
  {
   "cell_type": "markdown",
   "metadata": {},
   "source": [
    "## Reference\n",
    "- [Leetcode](https://leetcode.com/problems/group-anagrams/)"
   ]
  },
  {
   "cell_type": "code",
   "execution_count": null,
   "metadata": {},
   "outputs": [],
   "source": []
  }
 ],
 "metadata": {
  "kernelspec": {
   "display_name": "Python 3",
   "language": "python",
   "name": "python3"
  },
  "language_info": {
   "codemirror_mode": {
    "name": "ipython",
    "version": 3
   },
   "file_extension": ".py",
   "mimetype": "text/x-python",
   "name": "python",
   "nbconvert_exporter": "python",
   "pygments_lexer": "ipython3",
   "version": "3.7.6"
  }
 },
 "nbformat": 4,
 "nbformat_minor": 4
}
