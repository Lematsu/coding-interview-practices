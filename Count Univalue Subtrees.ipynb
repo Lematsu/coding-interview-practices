{
 "cells": [
  {
   "cell_type": "markdown",
   "metadata": {},
   "source": [
    "#  Count Univalue Subtrees\n",
    "\n",
    "Given a binary tree, count the number of uni-value subtrees.\n",
    "\n",
    "A Uni-value subtree means all nodes of the subtree have the same value.\n",
    "\n",
    "**Example:**\n",
    "```\n",
    "Input:  root = [5,1,5,5,5,null,5]\n",
    "\n",
    "              5\n",
    "             / \\\n",
    "            1   5\n",
    "           / \\   \\\n",
    "          5   5   5\n",
    "\n",
    "Output: 4\n",
    "```"
   ]
  },
  {
   "cell_type": "markdown",
   "metadata": {},
   "source": [
    "## Communication\n",
    "\n",
    "We could approach this problem by traversing the tree with dfs and counting the conditions where the subtrees are univalue. There are four possible cases when subtrees are univalue.\n",
    "```\n",
    "L = left node, R = right node, C = current node\n",
    "------------------------------------------------------------\n",
    "1. L and R are both None\n",
    "2. L and R and C are not None and all hold equivalent values\n",
    "3. L is None but R and C are not None and hold equivalent values\n",
    "4. R is None but L and C are not None and hold equivalent values\n",
    "```\n",
    "With these above conditions, we could increment counters to know how many subtrees we find. In the recursive stack of dfs, we want to return boolean values to determine if the subsequent calls resolved in either a subtree or not. To determine the values the nodes hold, we could simply check if the nodes are None values or not, and then use the object fields to access the values. With this implementation, the time complexity is $O(n)$ where n is the number of nodes because we need to traverse all nodes within the graph. The space complexity is also linear and $O(n)$ because of the recursive stack stored."
   ]
  },
  {
   "cell_type": "code",
   "execution_count": 33,
   "metadata": {},
   "outputs": [
    {
     "name": "stdout",
     "output_type": "stream",
     "text": [
      "test#0 passed\n",
      "test#1 passed\n"
     ]
    }
   ],
   "source": [
    "## Coding\n",
    "# Definition for a binary tree node.\n",
    "\n",
    "class TreeNode(object):\n",
    "    def __init__(self, x):\n",
    "        self.val = x\n",
    "        self.left = None\n",
    "        self.right = None\n",
    "\n",
    "class Solution(object):\n",
    "    def countUnivalSubtrees(self, root):\n",
    "        \"\"\"\n",
    "        :type root: TreeNode\n",
    "        :rtype: int\n",
    "        \"\"\"\n",
    "        if root is None:\n",
    "            return 0\n",
    "        self.count = 0\n",
    "        def dfs(node):\n",
    "            if node is None:\n",
    "                return True\n",
    "            left, right = dfs(node.left), dfs(node.right)\n",
    "            if left and right:\n",
    "                L, R = node.left, node.right\n",
    "                if L is None and R is None:\n",
    "                    self.count += 1\n",
    "                    return True\n",
    "                elif L is None and R is not None:\n",
    "                    if R.val == node.val:\n",
    "                        self.count += 1\n",
    "                        return True\n",
    "                    return False\n",
    "                elif R is None and L is not None:\n",
    "                    if L.val == node.val:\n",
    "                        self.count += 1\n",
    "                        return True\n",
    "                    return False\n",
    "                else:\n",
    "                    if R.val == L.val and L.val == node.val:\n",
    "                        self.count += 1\n",
    "                        return True\n",
    "                    return False\n",
    "        dfs(root)\n",
    "        return self.count\n",
    "    def createTree(self, nums):\n",
    "        # Function to insert nodes in level order  \n",
    "        def insertLevelOrder(arr, root, i, n): \n",
    "\n",
    "            # Base case for recursion  \n",
    "            if i < n: \n",
    "                temp = TreeNode(arr[i])  \n",
    "                root = temp  \n",
    "\n",
    "                # insert left child  \n",
    "                root.left = insertLevelOrder(arr, root.left, \n",
    "                                             2 * i + 1, n)  \n",
    "\n",
    "                # insert right child  \n",
    "                root.right = insertLevelOrder(arr, root.right, \n",
    "                                              2 * i + 2, n) \n",
    "            return root \n",
    "        n = len(nums) \n",
    "        root = None\n",
    "        root = insertLevelOrder(nums, root, 0, n)  \n",
    "        \n",
    "        return root\n",
    "            \n",
    "    def unit_tests(self):\n",
    "        test_cases = [\n",
    "            [[5,1,5,5,5,None,5], 4],\n",
    "            [[0,1,0,None,None,1,0,1,1], 5]\n",
    "        ]\n",
    "        for index, tc in enumerate(test_cases):\n",
    "            head = self.createTree(tc[0])\n",
    "            output = self.countUnivalSubtrees(head)\n",
    "            assert output == tc[1], 'test#{0} failed'.format(index)\n",
    "            print('test#{0} passed'.format(index))\n",
    "Solution().unit_tests()              "
   ]
  },
  {
   "cell_type": "markdown",
   "metadata": {},
   "source": [
    "## Reference\n",
    "- [Leetcode](https://leetcode.com/problems/count-univalue-subtrees/)"
   ]
  },
  {
   "cell_type": "code",
   "execution_count": null,
   "metadata": {},
   "outputs": [],
   "source": []
  }
 ],
 "metadata": {
  "kernelspec": {
   "display_name": "Python 3",
   "language": "python",
   "name": "python3"
  },
  "language_info": {
   "codemirror_mode": {
    "name": "ipython",
    "version": 3
   },
   "file_extension": ".py",
   "mimetype": "text/x-python",
   "name": "python",
   "nbconvert_exporter": "python",
   "pygments_lexer": "ipython3",
   "version": "3.7.6"
  }
 },
 "nbformat": 4,
 "nbformat_minor": 4
}
