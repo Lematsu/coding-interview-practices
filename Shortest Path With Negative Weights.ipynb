{
 "cells": [
  {
   "cell_type": "markdown",
   "metadata": {},
   "source": [
    "# Shortest Path With Negative Weights\n",
    "\n",
    "There are different ways to reach from one chemical A to another chemical B, each method will have sub-reactions involving both heat dissipation and absorption. If we want to find the set of reactions where minimum energy is required, then we will need to be able to factor in the ehat absorption as negative weights and heat dissipation as positive weights. Find the minimum path from chemical A to chemical B.\n",
    "![alt text](bellman_ford.png)"
   ]
  },
  {
   "cell_type": "markdown",
   "metadata": {},
   "source": [
    "## Communication\n",
    "We could approach this problem using the Bellman Ford's algorithm. The Bellman Ford algorithm works by overestimating the length of the path from the starting vertex to all other vertices. Then it iteratively relaxes those estimates by finding new paths that are shorter than the previously overestimated paths. By doing this repeatedly for all vertices, we are able to guarantee that the end result is optimized.\n",
    "The algorithm works as follows:\n",
    "```\n",
    "1.) Choose a starting vertex and assign infinity path values to all other vertices.\n",
    "2.) Visit each edge and relatx the path distances if they are less than what is previously stored\n",
    "3.) We need to do this V times because in the worst case, a vertex's path length might need to be readjusted V times.\n",
    "4.) Notice how the vertex at the top right corner had its path length adjusted\n",
    "5.) After all the vertices have their path lengths, we check if a negative cycle is present.\n",
    "```\n",
    "\n",
    "The time complexity of this algorithm is $O(V*E)$ where $V$ is the number of vertices and $E$ is the number of edges. For every iteration of $V$, we have a nested iteration of all of the edges $E$, therefore we have the time complexity of $O(V*E)$. The space complexity is $O(E)$ or $O(V)$ since we need to store the graph and the list of vertice shortest distnace."
   ]
  },
  {
   "cell_type": "code",
   "execution_count": 7,
   "metadata": {},
   "outputs": [
    {
     "name": "stdout",
     "output_type": "stream",
     "text": [
      "test#0 passed\n"
     ]
    }
   ],
   "source": [
    "class Solution(object):\n",
    "    # edges = [[u_0, v_0, c_0], [u_1, v_1, c_1]]\n",
    "    def shortestPath(self, edges):\n",
    "        # create data structures\n",
    "        costs = {} # (u,v): c\n",
    "        vertices = []\n",
    "        for u, v, c in edges:\n",
    "            costs[(u,v)] = c\n",
    "            if u not in vertices:\n",
    "                vertices.append(u)\n",
    "            if v not in vertices:\n",
    "                vertices.append(v)\n",
    "        for index in range(len(vertices)-1):\n",
    "            if index == 0:\n",
    "                vertices[index] = 0\n",
    "            else:\n",
    "                vertices[index] = float('inf')\n",
    "        # process\n",
    "        for i in range(len(vertices)):\n",
    "            for edge, cost in costs.items():\n",
    "                u, v = edge\n",
    "                # relax edges\n",
    "                if vertices[u] + cost < vertices[v]:\n",
    "                    vertices[v] = vertices[u] + cost\n",
    "        # check for negative cycles\n",
    "        for edge, cost in costs.items():\n",
    "            u, v = edge\n",
    "            if vertices[u] != float('inf') and vertices[u] + cost < vertices[v]:\n",
    "                return None\n",
    "        return vertices[-1]\n",
    "    def unit_tests(self):\n",
    "        test_cases = [\n",
    "            [[(0,1,4), (0,2,3), (1,2,3), (1,3,3), (1,4,2), (2,1,1), (2,3,5), (2,4,4), (3,4,-5)], 2]\n",
    "        ]\n",
    "        for index, tc in enumerate(test_cases):\n",
    "            output = self.shortestPath(tc[0])\n",
    "            assert output == tc[1], 'test#{0} failed'.format(index)\n",
    "            print('test#{0} passed'.format(index))\n",
    "Solution().unit_tests()"
   ]
  },
  {
   "cell_type": "code",
   "execution_count": null,
   "metadata": {},
   "outputs": [],
   "source": []
  }
 ],
 "metadata": {
  "kernelspec": {
   "display_name": "Python 3",
   "language": "python",
   "name": "python3"
  },
  "language_info": {
   "codemirror_mode": {
    "name": "ipython",
    "version": 3
   },
   "file_extension": ".py",
   "mimetype": "text/x-python",
   "name": "python",
   "nbconvert_exporter": "python",
   "pygments_lexer": "ipython3",
   "version": "3.7.6"
  }
 },
 "nbformat": 4,
 "nbformat_minor": 4
}
