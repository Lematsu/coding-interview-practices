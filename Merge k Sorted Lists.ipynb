{
 "cells": [
  {
   "cell_type": "markdown",
   "metadata": {},
   "source": [
    "# Merge k Sorted Lists\n",
    "\n",
    "Merge k sorted linked lists and return it as one sorted list. Analyze and describe its complexity.\n",
    "```\n",
    "Example:\n",
    "Input:\n",
    "[\n",
    "  1->4->5,\n",
    "  1->3->4,\n",
    "  2->6\n",
    "]\n",
    "Output: 1->1->2->3->4->4->5->6\n",
    "```"
   ]
  },
  {
   "cell_type": "markdown",
   "metadata": {},
   "source": [
    "## Communication\n",
    "\n",
    "We could approach this problem with two-way merging. Given a list of linked lists, we could combine every two linked lists into one linked lists, and continue to do so until we only have one single linked list. If we're given an odd number of linked lists that is not one, we could just bring the extra linked list to the next iteration. The time complexity of this algorith is O(n log k) where n is the number of nodes and k is the number of linked lists. Merging the linked list is O(n log k) because we're combining two linked lists in the list. The space complexity is O(n) for n nodes in merged linked list."
   ]
  },
  {
   "cell_type": "code",
   "execution_count": 3,
   "metadata": {},
   "outputs": [
    {
     "name": "stdout",
     "output_type": "stream",
     "text": [
      "test#0 passed\n"
     ]
    }
   ],
   "source": [
    "## Coding\n",
    "\n",
    "# Definition for singly-linked list.\n",
    "# class ListNode(object):\n",
    "#     def __init__(self, x):\n",
    "#         self.val = x\n",
    "#         self.next = None\n",
    "\n",
    "class ListNode(object):\n",
    "    def __init__(self, x):\n",
    "        self.val = x\n",
    "        self.next = None\n",
    "\n",
    "class Solution(object):\n",
    "    def mergeKLists(self, lists):\n",
    "        \"\"\"\n",
    "        :type lists: List[ListNode]\n",
    "        :rtype: ListNode\n",
    "        \"\"\"\n",
    "        def mergeTwoLists(l1, l2):\n",
    "            res = None\n",
    "            head = None\n",
    "            while (l1 is not None) and (l2 is not None):\n",
    "                current_node = None\n",
    "                if l1.val < l2.val:\n",
    "                    current_node = l1\n",
    "                    l1 = l1.next\n",
    "                else:\n",
    "                    current_node = l2\n",
    "                    l2 = l2.next\n",
    "                if res is None:\n",
    "                    res = current_node\n",
    "                    head = current_node\n",
    "                else:\n",
    "                    res.next = current_node\n",
    "                    res = res.next\n",
    "            while (l1 is not None):\n",
    "                if res is None:\n",
    "                    res = l1\n",
    "                    head = l1\n",
    "                else:\n",
    "                    res.next = l1\n",
    "                    res = res.next\n",
    "                l1 = l1.next\n",
    "            while (l2 is not None):\n",
    "                if res is None:\n",
    "                    res = l2\n",
    "                    head = l2\n",
    "                else:\n",
    "                    res.next = l2\n",
    "                    res = res.next\n",
    "                l2 = l2.next\n",
    "            return head\n",
    "        if not lists:\n",
    "            return None\n",
    "        amount = len(lists)\n",
    "        interval = 1\n",
    "        while interval < amount:\n",
    "            for i in range(0, amount - interval, interval*2):\n",
    "                lists[i] = mergeTwoLists(lists[i], lists[i+interval])\n",
    "                interval *= 2\n",
    "        return lists[0] if amount > 0 else lists\n",
    "    def _createLinkedList(self, nums):\n",
    "        head = None\n",
    "        current_node = None\n",
    "        for n in nums:\n",
    "            if head is None:\n",
    "                head = ListNode(n)\n",
    "                current_node = head\n",
    "            else:\n",
    "                current_node.next = ListNode(n)\n",
    "                current_node = current_node.next\n",
    "        return head\n",
    "    def _createList(self, node):\n",
    "        res = []\n",
    "        while node is not None:\n",
    "            res.append(node.val)\n",
    "            node = node.next\n",
    "        return res\n",
    "    def unit_tests(self):\n",
    "        test_cases = [\n",
    "            [[[1,4,5],[1,3,4],[2,6]], [1,1,2,3,4,4,5,6]]\n",
    "        ]\n",
    "        for index, tc in enumerate(test_cases):\n",
    "            linkedLists_list = []\n",
    "            for linkedList in tc[0]:\n",
    "                ll = self._createLinkedList(linkedList)\n",
    "                just_l = self._createList(ll)\n",
    "                assert just_l == linkedList, 'bad data'\n",
    "                linkedLists_list.append(ll)\n",
    "                \n",
    "            output = self.mergeKLists(linkedLists_list)\n",
    "            output = self._createList(output)\n",
    "            assert output == tc[1], 'test#{0} failed'.format(index)\n",
    "            print('test#{0} passed'.format(index))\n",
    "Solution().unit_tests()"
   ]
  },
  {
   "cell_type": "markdown",
   "metadata": {},
   "source": [
    "## Reference\n",
    "- [Leetcode](https://leetcode.com/problems/merge-k-sorted-lists/)"
   ]
  },
  {
   "cell_type": "code",
   "execution_count": null,
   "metadata": {},
   "outputs": [],
   "source": []
  }
 ],
 "metadata": {
  "kernelspec": {
   "display_name": "Python 3",
   "language": "python",
   "name": "python3"
  },
  "language_info": {
   "codemirror_mode": {
    "name": "ipython",
    "version": 3
   },
   "file_extension": ".py",
   "mimetype": "text/x-python",
   "name": "python",
   "nbconvert_exporter": "python",
   "pygments_lexer": "ipython3",
   "version": "3.7.6"
  }
 },
 "nbformat": 4,
 "nbformat_minor": 4
}
