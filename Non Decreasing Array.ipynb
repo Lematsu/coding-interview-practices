{
 "cells": [
  {
   "cell_type": "markdown",
   "metadata": {},
   "source": [
    "# Non Decreasing Array\n",
    "\n",
    "Given an array with n integers, your task is to check if it could become non-decreasing by modifying at most 1 element.\n",
    "\n",
    "We define an array is non-decreasing if array[i] <= array[i + 1] holds for every i (1 <= i < n).\n",
    "```\n",
    "Example 1:\n",
    "Input: [4,2,3]\n",
    "Output: True\n",
    "Explanation: You could modify the first 4 to 1 to get a non-decreasing array.\n",
    "\n",
    "Example 2:\n",
    "Input: [4,2,1]\n",
    "Output: False\n",
    "Explanation: You can't get a non-decreasing array by modify at most one element.\n",
    "```\n",
    "Note: The n belongs to [1, 10,000]."
   ]
  },
  {
   "cell_type": "markdown",
   "metadata": {},
   "source": [
    "## Communication\n",
    "\n",
    "To determine if it is possible to create a non-decreasing list by modifying at most 1 element, we first keep track of how many modifications we need. If we need zero modifications, then we can say it is a non-decreasing list. If we have more than 1 modifications needed, then we know we cannot create a non-decreasing list with just one modification. Next, we need to inspect the cases where we only have one modification. To begin with, the way we compare each element from each other would be by comparing the current number to the next number. This is possible by iterating over all the elements except the last element in the list. After we deterine that we only have one number that needs modified, we need to inspect the surrounding numbers to see if it is possible to create a non-decreasing environment. First, we can conclude that if the number that needs modification is in index zero, we can safely modify. Next, we can also conclude that if the last indexed number - in our case since we do not iterate over the last element in the list, the last indexed number would be the second to last element in the list - is the number that detects that the last number needs modification, we can modify to recreate the non-decreasing list. Furthermore, when the index and the index + 2 numbers are non-decreasing, we can also safely modify the index + 1 number. This is because in our conditional statements, index + 1 would not detect that it is itself the dip and sees no issue with index + 2. Finally, the case where index - 1 and index + 1 are non-decreasing, we can modify the index + 1 number. The time complexity of this algorithm is linear times where we seek to find the index before the dip. The space complexity is constant since we do not use any data structures. "
   ]
  },
  {
   "cell_type": "code",
   "execution_count": 14,
   "metadata": {},
   "outputs": [
    {
     "name": "stdout",
     "output_type": "stream",
     "text": [
      "test#0 passed\n",
      "test#1 passed\n",
      "test#2 passed\n",
      "test#3 passed\n",
      "test#4 passed\n"
     ]
    }
   ],
   "source": [
    "## Coding\n",
    "class Solution(object):\n",
    "    def checkPossibility(self, nums):\n",
    "        \"\"\"\n",
    "        :type nums: List[int]\n",
    "        :rtype: bool\n",
    "        \"\"\"\n",
    "        index = None\n",
    "        for i in range(len(nums) - 1):\n",
    "            if nums[i] > nums[i + 1]:\n",
    "                # at least two dips\n",
    "                if index is not None:\n",
    "                    return False\n",
    "                index = i\n",
    "        # no dip\n",
    "        if index is None:\n",
    "            return True\n",
    "        # 1 dip\n",
    "        if index == 0:\n",
    "            return True\n",
    "        if index == len(nums) - 2:\n",
    "            return True\n",
    "        if nums[index] <= nums[index+2]:\n",
    "            return True\n",
    "        if nums[index - 1] <= nums[index + 1]:\n",
    "            return True\n",
    "        return False\n",
    "    \n",
    "    def unit_tests(self):\n",
    "        test_cases = [\n",
    "            [[4,2,3], True],\n",
    "            [[4,2,1], False],\n",
    "            [[3,4,2,3], False],\n",
    "            [[1,2,5,6,3], True],\n",
    "            [[2,3,3,2,5], True]\n",
    "        ]\n",
    "        for index, tc in enumerate(test_cases):\n",
    "            output = self.checkPossibility(tc[0])\n",
    "            assert output == tc[1], 'test#{0} failed.'.format(index)\n",
    "            print('test#{0} passed'.format(index))\n",
    "Solution().unit_tests()"
   ]
  },
  {
   "cell_type": "markdown",
   "metadata": {},
   "source": [
    "## Reference\n",
    "\n",
    "- [Leetcode](https://leetcode.com/problems/non-decreasing-array/)"
   ]
  },
  {
   "cell_type": "code",
   "execution_count": null,
   "metadata": {},
   "outputs": [],
   "source": []
  }
 ],
 "metadata": {
  "kernelspec": {
   "display_name": "Python 3",
   "language": "python",
   "name": "python3"
  },
  "language_info": {
   "codemirror_mode": {
    "name": "ipython",
    "version": 3
   },
   "file_extension": ".py",
   "mimetype": "text/x-python",
   "name": "python",
   "nbconvert_exporter": "python",
   "pygments_lexer": "ipython3",
   "version": "3.7.6"
  }
 },
 "nbformat": 4,
 "nbformat_minor": 4
}
