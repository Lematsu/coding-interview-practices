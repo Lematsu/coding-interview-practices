{
 "cells": [
  {
   "cell_type": "markdown",
   "metadata": {},
   "source": [
    "# Reverse Linked List\n",
    "\n",
    "Reverse a singly linked list.\n",
    "\n",
    "Example:\n",
    "\n",
    "Input: 1->2->3->4->5->NULL\n",
    "Output: 5->4->3->2->1->NULL\n",
    "Follow up:\n",
    "\n",
    "A linked list can be reversed either iteratively or recursively. Could you implement both?"
   ]
  },
  {
   "cell_type": "markdown",
   "metadata": {},
   "source": [
    "## Communication\n",
    "By approach would be to create a new linked list by swapping each pair of current and next node. This approach would allow us to have two methods, one recursively and another iteratively. The runtime complexity will be linear since we only need one pass through. The space complexity is also linear since we need to store all elements in the linked list in reverse."
   ]
  },
  {
   "cell_type": "code",
   "execution_count": 5,
   "metadata": {},
   "outputs": [
    {
     "name": "stdout",
     "output_type": "stream",
     "text": [
      "test#0 passed\n"
     ]
    }
   ],
   "source": [
    "# Definition for singly-linked list.\n",
    "# class ListNode(object):\n",
    "#     def __init__(self, x):\n",
    "#         self.val = x\n",
    "#         self.next = None\n",
    "\n",
    "class ListNode(object):\n",
    "    def __init__(self, x):\n",
    "        self.val = x\n",
    "        self.next = None\n",
    "\n",
    "class Solution(object):\n",
    "    def reverseList(self, head):\n",
    "        \"\"\"\n",
    "        :type head: ListNode\n",
    "        :rtype: ListNode\n",
    "        \"\"\"\n",
    "        previous = None\n",
    "        current = head\n",
    "        while current:\n",
    "            next_node = current.next\n",
    "            current.next = previous\n",
    "            previous = current\n",
    "            current = next_node\n",
    "        return previous\n",
    "\n",
    "    def _create_linked_list(self, nums):\n",
    "        head = None\n",
    "        current = None\n",
    "        for n in nums:\n",
    "            if head is None:\n",
    "                head = ListNode(n)\n",
    "                current = head\n",
    "            else:\n",
    "                current.next = ListNode(n)\n",
    "                current = current.next\n",
    "        return head\n",
    "    \n",
    "    def _create_list(self, head):\n",
    "        lst = []\n",
    "        current = head\n",
    "        while current:\n",
    "            lst.append(current.val)\n",
    "            current = current.next\n",
    "        return lst\n",
    "\n",
    "    def unit_test(self):\n",
    "        test_case = [\n",
    "            [ [1,2,3,4,5], [5,4,3,2,1] ]\n",
    "        ]\n",
    "        for index, tc in enumerate(test_case):\n",
    "            head = self._create_linked_list(tc[0])\n",
    "            reverse_head = self.reverseList(head)\n",
    "            reverse_lst = self._create_list(reverse_head)\n",
    "            assert reverse_lst == tc[1], 'test#{0} failed'.format(index)\n",
    "            print('test#{0} passed'.format(index))\n",
    "\n",
    "Solution().unit_test()"
   ]
  },
  {
   "cell_type": "markdown",
   "metadata": {},
   "source": [
    "## Reference\n",
    "- [Leetcode](https://leetcode.com/problems/reverse-linked-list/)"
   ]
  },
  {
   "cell_type": "code",
   "execution_count": null,
   "metadata": {},
   "outputs": [],
   "source": []
  }
 ],
 "metadata": {
  "kernelspec": {
   "display_name": "Python 3",
   "language": "python",
   "name": "python3"
  },
  "language_info": {
   "codemirror_mode": {
    "name": "ipython",
    "version": 3
   },
   "file_extension": ".py",
   "mimetype": "text/x-python",
   "name": "python",
   "nbconvert_exporter": "python",
   "pygments_lexer": "ipython3",
   "version": "3.7.6"
  }
 },
 "nbformat": 4,
 "nbformat_minor": 4
}
