{
 "cells": [
  {
   "cell_type": "markdown",
   "metadata": {},
   "source": [
    "# Validate Binary Search Tree\n",
    "Given a binary tree, determine if it is a valid binary search tree (BST).\n",
    "\n",
    "Assume a BST is defined as follows:\n",
    "    - The left subtree of a node contains only nodes with keys less than the node's key\n",
    "    - The right subtree of a node contains only nodes with keys greater than the node's key\n",
    "    - Both the left and right subtrees must also be binary search tree\n",
    "\n",
    "Example #1\n",
    "\n",
    "        2\n",
    "       /  \\\n",
    "      1    3\n",
    "  \n",
    "\n",
    "Input: [2, 1, 3]\n",
    "Output: true\n",
    "\n",
    "Example #2\n",
    "\n",
    "        5\n",
    "       / \\\n",
    "      1   4\n",
    "         / \\\n",
    "        3   6\n",
    "Input: [5, 1, 4, null, null, 3, 6]\n",
    "Output: false\n",
    "Exaplantion: the root node's value is 5 but its right child's value is 4."
   ]
  },
  {
   "cell_type": "markdown",
   "metadata": {},
   "source": [
    "## Algorithm\n",
    "(1). Create data structure node\n",
    "\n",
    "(2). Create binary tree\n",
    "\n",
    "(3). Check if binary tree meets above requirements (bst)\n",
    "\n",
    "    (a). DFS (Depth First Search) with parameters with node, lowerbound, and upperbound\n",
    "    (b). Check if current node value is greater than the least left leaf and less than right leaf"
   ]
  },
  {
   "cell_type": "code",
   "execution_count": 12,
   "metadata": {},
   "outputs": [],
   "source": [
    "class Node:\n",
    "    def __init__(self, value):\n",
    "        self.val = value\n",
    "        self.left = None\n",
    "        self.right = None"
   ]
  },
  {
   "cell_type": "code",
   "execution_count": 30,
   "metadata": {},
   "outputs": [
    {
     "name": "stdout",
     "output_type": "stream",
     "text": [
      "test#0 passed\n",
      "test#1 passed\n",
      "test#2 passed\n",
      "test#3 passed\n"
     ]
    }
   ],
   "source": [
    "def create_tree(input_list):\n",
    "    queue = []\n",
    "    root = None\n",
    "    for value in input_list:\n",
    "        if root is None:\n",
    "            root = Node(value)\n",
    "            root.left = Node(None)\n",
    "            root.right = Node(None)\n",
    "            queue.extend([root.left, root.right])\n",
    "        else:\n",
    "            curr_node = queue.pop(0)\n",
    "            curr_node.val = value\n",
    "            curr_node.left = Node(None)\n",
    "            curr_node.right = Node(None)\n",
    "            queue.extend([curr_node.left, curr_node.right])\n",
    "    return root\n",
    "\n",
    "\n",
    "def print_tree(root):\n",
    "    queue = []\n",
    "    queue.append(root)\n",
    "    while queue:\n",
    "        curr_node = queue.pop(0)\n",
    "        print('id: {0}'.format(curr_node.val))\n",
    "        if curr_node.left is not None and curr_node.right is not None:\n",
    "            queue.extend([curr_node.left, curr_node.right])\n",
    "\n",
    "            \n",
    "def validate_bst(root):\n",
    "    def helper(node, lower, upper):\n",
    "        # base case #1\n",
    "        if node is None:\n",
    "            return True\n",
    "        val = node.val\n",
    "        # base case #2\n",
    "        if val is None:\n",
    "            return True\n",
    "        # not BST range\n",
    "        if val <= lower or val >= upper:\n",
    "            return False\n",
    "        # left is not BST\n",
    "        if not helper(node.left, lower, val):\n",
    "            return False\n",
    "        # right is not BST\n",
    "        if not helper(node.right, val, upper):\n",
    "            return False\n",
    "        return True\n",
    "    # for first call, we want the all of the range\n",
    "    return helper(root, float('-inf'), float('inf'))\n",
    "\n",
    "\n",
    "def test_cases():\n",
    "    tc = [[5,1,4,None,None,3,6], [5,1,6,None,None,4,7], [5,1,6,None,None,7,8], [5,1,7,None,None,6,8]]\n",
    "    ac = [False, False, False, True]\n",
    "    for index in range(len(tc)):\n",
    "        test_case = tc[index]\n",
    "        assert_case = ac[index]\n",
    "        root = create_tree(test_case)\n",
    "        output = validate_bst(root)\n",
    "        assert output == assert_case, 'test#{0} failed'.format(index)\n",
    "        print('test#{0} passed'.format(index))\n",
    "\n",
    "test_cases()"
   ]
  },
  {
   "cell_type": "markdown",
   "metadata": {},
   "source": [
    "Complexities:\n",
    "- Linear time complexity since we're visiting all nodes.\n",
    "- Linear space complexity since there exists a call stack, not a constant."
   ]
  },
  {
   "cell_type": "markdown",
   "metadata": {},
   "source": [
    "### Reference\n",
    "- [Leetcode](https://leetcode.com/problems/validate-binary-search-tree/)"
   ]
  },
  {
   "cell_type": "code",
   "execution_count": null,
   "metadata": {},
   "outputs": [],
   "source": [
    "s"
   ]
  }
 ],
 "metadata": {
  "kernelspec": {
   "display_name": "Python 3",
   "language": "python",
   "name": "python3"
  },
  "language_info": {
   "codemirror_mode": {
    "name": "ipython",
    "version": 3
   },
   "file_extension": ".py",
   "mimetype": "text/x-python",
   "name": "python",
   "nbconvert_exporter": "python",
   "pygments_lexer": "ipython3",
   "version": "3.7.6"
  }
 },
 "nbformat": 4,
 "nbformat_minor": 4
}
