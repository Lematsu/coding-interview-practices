{
 "cells": [
  {
   "cell_type": "markdown",
   "metadata": {},
   "source": [
    "# Minimum Depth of Binary Tree\n",
    "Given a binary tree, find its minimum depth.\n",
    "\n",
    "The minimum depth is the number of nodes along the shortest path from the root node down to the nearest leaf node.\n",
    "\n",
    "Note: A leaf is a node with no children.\n",
    "```\n",
    "Example:\n",
    "\n",
    "Given binary tree [3,9,20,null,null,15,7],\n",
    "\n",
    "    3\n",
    "   / \\\n",
    "  9  20\n",
    "    /  \\\n",
    "   15   7\n",
    "return its minimum depth = 2.\n",
    "```"
   ]
  },
  {
   "cell_type": "markdown",
   "metadata": {},
   "source": [
    "## Communication\n",
    "\n",
    "We could approach this problem using BFS. In BFS, we add the closest neighbors to the node we're iterating over. If we start our traversal from the root of the node, we would be able to traverse down level by level, incrementing the height and checking if the node is the earliest leaf node. Since we're traversing level by level, we're guaranteed to be able to identify the minimum height in which we find a leaf node. Although this problem is solvable using DFS, we want to use BFS over DFS because we're guaranteed to find the minimum height by the least amount of iteration per level. In the other hand, DFS iterates over the node, and we cannot guarantee that we would process the correct node that would lead to the minimum height. The time complexity of this algorithm is $O(n)$ where n is the number of nodes since per iterating per level via queue. The space complexity is also linear and $O(n)$ where n is the number of nodes since we're storing our nodes into a queue / list."
   ]
  },
  {
   "cell_type": "code",
   "execution_count": 27,
   "metadata": {},
   "outputs": [
    {
     "name": "stdout",
     "output_type": "stream",
     "text": [
      "test#0 passed\n"
     ]
    }
   ],
   "source": [
    "## Coding\n",
    "# Definition for a binary tree node.\n",
    "# class TreeNode(object):\n",
    "#     def __init__(self, x):\n",
    "#         self.val = x\n",
    "#         self.left = None\n",
    "#         self.right = None\n",
    "\n",
    "class TreeNode(object):\n",
    "    def __init__(self, x):\n",
    "        self.val = x\n",
    "        self.left = None\n",
    "        self.right = None\n",
    "    def __str__(self):\n",
    "        return 'TreeNode {{val: {0}, left: {1}, right: {2}}}'.format(self.val,\n",
    "                                                                  self.left,\n",
    "                                                                  self.right)\n",
    "\n",
    "class Solution(object):\n",
    "    def minDepth(self, root):\n",
    "        \"\"\"\n",
    "        :type root: TreeNode\n",
    "        :rtype: int\n",
    "        \"\"\"\n",
    "        queue = [[root]]\n",
    "        height = 0\n",
    "        while queue:\n",
    "            height += 1\n",
    "            next_level = []\n",
    "            for child_node in queue.pop(0):\n",
    "                if child_node is not None:\n",
    "                    if child_node.left is None and child_node.right is None:\n",
    "                        return height\n",
    "                    if child_node.right is not None:\n",
    "                        next_level.append(child_node.right)\n",
    "                    if child_node.left is not None:\n",
    "                        next_level.append(child_node.left)\n",
    "            if next_level != []:\n",
    "                queue.append(next_level)\n",
    "        return 0\n",
    "    def createTree(self, nums):\n",
    "        head = current = None\n",
    "        # insert dummy header to adjust index to calculate parent-to-child calculations\n",
    "        nums.insert(0, None)\n",
    "        # use queue to maintain order of nodes to add\n",
    "        queue = []\n",
    "        # iterate from the original first input, not the dummy input\n",
    "        for i in range(1, len(nums)):\n",
    "            if head == None:\n",
    "                head = current = TreeNode(nums[i])\n",
    "            else:\n",
    "                current = queue.pop(0)\n",
    "            if i*2 < len(nums):\n",
    "                if nums[i*2] == None:\n",
    "                    current.left = None\n",
    "                else:\n",
    "                    current.left = TreeNode(nums[i*2])\n",
    "                queue.append(current.left)\n",
    "            if i*2 + 1 < len(nums):\n",
    "                if nums[i*2 + 1] == None:\n",
    "                    current.right = None\n",
    "                else:\n",
    "                    current.right = TreeNode(nums[i*2+1])\n",
    "                queue.append(current.right)\n",
    "        return head\n",
    "    def unit_tests(self):\n",
    "        test_cases = [\n",
    "            [[3,9,20,None,None,15,7], 2]\n",
    "        ]\n",
    "        for index, tc in enumerate(test_cases):\n",
    "            root = self.createTree(tc[0])\n",
    "            output = self.minDepth(root)\n",
    "            assert output == tc[1], 'test#{0} failed'.format(index)\n",
    "            print('test#{0} passed'.format(index))\n",
    "Solution().unit_tests()"
   ]
  },
  {
   "cell_type": "markdown",
   "metadata": {},
   "source": [
    "## Reference\n",
    "- [Leetcode](https://leetcode.com/problems/minimum-depth-of-binary-tree/)"
   ]
  },
  {
   "cell_type": "code",
   "execution_count": null,
   "metadata": {},
   "outputs": [],
   "source": []
  }
 ],
 "metadata": {
  "kernelspec": {
   "display_name": "Python 3",
   "language": "python",
   "name": "python3"
  },
  "language_info": {
   "codemirror_mode": {
    "name": "ipython",
    "version": 3
   },
   "file_extension": ".py",
   "mimetype": "text/x-python",
   "name": "python",
   "nbconvert_exporter": "python",
   "pygments_lexer": "ipython3",
   "version": "3.6.9"
  }
 },
 "nbformat": 4,
 "nbformat_minor": 4
}
