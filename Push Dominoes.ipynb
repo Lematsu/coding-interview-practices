{
 "cells": [
  {
   "cell_type": "markdown",
   "metadata": {},
   "source": [
    "# Push Dominoes\n",
    "\n",
    "There are N dominoes in a line, and we place each domino vertically upright.\n",
    "\n",
    "In the beginning, we simultaneously push some of the dominoes either to the left or to the right.\n",
    "\n",
    "\n",
    "After each second, each domino that is falling to the left pushes the adjacent domino on the left.\n",
    "\n",
    "Similarly, the dominoes falling to the right push their adjacent dominoes standing on the right.\n",
    "\n",
    "When a vertical domino has dominoes falling on it from both sides, it stays still due to the balance of the forces.\n",
    "\n",
    "For the purposes of this question, we will consider that a falling domino expends no additional force to a falling or already fallen domino.\n",
    "\n",
    "Given a string \"S\" representing the initial state. S[i] = 'L', if the i-th domino has been pushed to the left; S[i] = 'R', if the i-th domino has been pushed to the right; S[i] = '.', if the i-th domino has not been pushed.\n",
    "\n",
    "Return a string representing the final state. \n",
    "```\n",
    "Example 1:\n",
    "\n",
    "Input: \".L.R...LR..L..\"\n",
    "Output: \"LL.RR.LLRRLL..\"\n",
    "Example 2:\n",
    "\n",
    "Input: \"RR.L\"\n",
    "Output: \"RR.L\"\n",
    "Explanation: The first domino expends no additional force on the second domino.\n",
    "```\n",
    "Note:\n",
    "\n",
    "0 <= N <= 10^5\n",
    "String dominoes contains only 'L', 'R' and '.'"
   ]
  },
  {
   "cell_type": "markdown",
   "metadata": {},
   "source": [
    " ## Communication\n",
    " \n",
    "Since the domino forces are bidirectional, we can utilize this characteristic. By bidirectional, the positive values can represent 'R', negative values can represent 'L', and zero/neutral values can represent '.'. This is possible by storing the forces in a list. We need to iterate over the dominoes twice, once to check for 'R' and another to check for 'L'. For iteration for 'R', we add state force N where N is the length of dominoes when domino is 'R'. When the domino is 'L', the force is in state 0. When we have '.' in the force state, we decrement the value of the force state. For each case, we add force state to the force list. For iteration for 'L', instead of adding positive values, we decrement by the force state value. Finally, we iterate over the force list to create the dominoes string. With this method, we can optimize for time complexity in linear time O(n) and space complexity in O(n)."
   ]
  },
  {
   "cell_type": "code",
   "execution_count": 17,
   "metadata": {},
   "outputs": [
    {
     "name": "stdout",
     "output_type": "stream",
     "text": [
      "output: RR.L\n",
      "test#0 passed\n",
      "output: LL.RR.LLRRLL..\n",
      "test#1 passed\n"
     ]
    }
   ],
   "source": [
    "## Coding\n",
    "class Solution(object):\n",
    "    def pushDominoes(self, dominoes):\n",
    "        N = len(dominoes)\n",
    "        force = [0] * N\n",
    "        # Check R's\n",
    "        f = 0\n",
    "        for index in range(N):\n",
    "            if dominoes[index] == 'R':\n",
    "                f = N\n",
    "            elif dominoes[index] == 'L':\n",
    "                f = 0\n",
    "            else:\n",
    "                f = max(f-1, 0)\n",
    "            force[index] += f\n",
    "        # Check L's\n",
    "        for index in range(N-1, -1, -1):\n",
    "            if dominoes[index] == 'L':\n",
    "                f = N\n",
    "            elif dominoes[index] == 'R':\n",
    "                f = 0\n",
    "            else:\n",
    "                f = max(f-1, 0)\n",
    "            force[index] -= f\n",
    "        # Fill in force\n",
    "        for index in range(N):\n",
    "            if force[index] == 0:\n",
    "                force[index] = '.'\n",
    "            elif force[index] > 0:\n",
    "                force[index] = 'R'\n",
    "            else:\n",
    "                force[index] = 'L'\n",
    "        return ''.join(force)\n",
    "                \n",
    "    def unit_tests(self):\n",
    "        test_cases = [\n",
    "            ['RR.L', 'RR.L'],\n",
    "            ['.L.R...LR..L..', 'LL.RR.LLRRLL..']\n",
    "        ]\n",
    "        for index, tc in enumerate(test_cases):\n",
    "            output = self.pushDominoes(tc[0])\n",
    "            print('output: {0}'.format(output))\n",
    "            assert output == tc[1], 'test#{0} failed'.format(index)\n",
    "            print('test#{0} passed'.format(index))\n",
    "Solution().unit_tests()"
   ]
  },
  {
   "cell_type": "markdown",
   "metadata": {},
   "source": [
    "## Reference\n",
    "- [Leetcode](https://leetcode.com/problems/push-dominoes)"
   ]
  },
  {
   "cell_type": "code",
   "execution_count": null,
   "metadata": {},
   "outputs": [],
   "source": []
  }
 ],
 "metadata": {
  "kernelspec": {
   "display_name": "Python 3",
   "language": "python",
   "name": "python3"
  },
  "language_info": {
   "codemirror_mode": {
    "name": "ipython",
    "version": 3
   },
   "file_extension": ".py",
   "mimetype": "text/x-python",
   "name": "python",
   "nbconvert_exporter": "python",
   "pygments_lexer": "ipython3",
   "version": "3.7.6"
  }
 },
 "nbformat": 4,
 "nbformat_minor": 4
}
