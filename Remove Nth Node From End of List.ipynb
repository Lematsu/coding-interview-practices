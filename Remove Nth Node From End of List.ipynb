{
 "cells": [
  {
   "cell_type": "markdown",
   "metadata": {},
   "source": [
    "# Remove Nth Now From End of List\n",
    "\n",
    "Given a linked list, remove the n-th node from the end of list and return its head.\n",
    "\n",
    "Example:\n",
    "\n",
    "Given linked list: 1->2->3->4->5, and n = 2.\n",
    "\n",
    "After removing the second node from the end, the linked list becomes 1->2->3->5.\n",
    "Note:\n",
    "\n",
    "Given n will always be valid.\n",
    "\n",
    "Follow up:\n",
    "\n",
    "Could you do this in one pass?"
   ]
  },
  {
   "cell_type": "markdown",
   "metadata": {},
   "source": [
    "## Communication\n",
    "\n",
    "We could approach this question using two pointers, slow and fast. We could first traverse the fast pointer n times. If fast has already reached the end, we could return the head.next value. If fast is still on a node, we could then iterate both the fast and slow pointers together while fast is not at the end. While doing so, we want to keep a constant variable called previous to store the previous slow pointer node. Once fast pointer reaches the end, we have the previous pointer point to the next node of slow. The time complexity of using two pointers is linear or O(n) because we pass through the linked list. The space complexity is constant because we only store constant variables."
   ]
  },
  {
   "cell_type": "code",
   "execution_count": 19,
   "metadata": {},
   "outputs": [
    {
     "name": "stdout",
     "output_type": "stream",
     "text": [
      "test#0 passed\n",
      "test#1 passed\n",
      "test#2 passed\n"
     ]
    }
   ],
   "source": [
    "## Coding\n",
    "# Definition for singly-linked list.\n",
    "# class ListNode(object):\n",
    "#     def __init__(self, x):\n",
    "#         self.val = x\n",
    "#         self.next = None\n",
    "\n",
    "class ListNode(object):\n",
    "    def __init__(self, x):\n",
    "        self.val = x\n",
    "        self.next = None\n",
    "\n",
    "class Solution(object):\n",
    "    def removeNthFromEnd(self, node, n):\n",
    "        \"\"\"\n",
    "        :type head: ListNode\n",
    "        :type n: int\n",
    "        :rtype: ListNode\n",
    "        \"\"\"\n",
    "        slow, fast = node, node\n",
    "        for i in range(n):\n",
    "            fast = fast.next\n",
    "        if not fast:\n",
    "            return node.next\n",
    "        while fast:\n",
    "            prev = slow\n",
    "            slow = slow.next\n",
    "            fast = fast.next\n",
    "        \n",
    "        prev.next = slow.next\n",
    "        return node\n",
    "        \n",
    "        \n",
    "    def _createLinkedList(self, nums):\n",
    "        head = None\n",
    "        current = None\n",
    "        for n in nums:\n",
    "            if head == None:\n",
    "                head = ListNode(n)\n",
    "                current = head\n",
    "            else:\n",
    "                current.next = ListNode(n)\n",
    "                current = current.next\n",
    "        return head\n",
    "    def _createList(self, head):\n",
    "        nums = []\n",
    "        current = head\n",
    "        while current:\n",
    "            nums.append(current.val)\n",
    "            current = current.next\n",
    "        return nums\n",
    "    \n",
    "    def unit_tests(self):\n",
    "        test_cases = [\n",
    "            [[1,2,3,4,5], 3, [1,2,4,5]],\n",
    "            [[1,2,3,4,5], 4, [1,3,4,5]],\n",
    "            [[1,3,2,5,4], 3, [1,3,5,4]]\n",
    "        ]\n",
    "        for index, tc in enumerate(test_cases):\n",
    "            head = self._createLinkedList(tc[0])\n",
    "            head = self.removeNthFromEnd(head, tc[1])\n",
    "            output = self._createList(head)\n",
    "            assert output == tc[2], 'test#{0} failed'.format(index)\n",
    "            print('test#{0} passed'.format(index))\n",
    "Solution().unit_tests()"
   ]
  },
  {
   "cell_type": "markdown",
   "metadata": {},
   "source": [
    "## Reference\n",
    "- [Leetcode](https://leetcode.com/problems/remove-nth-node-from-end-of-list/)"
   ]
  },
  {
   "cell_type": "code",
   "execution_count": null,
   "metadata": {},
   "outputs": [],
   "source": []
  }
 ],
 "metadata": {
  "kernelspec": {
   "display_name": "Python 3",
   "language": "python",
   "name": "python3"
  },
  "language_info": {
   "codemirror_mode": {
    "name": "ipython",
    "version": 3
   },
   "file_extension": ".py",
   "mimetype": "text/x-python",
   "name": "python",
   "nbconvert_exporter": "python",
   "pygments_lexer": "ipython3",
   "version": "3.7.6"
  }
 },
 "nbformat": 4,
 "nbformat_minor": 4
}
