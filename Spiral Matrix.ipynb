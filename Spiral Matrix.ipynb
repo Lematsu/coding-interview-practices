{
 "cells": [
  {
   "cell_type": "markdown",
   "metadata": {},
   "source": [
    "# Spiral Matrix\n",
    "\n",
    "Given a matrix of m x n elements (m rows, n columns), return all elements of the matrix in spiral order.\n",
    "```\n",
    "Example 1:\n",
    "Input:\n",
    "[\n",
    " [ 1, 2, 3 ],\n",
    " [ 4, 5, 6 ],\n",
    " [ 7, 8, 9 ]\n",
    "]\n",
    "Output: [1,2,3,6,9,8,7,4,5]\n",
    "\n",
    "Example 2:\n",
    "Input:\n",
    "[\n",
    "  [1, 2, 3, 4],\n",
    "  [5, 6, 7, 8],\n",
    "  [9,10,11,12]\n",
    "]\n",
    "Output: [1,2,3,4,8,12,11,10,9,5,6,7]\n",
    "```"
   ]
  },
  {
   "cell_type": "markdown",
   "metadata": {},
   "source": [
    "## Communication\n",
    "*Brute Force*: We could approach this question in a dfs matter where we recursively tranverse the matrix with specific conditions. In our case, we need to start from the outter most unvisited nodes, turning clockwise at corners, and visiting all nodes. This is possible by maintaining the upper and lower boundaries for row and column. In our case, since we're turning clockwise, we want to be able to identify the top left edge, top right edge, bottom left edge, and bottom right edge. To be able to distinguish the direction in which the dfs traversals, we need to maintain a `direction` variable. This `direction` variable will also be used to handle turning corners. For instance, if the `direction` is going `RIGHT` and it reaches the x-axis lenght limit, it then changes to `DOWN`. The rest of the `directions` will be handled accordingly. The time complexity of this algorithm is O(V) where V is the number of vertices. Similarly, the space complexity is O(V) where V is the number of vertices."
   ]
  },
  {
   "cell_type": "code",
   "execution_count": 44,
   "metadata": {},
   "outputs": [
    {
     "name": "stdout",
     "output_type": "stream",
     "text": [
      "test#0 passed\n",
      "test#1 passed\n"
     ]
    }
   ],
   "source": [
    "## Coding\n",
    "class Solution(object):\n",
    "    def spiralOrder(self, matrix):\n",
    "        \"\"\"\n",
    "        :type matrix: List[List[int]]\n",
    "        :rtype: List[int]\n",
    "        \"\"\"\n",
    "        res = []\n",
    "        visited = set()\n",
    "        row_bounds = [0, len(matrix) - 1]\n",
    "        col_bounds = [0, len(matrix[0])-1]\n",
    "        direction = 'RIGHT'\n",
    "        def dfs(row, col, direction):\n",
    "            if (row,col) in visited:\n",
    "                return\n",
    "            else:\n",
    "                visited.add((row,col))\n",
    "                res.append(matrix[row][col])\n",
    "                if direction == 'RIGHT':\n",
    "                    if col != col_bounds[1]:\n",
    "                        dfs(row, col+1, 'RIGHT')\n",
    "                    elif row+1 <= row_bounds[1]:\n",
    "                        row_bounds[0] += 1\n",
    "                        dfs(row+1,col,'DOWN')\n",
    "                elif direction == 'DOWN':\n",
    "                    if row != row_bounds[1]:\n",
    "                        dfs(row+1,col,'DOWN')\n",
    "                    elif col-1 >= col_bounds[0]:\n",
    "                        col_bounds[1] -= 1\n",
    "                        dfs(row,col-1,'LEFT')\n",
    "                elif direction == 'LEFT':\n",
    "                    if col != col_bounds[0]:\n",
    "                        dfs(row,col-1,'LEFT')\n",
    "                    elif row-1 >= row_bounds[0]:\n",
    "                        row_bounds[1] -= 1\n",
    "                        dfs(row-1,col,'UP')\n",
    "                else: # direction == 'UP'\n",
    "                    if row != row_bounds[0]:\n",
    "                        dfs(row-1,col,'UP')\n",
    "                    elif col+1 <= col_bounds[1]:\n",
    "                        col_bounds[0] += 1\n",
    "                        dfs(row,col+1,'RIGHT')\n",
    "        dfs(0,0,'RIGHT')\n",
    "        return res\n",
    "    def unit_tests(self):\n",
    "        test_cases = [\n",
    "            [[[ 1, 2, 3 ],[ 4, 5, 6 ],[ 7, 8, 9 ]], [1,2,3,6,9,8,7,4,5]],\n",
    "            [[[1,2,3,4],[5,6,7,8],[9,10,11,12],[13,14,15,16]], [1,2,3,4,8,12,16,15,14,13,9,5,6,7,11,10]]\n",
    "        ]\n",
    "        for index, tc in enumerate(test_cases):\n",
    "            output = self.spiralOrder(tc[0])\n",
    "            assert output == tc[1], 'test#{0} failed'.format(index)\n",
    "            print('test#{0} passed'.format(index))\n",
    "Solution().unit_tests()\n",
    "# print(Solution().spiralOrder([[1]]))"
   ]
  },
  {
   "cell_type": "markdown",
   "metadata": {},
   "source": [
    "## Communication\n",
    "\n",
    "*Efficient Approach* We can keep track of the direction in which the traversal is processing, and determine the edges of the matrix using the matrix bounds and visited set. Either when we're going to go out-of-bounds of the matrix of over visited nodes, we could change directions. We could handle iteration by having two lists, one containing the increments for row and another for column. The index of these lists could indicate the direction that the traversal is processing. Since we're rounding in a clockwise matter, the index could represent the following `[right, down, left, up]`. The time complexity of this algorithm is `O(n)` since we need to iterate over all the nodes in the matrix. The space complexity of this algorith is also `O(n)` since we need to store all the cells in the matrix in visited."
   ]
  },
  {
   "cell_type": "code",
   "execution_count": 5,
   "metadata": {},
   "outputs": [
    {
     "name": "stdout",
     "output_type": "stream",
     "text": [
      "test#0 passed\n",
      "test#1 passed\n"
     ]
    }
   ],
   "source": [
    "## Coding\n",
    "class Solution(object):\n",
    "    def spiralOrder(self, matrix):\n",
    "        \"\"\"\n",
    "        :type matrix: List[List[int]]\n",
    "        :rtype: List[int]\n",
    "        \"\"\"\n",
    "        if not matrix:\n",
    "            return []\n",
    "        R, C = len(matrix), len(matrix[0])\n",
    "        visited = [[False] * C for _ in range(R)]\n",
    "        r = c = di = 0\n",
    "        dr = [0, 1, 0, -1]\n",
    "        dc = [1, 0, -1, 0]\n",
    "        ans = []\n",
    "        for _ in range(R * C):\n",
    "            ans.append(matrix[r][c])\n",
    "            visited[r][c] = True\n",
    "            # check for next iteration\n",
    "            cr, cc = r + dr[di], c + dc[di]\n",
    "            if 0 <= cr < R and 0 <= cc < C and not visited[cr][cc]:\n",
    "                r, c = cr, cc\n",
    "            else:\n",
    "                di = (di + 1) % 4\n",
    "                r, c = r + dr[di], c + dc[di]\n",
    "        return ans\n",
    "    def unit_tests(self):\n",
    "        test_cases = [\n",
    "            [[[ 1, 2, 3 ],[ 4, 5, 6 ],[ 7, 8, 9 ]], [1,2,3,6,9,8,7,4,5]],\n",
    "            [[[1,2,3,4],[5,6,7,8],[9,10,11,12],[13,14,15,16]], [1,2,3,4,8,12,16,15,14,13,9,5,6,7,11,10]]\n",
    "        ]\n",
    "        for index, tc in enumerate(test_cases):\n",
    "            output = self.spiralOrder(tc[0])\n",
    "            assert output == tc[1], 'test#{0} failed'.format(index)\n",
    "            print('test#{0} passed'.format(index))\n",
    "Solution().unit_tests()"
   ]
  },
  {
   "cell_type": "markdown",
   "metadata": {},
   "source": [
    "## Reference\n",
    "- [Leetcode](https://leetcode.com/problems/spiral-matrix/)"
   ]
  },
  {
   "cell_type": "code",
   "execution_count": null,
   "metadata": {},
   "outputs": [],
   "source": []
  }
 ],
 "metadata": {
  "kernelspec": {
   "display_name": "Python 3",
   "language": "python",
   "name": "python3"
  },
  "language_info": {
   "codemirror_mode": {
    "name": "ipython",
    "version": 3
   },
   "file_extension": ".py",
   "mimetype": "text/x-python",
   "name": "python",
   "nbconvert_exporter": "python",
   "pygments_lexer": "ipython3",
   "version": "3.7.6"
  }
 },
 "nbformat": 4,
 "nbformat_minor": 4
}
