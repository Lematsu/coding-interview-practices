{
 "cells": [
  {
   "cell_type": "markdown",
   "metadata": {},
   "source": [
    "# Least Number of Meetings\n",
    "\n",
    "Given a list of employee and manager relationships, schedule the least number of meetings where the manager evalautes the employee. Keep in mind that the manager cannot be an employee in these meetings.\n",
    "You are given the CEO of the company. Assume there are no circular relationships (no instane where an employee of an employee is a boss).\n",
    "\n",
    "```\n",
    "Example:\n",
    "- Input: [[2,1],[4,1],[3,1],[5,4],[6,4],[8,3],[7,6]], ceo=1\n",
    "- Output: [\n",
    "            [ [1],[] ],\n",
    "            [ [3,4],[1] ],\n",
    "            [ [6],[3,4,1] ],\n",
    "            [ [2,5,7,8],[6,3,4,1] ]\n",
    "          ]\n",
    "```\n",
    "![alt text](least_number_of_meetings.png)"
   ]
  },
  {
   "cell_type": "markdown",
   "metadata": {},
   "source": [
    "## Communication\n",
    "\n",
    "We could approach this question by first creating a graph using a dictionary, and then running bfs on the graph to determine which employees are bosses and which are not. We could use three lists to maintain the relationship between employees, bosses, and both. From the above we can see that there exists employees that are not bosses, meaning that they do not have children. In the other hand, there exists employees that have children. We can safely store the employees without children in the list containing only employees. We can add these employees after completely running bfs on the graph since they will not have scheduling conflict. In the other hand, the employees that have children, we need to check per iteratin on the bfs. If the node inspecting while bfs has children, we want to add this node to the future boss list. After inspecting all children on the next level, we could create a tuple of the future boss list and boss list, and append it to the result list. Aftermath, we extend the boss list with the future boss list. As we continue bfs with the above scheme, we're able to determine the only employees and future employees, and schedule the minimum meetings without employee boss conflict. The time complexity of this algorithm is linear or O(V) where V represents the number of vertices. The space complexity is similarly O(V), or more specifically O(3V) since we're storing data in three lists."
   ]
  },
  {
   "cell_type": "code",
   "execution_count": 39,
   "metadata": {
    "scrolled": false
   },
   "outputs": [
    {
     "name": "stdout",
     "output_type": "stream",
     "text": [
      "test#0 passed\n"
     ]
    }
   ],
   "source": [
    "## Coding\n",
    "class Solution(object):\n",
    "    def schedule(self, eid, ceo):\n",
    "        # create graph\n",
    "        egraph = {}\n",
    "        for edge in eid:\n",
    "            employee = edge[0]\n",
    "            boss = edge[1]\n",
    "            if boss not in egraph:\n",
    "                egraph[boss] = []\n",
    "            egraph[boss].append(employee)\n",
    "            if employee not in egraph:\n",
    "                egraph[employee] = []\n",
    "        # variables to keep track of employee and boss relationships\n",
    "        if egraph[ceo] == []:\n",
    "            return [[ceo],[]]\n",
    "        else:\n",
    "            result = []\n",
    "            only_employees = []\n",
    "            meeting_employees = [ceo]\n",
    "            meeting_bosses = []\n",
    "            queue = [meeting_employees]\n",
    "            while queue:\n",
    "                meeting_employees = queue.pop(0)\n",
    "                result.append([meeting_employees.copy(), meeting_bosses.copy()])\n",
    "                next_employees = []\n",
    "                for employee in meeting_employees:\n",
    "                    for worker in egraph[employee]:\n",
    "                        if egraph[worker] == []:\n",
    "                            only_employees.append(worker)\n",
    "                        else:\n",
    "                            next_employees.append(worker)\n",
    "                meeting_bosses.extend(meeting_employees)\n",
    "                if next_employees != []:\n",
    "                    queue.append(next_employees)\n",
    "            result.append([only_employees, meeting_bosses])\n",
    "            return result\n",
    "    def unit_tests(self):\n",
    "        test_cases = [\n",
    "            [[[2,1],[4,1],[3,1],[5,4],[6,4],[8,3],[7,6]], 1, [[[1],[]],[[3,4],[1]],[[6],[3,4,1]],[[2,5,7,8],[6,3,4,1]]]]\n",
    "        ]\n",
    "        for index, tc in enumerate(test_cases):\n",
    "            output = self.schedule(tc[0],tc[1])\n",
    "            assert self._compare_results(output, tc[2]), 'test#{0} failed'.format(index)\n",
    "            print('test#{0} passed'.format(index))\n",
    "    def _compare_results(self, output, answer):\n",
    "        if len(output) != len(answer):\n",
    "            return False\n",
    "        for meeting in range(len(output)):\n",
    "            if len(output[meeting]) != len(answer[meeting]):\n",
    "                return False\n",
    "            for workers in range(len(output[meeting])):\n",
    "                if sorted(output[meeting][workers]) != sorted(answer[meeting][workers]):\n",
    "                    return False\n",
    "        return True\n",
    "                \n",
    "Solution().unit_tests()"
   ]
  },
  {
   "cell_type": "code",
   "execution_count": null,
   "metadata": {},
   "outputs": [],
   "source": []
  }
 ],
 "metadata": {
  "kernelspec": {
   "display_name": "Python 3",
   "language": "python",
   "name": "python3"
  },
  "language_info": {
   "codemirror_mode": {
    "name": "ipython",
    "version": 3
   },
   "file_extension": ".py",
   "mimetype": "text/x-python",
   "name": "python",
   "nbconvert_exporter": "python",
   "pygments_lexer": "ipython3",
   "version": "3.7.6"
  }
 },
 "nbformat": 4,
 "nbformat_minor": 4
}
