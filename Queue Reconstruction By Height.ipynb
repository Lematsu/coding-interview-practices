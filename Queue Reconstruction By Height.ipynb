{
 "cells": [
  {
   "cell_type": "markdown",
   "metadata": {},
   "source": [
    "# Queue Reconstruction By Height\n",
    "\n",
    "Suppose you have a random list of people standing in a queue. Each person is described by a pair of integers (h, k), where h is the height of the person and k is the number of people in front of this person who have a height greater than or equal to h. Write an algorithm to reconstruct the queue.\n",
    "\n",
    "Note:\n",
    "The number of people is less than 1,100.\n",
    "\n",
    "```\n",
    "Example\n",
    "\n",
    "Input:\n",
    "[[7,0], [4,4], [7,1], [5,0], [6,1], [5,2]]\n",
    "\n",
    "Output:\n",
    "[[5,0], [7,0], [5,2], [6,1], [4,4], [7,1]]\n",
    "```"
   ]
  },
  {
   "cell_type": "markdown",
   "metadata": {},
   "source": [
    "## Communication\n",
    "\n",
    "We could split this problem in two parts. The first part will be how we would sort the queue and the second would be how we would use the sorted queue to insert them back together. Since we're given that the height h can only see the number of people with the height greater or equal to, we can conclude that the taller people cannot see the shorter people, and the shorter people only see the taller people. Therefore, when we are sorting the queue before we reconstruct it, we can sort by the taller people and how many people they see. For instance, with the given input, the sorted queue can be represented as below:\n",
    "```\n",
    "[ [7,0], [7,1], [6,1], [5,0], [5,2], [4,4] ]\n",
    "```\n",
    "With this sorted queue, we can reconstruct the array using k as the insert index. This is because the index representes how many greater than or equal to taller people exist. Since we're inserting in the order by the taller people, when we incremently add the number of shorter people, we're able to maintain the above conditions.\n",
    "\n",
    "The Time complexity is exponetial or O(n**2) since we're looping over the queue and within the loop we insert the element in another list. The space complexity is linear or O(n) since we're storing the result in a list."
   ]
  },
  {
   "cell_type": "code",
   "execution_count": 5,
   "metadata": {},
   "outputs": [
    {
     "name": "stdout",
     "output_type": "stream",
     "text": [
      "test#0 passed\n"
     ]
    }
   ],
   "source": [
    "## Coding\n",
    "\n",
    "class Solution(object):\n",
    "    def reconstructQueue(self, people):\n",
    "        \"\"\"\n",
    "        :type people: List[List[int]]\n",
    "        :rtype: List[List[int]]\n",
    "        \"\"\"\n",
    "        res = []\n",
    "        people.sort(key=lambda x: (-x[0], x[1]))\n",
    "        for p in people:\n",
    "            res.insert(p[1], p)\n",
    "        return res\n",
    "    def unit_tests(self):\n",
    "        test_cases = [ [[[7,0], [4,4], [7,1], [5,0], [6,1], [5,2]],\n",
    "                       [[5,0], [7,0], [5,2], [6,1], [4,4], [7,1]]] ]\n",
    "        for index, tc in enumerate(test_cases):\n",
    "            output = self.reconstructQueue(tc[0])\n",
    "            assert output == tc[1], 'test#{0} failed'.format(index)\n",
    "            print('test#{0} passed'.format(index))\n",
    "\n",
    "Solution().unit_tests()"
   ]
  },
  {
   "cell_type": "markdown",
   "metadata": {},
   "source": [
    "## Reference\n",
    "- [Leetcode](https://leetcode.com/problems/queue-reconstruction-by-height/)"
   ]
  },
  {
   "cell_type": "code",
   "execution_count": null,
   "metadata": {},
   "outputs": [],
   "source": []
  }
 ],
 "metadata": {
  "kernelspec": {
   "display_name": "Python 3",
   "language": "python",
   "name": "python3"
  },
  "language_info": {
   "codemirror_mode": {
    "name": "ipython",
    "version": 3
   },
   "file_extension": ".py",
   "mimetype": "text/x-python",
   "name": "python",
   "nbconvert_exporter": "python",
   "pygments_lexer": "ipython3",
   "version": "3.7.6"
  }
 },
 "nbformat": 4,
 "nbformat_minor": 4
}
