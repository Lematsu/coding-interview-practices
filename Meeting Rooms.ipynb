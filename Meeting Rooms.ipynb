{
 "cells": [
  {
   "cell_type": "markdown",
   "metadata": {},
   "source": [
    "# Meeting Rooms\n",
    "\n",
    "Given an array of meeting time intervals consisting of start and end times [[s1,e1],[s2,e2],...] (si < ei), find the minimum number of conference rooms required.\n",
    "\n",
    "**Example 1:**\n",
    "```\n",
    "Input: [[0, 30],[5, 10],[15, 20]]\n",
    "Output: 2\n",
    "```\n",
    "\n",
    "**Example 2:**\n",
    "```\n",
    "Input: [[7,10],[2,4]]\n",
    "Output: 1\n",
    "```"
   ]
  },
  {
   "cell_type": "markdown",
   "metadata": {},
   "source": [
    "## Communication\n",
    "We could approach this problem using a minimum heap to organize the meeting times. In order to create this heap, we need to first sort the input list by the meeting starting times to be able to assess which meetings would need a room. Then, we compare each meeting intervals where if a meeting room could be replaced we remove the ended meeting from the heap. Then we could add the meeting to the heap, therefore replacing the removed meeting. If we have conflicts, we would not remove any meetings from the heap and add the meeting to the heap. In the heap, we store the ending times of the meeting. We do this because we initially compare the starting time of the new meeting and the ending time of the older meeting, therefore establishing if the meeting conflicts. Since the starting time of the meeting does not need to be stored, we only store the endding times. We use the python native library `heapq` to create a minimum heap. The time complexity of this approach is $O(n log n)$ because we for every meeting n, we use a minimum heap to remove and insert new items. The space complexity is $O(n)$ because we store all possible meetings in the minimum heap."
   ]
  },
  {
   "cell_type": "code",
   "execution_count": 3,
   "metadata": {},
   "outputs": [
    {
     "name": "stdout",
     "output_type": "stream",
     "text": [
      "test#0 passed\n",
      "test#1 passed\n"
     ]
    }
   ],
   "source": [
    "## Coding\n",
    "import heapq\n",
    "class Solution(object):\n",
    "    def minMeetingRooms(self, intervals):\n",
    "        \"\"\"\n",
    "        :type intervals: List[List[int]]\n",
    "        :rtype: int\n",
    "        \"\"\"\n",
    "        if not intervals:\n",
    "            return 0\n",
    "        # sort the intervals by meeting's start time\n",
    "        intervals.sort(key=lambda x: x[0])\n",
    "        free_rooms = []\n",
    "        # push the first meeting's end time\n",
    "        heapq.heappush(free_rooms, intervals[0][1])\n",
    "        # create all necessary rooms for meetings\n",
    "        for meeting in intervals[1:]:\n",
    "            # compare new meeting start time with previous meeting end times\n",
    "            if meeting[0] >= free_rooms[0]:\n",
    "                heapq.heappop(free_rooms)\n",
    "            # add meeting end time to heap\n",
    "            heapq.heappush(free_rooms, meeting[1])\n",
    "        return len(free_rooms)\n",
    "    def unit_tests(self):\n",
    "        test_cases = [\n",
    "            [[[0, 30],[5, 10],[15, 20]], 2],\n",
    "            [[[7,10],[2,4]], 1]\n",
    "        ]\n",
    "        for index, tc in enumerate(test_cases):\n",
    "            output = self.minMeetingRooms(tc[0])\n",
    "            assert output == tc[1], 'test#{0} failed'.format(index)\n",
    "            print('test#{0} passed'.format(index))\n",
    "Solution().unit_tests()"
   ]
  },
  {
   "cell_type": "markdown",
   "metadata": {},
   "source": [
    "## Reference\n",
    "- [Leetcode](https://leetcode.com/problems/meeting-rooms-ii/)"
   ]
  },
  {
   "cell_type": "code",
   "execution_count": null,
   "metadata": {},
   "outputs": [],
   "source": []
  }
 ],
 "metadata": {
  "kernelspec": {
   "display_name": "Python 3",
   "language": "python",
   "name": "python3"
  },
  "language_info": {
   "codemirror_mode": {
    "name": "ipython",
    "version": 3
   },
   "file_extension": ".py",
   "mimetype": "text/x-python",
   "name": "python",
   "nbconvert_exporter": "python",
   "pygments_lexer": "ipython3",
   "version": "3.7.6"
  }
 },
 "nbformat": 4,
 "nbformat_minor": 4
}
