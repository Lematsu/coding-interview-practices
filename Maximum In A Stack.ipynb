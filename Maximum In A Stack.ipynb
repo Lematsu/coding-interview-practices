{
 "cells": [
  {
   "cell_type": "markdown",
   "metadata": {},
   "source": [
    "# Maximum In  Stack\n",
    "\n",
    "Given a list, implement a stack  and return the maximum value of a stack at any given time.\n",
    "\n",
    "```\n",
    "Example:\n",
    "\n",
    "[1,2,3,2] -> 3\n",
    "```"
   ]
  },
  {
   "cell_type": "markdown",
   "metadata": {},
   "source": [
    "## Communication\n",
    "\n",
    "When creating this stack, I will create in a way where it is sorted descending where the largest numbers are in the top of the stack. This is possible by inserting new elements in a way where it is placed in the correct position. We do this by popping all values that are greater than the new number, and once the number is either equal to or less than the next stack on top of the stack, we add it to the stack. We store all the values we previous popped in order, and simply extend the with the popped elements. The runtime complexity is exponential since in the worst case we need to iterate over every element and pop every element in order to add an element. The space complexity is linear since we only have the number of elements in a list.\n",
    "\n",
    "In the above solution, we optimized for space and not time. If we were to optimize for time, we could have two data structures where one stores the stack and another stores the maximum values. When adding values into the stack, we compare if the new item is larger than the most recent value added to maximum stack or the largest number in maximum stack. If the value is less than or equal to the maximum value, we will append this value to the maximum stack. Therefore, when we pop, we will have access "
   ]
  },
  {
   "cell_type": "code",
   "execution_count": 19,
   "metadata": {},
   "outputs": [
    {
     "name": "stdout",
     "output_type": "stream",
     "text": [
      "max_value: 3\n",
      "test#0 passed\n"
     ]
    }
   ],
   "source": [
    "## Coding\n",
    "class MaximumStack(object):\n",
    "    def __init__(self):\n",
    "        self.stack = []\n",
    "        self.maximum_stack = []\n",
    "    def push(self, val):\n",
    "        self.stack.append(val)\n",
    "        if self.maximum_stack != [] and self.maximum_stack[-1] > val:\n",
    "            val = self.maximum_stack[-1]\n",
    "        self.maximum_stack.append(val)\n",
    "    def pop(self):\n",
    "        self.stack.pop()\n",
    "        ret = self.maximum_stack.pop()\n",
    "        return ret\n",
    "        \n",
    "\n",
    "\n",
    "class Solution(object):\n",
    "    def maximum_stack(self, nums):\n",
    "        max_stack = MaximumStack()\n",
    "        for n in nums:\n",
    "            max_stack.push(n)\n",
    "        return max_stack.pop()\n",
    "    def unit_test(self):\n",
    "        test_cases = [\n",
    "            [ [1,2,3,2], 3]\n",
    "        ]\n",
    "        for index, tc in enumerate(test_cases):\n",
    "            max_value = self.maximum_stack(tc[0])\n",
    "            print('max_value: {0}'.format(max_value))\n",
    "            assert max_value == tc[1], 'test#{0} failed'.format(index)\n",
    "            print('test#{0} passed'.format(index))\n",
    "\n",
    "Solution().unit_test()"
   ]
  },
  {
   "cell_type": "code",
   "execution_count": null,
   "metadata": {},
   "outputs": [],
   "source": []
  }
 ],
 "metadata": {
  "kernelspec": {
   "display_name": "Python 3",
   "language": "python",
   "name": "python3"
  },
  "language_info": {
   "codemirror_mode": {
    "name": "ipython",
    "version": 3
   },
   "file_extension": ".py",
   "mimetype": "text/x-python",
   "name": "python",
   "nbconvert_exporter": "python",
   "pygments_lexer": "ipython3",
   "version": "3.7.6"
  }
 },
 "nbformat": 4,
 "nbformat_minor": 4
}
