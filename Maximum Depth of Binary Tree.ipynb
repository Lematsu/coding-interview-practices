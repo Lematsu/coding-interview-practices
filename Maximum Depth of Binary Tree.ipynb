{
 "cells": [
  {
   "cell_type": "markdown",
   "metadata": {},
   "source": [
    "# Maximum Depth of Binary Tree\n",
    "\n",
    "Given a binary tree, find its maximum depth.\n",
    "\n",
    "The maximum depth is the number of nodes along the longest path from the root node down to the farthest leaf node.\n",
    "\n",
    "Note: A leaf is a node with no children.\n",
    "```\n",
    "Example:\n",
    "\n",
    "Given binary tree [3,9,20,null,null,15,7],\n",
    "\n",
    "    3\n",
    "   / \\\n",
    "  9  20\n",
    "    /  \\\n",
    "   15   7\n",
    "return its depth = 3.\n",
    "```"
   ]
  },
  {
   "cell_type": "markdown",
   "metadata": {},
   "source": [
    "## Communication\n",
    "\n",
    "We could approach this problem using dfs and finding the maximum depth the dfs process can reach. This is possible by incrementing the return value by 1 every time dfs traveres down the tree and also recursively calling dfs on the left and right node. We accumulate the greater value between left and right, and continue to do this only we traverse past a leaf node. Once we reach a 'None' value, we could return '0' to increment all values in the recursive stack. With this approach, we can guarantee we tried all traversals and find the maximum depth of the given tree. The time complexity is $O(n)$ since we need to traverse through the entire tree. The space complexity is also linear and $O(n)$ because we're calling the recursive stack that stores all the memory of the local variables within the function call."
   ]
  },
  {
   "cell_type": "code",
   "execution_count": 2,
   "metadata": {},
   "outputs": [
    {
     "name": "stdout",
     "output_type": "stream",
     "text": [
      "test#0 passed\n"
     ]
    }
   ],
   "source": [
    "## Coding\n",
    "\n",
    "# Definition for a binary tree node.\n",
    "# class TreeNode(object):\n",
    "#     def __init__(self, x):\n",
    "#         self.val = x\n",
    "#         self.left = None\n",
    "#         self.right = None\n",
    "class TreeNode(object):\n",
    "    def __init__(self, x):\n",
    "        self.val = x\n",
    "        self.left = None\n",
    "        self.right = None\n",
    "    def __str__(self):\n",
    "        return 'TreeNode {{val: {0}, left: {1}, right: {2}}}'.format(self.val,\n",
    "                                                                  self.left,\n",
    "                                                                  self.right)\n",
    "\n",
    "\n",
    "class Solution(object):\n",
    "    def maxDepth(self, root):\n",
    "        \"\"\"\n",
    "        :type root: TreeNode\n",
    "        :rtype: int\n",
    "        \"\"\"\n",
    "        def dfs(node):\n",
    "            if not node:\n",
    "                return 0\n",
    "            return 1 + max(dfs(node.left), dfs(node.right))\n",
    "        return 1 + max(dfs(root.left), dfs(root.right))\n",
    "    def createTree(self, nums):\n",
    "        head = current = None\n",
    "        # insert dummy header to adjust index to calculate parent-to-child calculations\n",
    "        nums.insert(0, None)\n",
    "        # use queue to maintain order of nodes to add\n",
    "        queue = []\n",
    "        # iterate from the original first input, not the dummy input\n",
    "        for i in range(1, len(nums)):\n",
    "            if head == None:\n",
    "                head = current = TreeNode(nums[i])\n",
    "            else:\n",
    "                current = queue.pop(0)\n",
    "                if current is None:\n",
    "                    continue\n",
    "            if i*2 < len(nums):\n",
    "                if nums[i*2] == None:\n",
    "                    current.left = None\n",
    "                else:\n",
    "                    current.left = TreeNode(nums[i*2])\n",
    "                queue.append(current.left)\n",
    "            if i*2 + 1 < len(nums):\n",
    "                if nums[i*2 + 1] == None:\n",
    "                    current.right = None\n",
    "                else:\n",
    "                    current.right = TreeNode(nums[i*2+1])\n",
    "                queue.append(current.right)\n",
    "        return head\n",
    "    def unit_tests(self):\n",
    "        test_cases = [\n",
    "            [[3,9,20,None,None,15,7], 3]\n",
    "        ]\n",
    "        for index, tc in enumerate(test_cases):\n",
    "            root = self.createTree(tc[0])\n",
    "            output = self.maxDepth(root)\n",
    "            assert output == tc[1], 'test#{0} failed'.format(index)\n",
    "            print('test#{0} passed'.format(index))\n",
    "Solution().unit_tests()"
   ]
  },
  {
   "cell_type": "markdown",
   "metadata": {},
   "source": [
    "## Reference\n",
    "- [Leetcode](https://leetcode.com/problems/maximum-depth-of-binary-tree/)"
   ]
  },
  {
   "cell_type": "code",
   "execution_count": null,
   "metadata": {},
   "outputs": [],
   "source": []
  }
 ],
 "metadata": {
  "kernelspec": {
   "display_name": "Python 3",
   "language": "python",
   "name": "python3"
  },
  "language_info": {
   "codemirror_mode": {
    "name": "ipython",
    "version": 3
   },
   "file_extension": ".py",
   "mimetype": "text/x-python",
   "name": "python",
   "nbconvert_exporter": "python",
   "pygments_lexer": "ipython3",
   "version": "3.7.6"
  }
 },
 "nbformat": 4,
 "nbformat_minor": 4
}
