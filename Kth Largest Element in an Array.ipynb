{
 "cells": [
  {
   "cell_type": "markdown",
   "metadata": {},
   "source": [
    "# Kth Largest Element in an Array\n",
    "\n",
    "Find the kth largest element in an unsorted array. Note that it is the kth largest element in the sorted order, not the kth distinct element.\n",
    "```\n",
    "Example 1:\n",
    "Input: [3,2,1,5,6,4] and k = 2\n",
    "Output: 5\n",
    "\n",
    "Example 2:\n",
    "Input: [3,2,3,1,2,4,5,5,6] and k = 4\n",
    "Output: 4\n",
    "```\n",
    "Note:\n",
    "You may assume k is always valid, 1 ≤ k ≤ array's length."
   ]
  },
  {
   "cell_type": "markdown",
   "metadata": {},
   "source": [
    "## Communication\n",
    "The brute force approach would be to sort the given input array in a descending order, and then find the kth largest element by lookng for the kth distinct number. The time complexity of this would be O(nlog n) where n is the number of arrays because of the sorting function. The space complexity is constant since we're only manipulating the input data.\n",
    "\n",
    "The semi-brute force approach would be to use a max heap and find the kth largest element. The time complexity of the max heap would be O(n log k) since we need to iterate over the array to create the max heap. Once we have a max heap, the access time is O(1). The space complexity is linear or O(n) since the max heap needs to be created with all the elements in the array."
   ]
  },
  {
   "cell_type": "code",
   "execution_count": 3,
   "metadata": {},
   "outputs": [
    {
     "name": "stdout",
     "output_type": "stream",
     "text": [
      "output: 5\n",
      "test#0 passed\n",
      "output: 4\n",
      "test#1 passed\n"
     ]
    }
   ],
   "source": [
    "## Coding\n",
    "class Solution(object):\n",
    "    def findKthLargest(self, nums, k):\n",
    "        \"\"\"\n",
    "        :type nums: List[int]\n",
    "        :type k: int\n",
    "        :rtype: int\n",
    "        \"\"\"\n",
    "        import heapq\n",
    "        return heapq.nlargest(k, nums)[-1]\n",
    "    def unit_tests(self):\n",
    "        test_case = [\n",
    "            [ [3,2,1,5,6,4], 2, 5 ],\n",
    "            [ [3,2,3,1,2,4,5,5,6], 4, 4 ]\n",
    "        ]\n",
    "        for index, tc in enumerate(test_case):\n",
    "            output = self.findKthLargest(tc[0], tc[1])\n",
    "            assert output == tc[2], 'test#{0} failed'.format(index)\n",
    "Solution().unit_tests()"
   ]
  },
  {
   "cell_type": "markdown",
   "metadata": {},
   "source": [
    "## Reference\n",
    "- [Leetcode](https://leetcode.com/problems/kth-largest-element-in-an-array/)"
   ]
  },
  {
   "cell_type": "code",
   "execution_count": null,
   "metadata": {},
   "outputs": [],
   "source": []
  }
 ],
 "metadata": {
  "kernelspec": {
   "display_name": "Python 3",
   "language": "python",
   "name": "python3"
  },
  "language_info": {
   "codemirror_mode": {
    "name": "ipython",
    "version": 3
   },
   "file_extension": ".py",
   "mimetype": "text/x-python",
   "name": "python",
   "nbconvert_exporter": "python",
   "pygments_lexer": "ipython3",
   "version": "3.7.6"
  }
 },
 "nbformat": 4,
 "nbformat_minor": 4
}
