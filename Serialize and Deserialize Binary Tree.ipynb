{
 "cells": [
  {
   "cell_type": "markdown",
   "metadata": {},
   "source": [
    "# Serialize and Deserialize Binary Tree\n",
    "\n",
    "Serialization is the process of converting a data structure or object into a sequence of bits so that it can be stored in a file or memory buffer, or transmitted across a network connection link to be reconstructed later in the same or another computer environment.\n",
    "\n",
    "Design an algorithm to serialize and deserialize a binary tree. There is no restriction on how your serialization/deserialization algorithm should work. You just need to ensure that a binary tree can be serialized to a string and this string can be deserialized to the original tree structure.\n",
    "\n",
    "**Example:**\n",
    "```\n",
    "You may serialize the following tree:\n",
    "\n",
    "    1\n",
    "   / \\\n",
    "  2   3\n",
    "     / \\\n",
    "    4   5\n",
    "```\n",
    "\n",
    "as \"[1,2,3,null,null,4,5]\"\n",
    "Clarification: The above format is the same as how LeetCode serializes a binary tree. You do not necessarily need to follow this format, so please be creative and come up with different approaches yourself.\n",
    "\n",
    "Note: Do not use class member/global/static variables to store states. Your serialize and deserialize algorithms should be stateless."
   ]
  },
  {
   "cell_type": "markdown",
   "metadata": {},
   "source": [
    "## Communication\n",
    "\n",
    "We could approach this problem using dfs where we maintain pre-order traversal, recursing over the left node until we reach an end and then calling the right node. Since the objective is to create a string, and then convert the string back to a tree, running dfs allows us to recreate the tree without maintaining additional data strutures. The time complexity of this approach would be $O(n)$ since we need to traverse over all tree nodes. The space complexity would be $O(n)$ since every recursive call would be stored in the recursive stack."
   ]
  },
  {
   "cell_type": "code",
   "execution_count": 13,
   "metadata": {},
   "outputs": [
    {
     "name": "stdout",
     "output_type": "stream",
     "text": [
      "test#0 passed\n"
     ]
    }
   ],
   "source": [
    "## Coding\n",
    "# Definition for a binary tree node.\n",
    "# class TreeNode(object):\n",
    "#     def __init__(self, x):\n",
    "#         self.val = x\n",
    "#         self.left = None\n",
    "#         self.right = None\n",
    "\n",
    "\n",
    "class TreeNode(object):\n",
    "    def __init__(self, x):\n",
    "        self.val = x\n",
    "        self.left = None\n",
    "        self.right = None\n",
    "\n",
    "class Codec:\n",
    "\n",
    "    def serialize(self, root):\n",
    "        \"\"\"Encodes a tree to a single string.\n",
    "        \n",
    "        :type root: TreeNode\n",
    "        :rtype: str\n",
    "        \"\"\"\n",
    "        def dfs(node, s):\n",
    "            if node is None:\n",
    "                s += 'None,'\n",
    "            else:\n",
    "                s += str(node.val) + ','\n",
    "                s = dfs(node.left, s)\n",
    "                s = dfs(node.right, s)\n",
    "            return s\n",
    "        return dfs(root, '')\n",
    "        \n",
    "        \n",
    "\n",
    "    def deserialize(self, data):\n",
    "        \"\"\"Decodes your encoded data to tree.\n",
    "        \n",
    "        :type data: str\n",
    "        :rtype: TreeNode\n",
    "        \"\"\"\n",
    "        def dfs(l):\n",
    "            if l[0] == 'None':\n",
    "                l.pop(0)\n",
    "                return None\n",
    "            node = TreeNode(l.pop(0))\n",
    "            node.left = dfs(l)\n",
    "            node.right = dfs(l)\n",
    "            return node\n",
    "        data = data.split(',')\n",
    "        root = dfs(data)\n",
    "        return root\n",
    "    \n",
    "    def unit_tests(self):\n",
    "        test_cases = [\n",
    "            ['1,2,3,None,None,4,None,None,5,None,None,']\n",
    "        ]\n",
    "        for index,tc in enumerate(test_cases):\n",
    "            root = self.deserialize(tc[0])\n",
    "            l = self.serialize(root)\n",
    "            assert l == tc[0], 'test#{0} failed'.format(index)\n",
    "            print('test#{0} passed'.format(index))\n",
    "Codec().unit_tests()\n",
    "        \n",
    "\n",
    "# Your Codec object will be instantiated and called as such:\n",
    "# codec = Codec()\n",
    "# codec.deserialize(codec.serialize(root))"
   ]
  },
  {
   "cell_type": "markdown",
   "metadata": {},
   "source": [
    "## Reference\n",
    "- [Leetcode](https://leetcode.com/problems/serialize-and-deserialize-binary-tree/)"
   ]
  },
  {
   "cell_type": "code",
   "execution_count": null,
   "metadata": {},
   "outputs": [],
   "source": []
  }
 ],
 "metadata": {
  "kernelspec": {
   "display_name": "Python 3",
   "language": "python",
   "name": "python3"
  },
  "language_info": {
   "codemirror_mode": {
    "name": "ipython",
    "version": 3
   },
   "file_extension": ".py",
   "mimetype": "text/x-python",
   "name": "python",
   "nbconvert_exporter": "python",
   "pygments_lexer": "ipython3",
   "version": "3.7.6"
  }
 },
 "nbformat": 4,
 "nbformat_minor": 4
}
