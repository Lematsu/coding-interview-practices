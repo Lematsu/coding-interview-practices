{
 "cells": [
  {
   "cell_type": "markdown",
   "metadata": {},
   "source": [
    "# Course Schedule\n",
    "\n",
    "There are a total of numCourses courses you have to take, labeled from 0 to numCourses-1.\n",
    "\n",
    "Some courses may have prerequisites, for example to take course 0 you have to first take course 1, which is expressed as a pair: `[0,1]`\n",
    "\n",
    "Given the total number of courses and a list of prerequisite pairs, is it possible for you to finish all courses?\n",
    "\n",
    " \n",
    "```\n",
    "Example 1:\n",
    "\n",
    "Input: numCourses = 2, prerequisites = [[1,0]]\n",
    "Output: true\n",
    "Explanation: There are a total of 2 courses to take. \n",
    "             To take course 1 you should have finished course 0. So it is possible.\n",
    "Example 2:\n",
    "\n",
    "Input: numCourses = 2, prerequisites = [[1,0],[0,1]]\n",
    "Output: false\n",
    "Explanation: There are a total of 2 courses to take. \n",
    "             To take course 1 you should have finished course 0, and to \n",
    "             take course 0 you should also have finished course 1. So it is impossible.\n",
    "``` \n",
    "\n",
    "Constraints:\n",
    "\n",
    "The input prerequisites is a graph represented by a list of edges, not adjacency matrices. Read more about how a graph is represented.\n",
    "You may assume that there are no duplicate edges in the input prerequisites.\n",
    "1 <= numCourses <= 10^5"
   ]
  },
  {
   "cell_type": "markdown",
   "metadata": {},
   "source": [
    "## Communication\n",
    "\n",
    "We can use hash maps to express the relationships between course and prerequisite. By doing so, we would be able to traverse the course list of prerequisites and check if we have already taken the course. With our hash map, we want to be able to create a set that shows us which courses were possible to take within the number courses we have. The runtime of this algorithm would be exponential since for each course, we traverse through the dictionary to see if we have taken it before. Our space complexity will be linear since we're either only created the hash map or recursive stack.\n",
    "\n"
   ]
  },
  {
   "cell_type": "code",
   "execution_count": 33,
   "metadata": {},
   "outputs": [
    {
     "name": "stdout",
     "output_type": "stream",
     "text": [
      "test#0 passed\n",
      "test#1 passed\n",
      "test#2 passed\n"
     ]
    }
   ],
   "source": [
    "## Coding\n",
    "\n",
    "class Solution(object):\n",
    "    def canFinish(self, numCourses, prerequisites):\n",
    "        \"\"\"\n",
    "        :type numCourses: int\n",
    "        :type prerequisites: List[List[int]]\n",
    "        :rtype: bool\n",
    "        \"\"\"\n",
    "        graph = {}\n",
    "        for edge in prerequisites:\n",
    "            if edge[0] not in graph:\n",
    "                graph[edge[0]] = []\n",
    "            graph[edge[0]].append(edge[1])\n",
    "        visited = set()\n",
    "        def visit(course):\n",
    "            visited.add(course)\n",
    "            if course in graph:\n",
    "                for neighbor in graph[course]:\n",
    "                    if neighbor in visited or visit(neighbor):\n",
    "                        return True\n",
    "            visited.remove(course)\n",
    "            return False\n",
    "        for n in range(numCourses):\n",
    "            if visit(n):\n",
    "                return False\n",
    "        return True\n",
    "    def unit_tests(self):\n",
    "        test_cases = [\n",
    "            [[[1,0]], 2, True],\n",
    "            [[[1,0],[0,1]], 2, False],\n",
    "            [[[1,0],[2,1]], 3, True]\n",
    "        ]\n",
    "        for index, tc in enumerate(test_cases):\n",
    "            output = self.canFinish(tc[1], tc[0])\n",
    "            assert output == tc[2], 'test#{0}'.format(index)\n",
    "            print('test#{0} passed'.format(index))\n",
    "\n",
    "Solution().unit_tests()"
   ]
  },
  {
   "cell_type": "markdown",
   "metadata": {},
   "source": [
    "## Reference\n",
    "- [Leetcode](https://leetcode.com/problems/course-schedule/)"
   ]
  },
  {
   "cell_type": "code",
   "execution_count": null,
   "metadata": {},
   "outputs": [],
   "source": []
  }
 ],
 "metadata": {
  "kernelspec": {
   "display_name": "Python 3",
   "language": "python",
   "name": "python3"
  },
  "language_info": {
   "codemirror_mode": {
    "name": "ipython",
    "version": 3
   },
   "file_extension": ".py",
   "mimetype": "text/x-python",
   "name": "python",
   "nbconvert_exporter": "python",
   "pygments_lexer": "ipython3",
   "version": "3.7.6"
  }
 },
 "nbformat": 4,
 "nbformat_minor": 4
}