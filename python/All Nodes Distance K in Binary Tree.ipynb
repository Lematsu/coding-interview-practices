{
 "cells": [
  {
   "cell_type": "markdown",
   "metadata": {},
   "source": [
    "#  All Nodes Distance K in Binary Tree\n",
    "\n",
    "We are given a binary tree (with root node root), a target node, and an integer value K.\n",
    "\n",
    "Return a list of the values of all nodes that have a distance K from the target node.  The answer can be returned in any order.\n",
    "\n",
    " \n",
    "\n",
    "**Example 1:**\n",
    "\n",
    "![alt text](assets/all_node_distance_k_in_binary.png)\n",
    "```\n",
    "Input: root = [3,5,1,6,2,0,8,null,null,7,4], target = 5, K = 2\n",
    "\n",
    "Output: [7,4,1]\n",
    "```\n",
    "Explanation: \n",
    "The nodes that are a distance 2 from the target node (with value 5)\n",
    "have values 7, 4, and 1.\n",
    "\n",
    "\n",
    "\n",
    "Note that the inputs \"root\" and \"target\" are actually TreeNodes.\n",
    "The descriptions of the inputs above are just serializations of these objects.\n",
    " \n",
    "\n",
    "Note:\n",
    "\n",
    "The given tree is non-empty.\n",
    "Each node in the tree has unique values 0 <= node.val <= 500.\n",
    "The target node is a node in the tree.\n",
    "0 <= K <= 1000."
   ]
  },
  {
   "cell_type": "markdown",
   "metadata": {},
   "source": [
    "## Communication\n",
    "\n",
    "We could approach this problem by running two dfs methods, one dfs to use to find the target node, and another dfs to traverse the graph to find the K distant nodes. To begin with, we maintian a path with the target node by returning the target as 1, and all other failed paths as -1. With this initial distinction, we're able to separate the valid paths and invalid paths. Next, since we terminate the first dfs to seek the target node from continuing to traverse down the graph, we use the secondary dfs to traverse down the graph to find the K distant nodes. When the initial seeker dfs is returning it's traversal stack, we also want to call the second dfs traversal to check for any valid traversals. In addition, for every valid path for the left, we must also traverse down the right path using the second dfs. When we reach K distant in either dps functions, we want to add the node to the result list that contains all the K distant nodes. This approach takes time complexity $O(n)$ because we must traverse every path and node. This approach takes space complexity $O(n)$ because we use dfs and a recursive stack costs linear space complexity."
   ]
  },
  {
   "cell_type": "code",
   "execution_count": 10,
   "metadata": {},
   "outputs": [
    {
     "name": "stdout",
     "output_type": "stream",
     "text": [
      "test#0 passed\n"
     ]
    }
   ],
   "source": [
    "## Coding\n",
    "# Definition for a binary tree node.\n",
    "# class TreeNode(object):\n",
    "#     def __init__(self, x):\n",
    "#         self.val = x\n",
    "#         self.left = None\n",
    "#         self.right = None\n",
    "class TreeNode(object):\n",
    "    def __init__(self, x):\n",
    "        self.val = x\n",
    "        self.left = None\n",
    "        self.right = None\n",
    "\n",
    "class Solution(object):\n",
    "    def distanceK(self, root, target, K):\n",
    "        ans = []\n",
    "        def dfs(node):\n",
    "            if not node:\n",
    "                return -1\n",
    "            elif node == target:\n",
    "                subtree_traverse(node, 0)\n",
    "                return 1\n",
    "            else:\n",
    "                L, R = dfs(node.left), dfs(node.right)\n",
    "                if L != -1:\n",
    "                    if L == K: ans.append(node.val)\n",
    "                    subtree_traverse(node.right, L + 1)\n",
    "                    return L + 1\n",
    "                if R != -1:\n",
    "                    if R == K: ans.append(node.val)\n",
    "                    subtree_traverse(node.left, R + 1)\n",
    "                    return R + 1\n",
    "                else:\n",
    "                    return -1\n",
    "        def subtree_traverse(node, dist):\n",
    "            if not node:\n",
    "                return\n",
    "            elif dist == K:\n",
    "                ans.append(node.val)\n",
    "            else:\n",
    "                subtree_traverse(node.left, dist + 1)\n",
    "                subtree_traverse(node.right, dist + 1)\n",
    "        dfs(root)\n",
    "        return ans\n",
    "    def createTree(self, nums, target):\n",
    "        head = current = tnode = None\n",
    "        nums.insert(0, None)\n",
    "        queue = []\n",
    "        for i in range(1, len(nums)):\n",
    "            if head is None:\n",
    "                head = current = TreeNode(nums[i])\n",
    "            else:\n",
    "                current = queue.pop(0)\n",
    "                if current is None:\n",
    "                    continue\n",
    "                if current.val == target:\n",
    "                    tnode = current\n",
    "            if i*2 < len(nums):\n",
    "                if nums[i*2] == None:\n",
    "                    current.left = None\n",
    "                else:\n",
    "                    current.left = TreeNode(nums[i*2])\n",
    "                queue.append(current.left)\n",
    "            if i*2 + 1 < len(nums):\n",
    "                if nums[i*2+1] == None:\n",
    "                    current.right = None\n",
    "                else:\n",
    "                    current.right = TreeNode(nums[i*2+1])\n",
    "                queue.append(current.right)\n",
    "        return head, tnode\n",
    "            \n",
    "    def unit_tests(self):\n",
    "        test_cases = [\n",
    "            [[3,5,1,6,2,0,8,None,None,7,4], 5, 2, [7, 4, 1]]\n",
    "        ]\n",
    "        for index, tc in enumerate(test_cases):\n",
    "            head, target = self.createTree(tc[0], tc[1])\n",
    "            output = self.distanceK(head, target, tc[2])\n",
    "            assert set(output) == set(tc[3]), 'test#{0} failed'.format(index)\n",
    "            print('test#{0} passed'.format(index))\n",
    "Solution().unit_tests()"
   ]
  },
  {
   "cell_type": "markdown",
   "metadata": {},
   "source": [
    "## Reference\n",
    "- [Leetcode](https://leetcode.com/problems/all-nodes-distance-k-in-binary-tree/)"
   ]
  },
  {
   "cell_type": "code",
   "execution_count": null,
   "metadata": {},
   "outputs": [],
   "source": []
  }
 ],
 "metadata": {
  "kernelspec": {
   "display_name": "Python 3",
   "language": "python",
   "name": "python3"
  },
  "language_info": {
   "codemirror_mode": {
    "name": "ipython",
    "version": 3
   },
   "file_extension": ".py",
   "mimetype": "text/x-python",
   "name": "python",
   "nbconvert_exporter": "python",
   "pygments_lexer": "ipython3",
   "version": "3.7.6"
  }
 },
 "nbformat": 4,
 "nbformat_minor": 4
}