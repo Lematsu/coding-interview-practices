{
 "cells": [
  {
   "cell_type": "markdown",
   "metadata": {},
   "source": [
    "# Invert Binary Tree\n",
    "\n",
    "Invert a binary tree.\n",
    "\n",
    "**Example:**\n",
    "```\n",
    "Input:\n",
    "\n",
    "     4\n",
    "   /   \\\n",
    "  2     7\n",
    " / \\   / \\\n",
    "1   3 6   9\n",
    "Output:\n",
    "\n",
    "     4\n",
    "   /   \\\n",
    "  7     2\n",
    " / \\   / \\\n",
    "9   6 3   1\n",
    "```"
   ]
  },
  {
   "cell_type": "markdown",
   "metadata": {},
   "source": [
    "## Communication\n",
    "\n",
    "We could approach this using dfs, where for every node we invert the left and right node and continue to traverse down the tree until we reach `None`. The time complexity of this algorithm is $O(n)$ where n is the number of nodes in the tree. The space complexity is also linear and $O(n)$ is the number of recursive calls dfs makes."
   ]
  },
  {
   "cell_type": "code",
   "execution_count": 3,
   "metadata": {},
   "outputs": [
    {
     "name": "stdout",
     "output_type": "stream",
     "text": [
      "output: [4, 7, 2, 9, 6, 3, 1]\n",
      "test#0 passed\n"
     ]
    }
   ],
   "source": [
    "## Coding\n",
    "\n",
    "class TreeNode(object):\n",
    "    def __init__(self, x):\n",
    "        self.val = x\n",
    "        self.left = None\n",
    "        self.right = None\n",
    "\n",
    "class Solution(object):\n",
    "    def invertTree(self, root):\n",
    "        \"\"\"\n",
    "        :type root: TreeNode\n",
    "        :rtype: TreeNode\n",
    "        \"\"\"\n",
    "        def dfs(node):\n",
    "            if node is None:\n",
    "                return\n",
    "            store_right = node.right\n",
    "            node.right = node.left\n",
    "            node.left =  store_right\n",
    "            dfs(node.left)\n",
    "            dfs(node.right)\n",
    "        dfs(root)\n",
    "        return root\n",
    "    def createTree(self, nums):\n",
    "        # Function to insert nodes in level order  \n",
    "        def insertLevelOrder(arr, root, i, n): \n",
    "\n",
    "            # Base case for recursion  \n",
    "            if i < n: \n",
    "                temp = TreeNode(arr[i])  \n",
    "                root = temp  \n",
    "\n",
    "                # insert left child  \n",
    "                root.left = insertLevelOrder(arr, root.left, \n",
    "                                             2 * i + 1, n)  \n",
    "\n",
    "                # insert right child  \n",
    "                root.right = insertLevelOrder(arr, root.right, \n",
    "                                              2 * i + 2, n) \n",
    "            return root \n",
    "        n = len(nums) \n",
    "        root = None\n",
    "        root = insertLevelOrder(nums, root, 0, n)  \n",
    "        \n",
    "        return root\n",
    "    def createList(self, root):\n",
    "        res = []\n",
    "        queue = [root]\n",
    "        while queue:\n",
    "            node = queue.pop(0)\n",
    "            if node is not None:\n",
    "                res.append(node.val)\n",
    "                queue.append(node.left)\n",
    "                queue.append(node.right)\n",
    "        return res\n",
    "    def unit_tests(self):\n",
    "        test_cases = [\n",
    "            [[4,2,7,1,3,6,9],[4,7,2,9,6,3,1]]\n",
    "        ]\n",
    "        for index, tc in enumerate(test_cases):\n",
    "            root = self.createTree(tc[0])\n",
    "            root = self.invertTree(root)\n",
    "            output = self.createList(root)\n",
    "            print('output: {0}'.format(output))\n",
    "            assert output == tc[1], 'test#{0} failed'.format(index)\n",
    "            print('test#{0} passed'.format(index))\n",
    "Solution().unit_tests()"
   ]
  },
  {
   "cell_type": "markdown",
   "metadata": {},
   "source": [
    "## Reference\n",
    "- [Leetcode](https://leetcode.com/problems/invert-binary-tree/)"
   ]
  },
  {
   "cell_type": "code",
   "execution_count": null,
   "metadata": {},
   "outputs": [],
   "source": []
  }
 ],
 "metadata": {
  "kernelspec": {
   "display_name": "Python 3",
   "language": "python",
   "name": "python3"
  },
  "language_info": {
   "codemirror_mode": {
    "name": "ipython",
    "version": 3
   },
   "file_extension": ".py",
   "mimetype": "text/x-python",
   "name": "python",
   "nbconvert_exporter": "python",
   "pygments_lexer": "ipython3",
   "version": "3.7.6"
  }
 },
 "nbformat": 4,
 "nbformat_minor": 4
}
