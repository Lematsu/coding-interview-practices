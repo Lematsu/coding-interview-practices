{
 "cells": [
  {
   "cell_type": "markdown",
   "metadata": {},
   "source": [
    "# First Missing Positive Integer\n",
    "\n",
    "Given an unsorted integer array, find the smallest missing positive integer.\n",
    "```\n",
    "Example 1:\n",
    "Input: [1,2,0]\n",
    "Output: 3\n",
    "\n",
    "Example 2:\n",
    "Input: [3,4,-1,1]\n",
    "Output: 2\n",
    "\n",
    "Example 3:\n",
    "Input: [7,8,9,11,12]\n",
    "Output: 1\n",
    "```\n",
    "\n",
    "Note:\n",
    "\n",
    "Your algorithm should run in O(n) time and uses constant extra space."
   ]
  },
  {
   "cell_type": "markdown",
   "metadata": {},
   "source": [
    "## Communication\n",
    "\n",
    "We could approach this problem by using the index of the list as the key and the sign of the values of the indexed list as a boolean function to identify if the index value exists in the list. For instance, if `n=6`, by using the index of the array, exlcuding `index=0`, we can use the array similar to a hashmap where the index is the key and the sign of the indexed value is the boolean of either the indexed positive integer is present in the list as follows: `[1, -1, -2, -3, -4, -5]` where the negative indexed values indicate that there exists a positive integer equivalent to the index value. Here, the indexed=0 is a special index because since we do not have space to be able to store the `n=6` value as an index, we could include a conditional statement that would store the `n` value into the index 0. Therefore, in our above example, since 1 is positive that indicates that 6 is not present in the list. For our approach to work, we would need to check for cases surrounding the index 0 value and negative, zero, and numbers that are larger than n. To begin with, since we treat our index 0 value as special, we want to treat our 1 value as a base case. For instance, if 1 is not present in the list, then we immediately know that 1 is the answer. Similarly, if 1 is present in the list, and the list is only `length=1`, then we can conclude that 2 is the return value. For the data cleaning proportion, since we already have a base case for 1, all negative, zero, and number values greater than `n` could be converted to 1. Therefore, we no longer have to worry for these values, but still be able to maintain the functionality of the indexes as keys. Finally, after our walk through of our processed list with negative values indicating the presence of positive numbers, if all numbers are negative, meaning that in our previous example the input included all numbers up to `n`, then the return value should be `n+1`. With this approach, we can maintain $O(n)$ as our time complexity. Our space complexity is also $O(1)$ since we only use constant variables."
   ]
  },
  {
   "cell_type": "code",
   "execution_count": 6,
   "metadata": {},
   "outputs": [
    {
     "name": "stdout",
     "output_type": "stream",
     "text": [
      "test#0 passed\n",
      "test#1 passed\n",
      "test#2 passed\n"
     ]
    }
   ],
   "source": [
    "## Coding\n",
    "class Solution(object):\n",
    "    def firstMissingPositive(self, nums):\n",
    "        \"\"\"\n",
    "        :type nums: List[int]\n",
    "        :rtype: int\n",
    "        \"\"\"\n",
    "        n = len(nums)\n",
    "        # check for 1\n",
    "        if 1 not in nums:\n",
    "            return 1\n",
    "        # check for 2\n",
    "        if n == 1:\n",
    "            return 2\n",
    "        # clean data: (negative, zero, numbers > n) -> 1\n",
    "        for i in range(n):\n",
    "            if nums[i] <= 0 or nums[i] > n:\n",
    "                nums[i] = 1\n",
    "        # apply signs to existing positives in list\n",
    "        for i in range(n):\n",
    "            a = abs(nums[i])\n",
    "            if a == n:\n",
    "                nums[0] = - abs(nums[0])\n",
    "            else:\n",
    "                nums[a] = - abs(nums[a])\n",
    "        # return first positive < n\n",
    "        for i in range(1, n):\n",
    "            if nums[i] > 0:\n",
    "                return i\n",
    "        # return n\n",
    "        if nums[0] > 0:\n",
    "            return n\n",
    "        # return n + 1\n",
    "        return n + 1\n",
    "    def unit_tests(self):\n",
    "        test_cases = [\n",
    "            [[1,2,0], 3],\n",
    "            [[3,4,-1,1], 2],\n",
    "            [[7,8,9,11,12], 1]\n",
    "        ]\n",
    "        for index, tc in enumerate(test_cases):\n",
    "            output = self.firstMissingPositive(tc[0])\n",
    "            assert output == tc[1], 'test#{0} failed'.format(index)\n",
    "            print('test#{0} passed'.format(index))\n",
    "Solution().unit_tests()"
   ]
  },
  {
   "cell_type": "markdown",
   "metadata": {},
   "source": [
    "## Reference\n",
    "- [Leetcode](https://leetcode.com/problems/first-missing-positive/)"
   ]
  },
  {
   "cell_type": "code",
   "execution_count": null,
   "metadata": {},
   "outputs": [],
   "source": []
  }
 ],
 "metadata": {
  "kernelspec": {
   "display_name": "Python 3",
   "language": "python",
   "name": "python3"
  },
  "language_info": {
   "codemirror_mode": {
    "name": "ipython",
    "version": 3
   },
   "file_extension": ".py",
   "mimetype": "text/x-python",
   "name": "python",
   "nbconvert_exporter": "python",
   "pygments_lexer": "ipython3",
   "version": "3.7.6"
  }
 },
 "nbformat": 4,
 "nbformat_minor": 4
}
