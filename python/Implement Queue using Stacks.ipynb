{
 "cells": [
  {
   "cell_type": "markdown",
   "metadata": {},
   "source": [
    "# Implement Queue using Stacks\n",
    "\n",
    "Implement the following operations of a queue using stacks.\n",
    "\n",
    "push(x) -- Push element x to the back of queue.\n",
    "pop() -- Removes the element from in front of queue.\n",
    "peek() -- Get the front element.\n",
    "empty() -- Return whether the queue is empty.\n",
    "```\n",
    "Example:\n",
    "\n",
    "MyQueue queue = new MyQueue();\n",
    "\n",
    "queue.push(1);\n",
    "queue.push(2);  \n",
    "queue.peek();  // returns 1\n",
    "queue.pop();   // returns 1\n",
    "queue.empty(); // returns false\n",
    "```\n",
    "\n",
    "**Notes:**\n",
    "\n",
    "You must use only standard operations of a stack -- which means only push to top, peek/pop from top, size, and is empty operations are valid.\n",
    "Depending on your language, stack may not be supported natively. You may simulate a stack by using a list or deque (double-ended queue), as long as you use only standard operations of a stack.\n",
    "You may assume that all operations are valid (for example, no pop or peek operations will be called on an empty queue)."
   ]
  },
  {
   "cell_type": "markdown",
   "metadata": {},
   "source": [
    "## Communication\n",
    "\n",
    "We could approach this problem by representing the stack as a list, where we represent the stack functionality by appending to the tail of the list with append and removing from the tail of the list to maintain LIFO (Last In First Out). For the **push** functionality, we could simply append the input element to the list. The time complexity of this is $O(1)$ where it is constant. The **empty** functionality needs to check if the stack / list is empty. The time complexity is $O(1)$ where it is constant. For the **peek** functionality, we need to move all list elements from list to another new list where the new list is stored in reverse order of the original list. We then want to copy the first element in the reversed stack. Next, we want to return all reverse elements in stack to the original order in stack. Finally, we want to return the copy element. For the **pop** functionality, the procedure is similar to **peek** but we do not want to keep the first element in the reversed new list. Rather we want to remove it from the reversed new list when we are restoring the original list. The time complexity for **peek** and **pop** are both $O(n)$. The space complexity for all these methods are $O(n)$ because we're using the list as the stack functionality."
   ]
  },
  {
   "cell_type": "code",
   "execution_count": 2,
   "metadata": {},
   "outputs": [
    {
     "name": "stdout",
     "output_type": "stream",
     "text": [
      "test#0 passed\n"
     ]
    }
   ],
   "source": [
    "## Coding\n",
    "\n",
    "class MyQueue(object):\n",
    "\n",
    "    def __init__(self):\n",
    "        \"\"\"\n",
    "        Initialize your data structure here.\n",
    "        \"\"\"\n",
    "        self.stack = []\n",
    "        \n",
    "\n",
    "    def push(self, x):\n",
    "        \"\"\"\n",
    "        Push element x to the back of queue.\n",
    "        :type x: int\n",
    "        :rtype: None\n",
    "        \"\"\"\n",
    "        self.stack.append(x)\n",
    "\n",
    "    def pop(self):\n",
    "        \"\"\"\n",
    "        Removes the element from in front of queue and returns that element.\n",
    "        :rtype: int\n",
    "        \"\"\"\n",
    "        reversed_stack = []\n",
    "        # break loop when there is only one element\n",
    "        while len(self.stack) > 1:\n",
    "            reversed_stack.append(self.stack.pop())\n",
    "        pop_value = self.stack.pop()\n",
    "        while reversed_stack:\n",
    "            self.stack.append(reversed_stack.pop())\n",
    "        return pop_value\n",
    "        \n",
    "\n",
    "    def peek(self):\n",
    "        \"\"\"\n",
    "        Get the front element.\n",
    "        :rtype: int\n",
    "        \"\"\"\n",
    "        reversed_stack = []\n",
    "        while self.stack:\n",
    "            reversed_stack.append(self.stack.pop())\n",
    "        peek_value = reversed_stack[-1]\n",
    "        while reversed_stack:\n",
    "            self.stack.append(reversed_stack.pop())\n",
    "        return peek_value\n",
    "        \n",
    "\n",
    "    def empty(self):\n",
    "        \"\"\"\n",
    "        Returns whether the queue is empty.\n",
    "        :rtype: bool\n",
    "        \"\"\"\n",
    "        return self.stack == []\n",
    "    \n",
    "    def unit_tests(self):\n",
    "        test_cases = [\n",
    "            # [push, peek, pop, empty]\n",
    "            [1, 1, 1, True]\n",
    "        ]\n",
    "        for index, tc in enumerate(test_cases):\n",
    "            self.push(tc[0])\n",
    "            param_1 = self.peek()\n",
    "            param_2 = self.pop()\n",
    "            param_3 = self.empty()\n",
    "            assert (tc[1], tc[2], tc[3]) == (param_1, param_2, param_3), 'test#{0} failed'.format(index)\n",
    "            print('test#{0} passed'.format(index))\n",
    "\n",
    "MyQueue().unit_tests()\n",
    "\n",
    "\n",
    "# Your MyQueue object will be instantiated and called as such:\n",
    "# obj = MyQueue()\n",
    "# obj.push(x)\n",
    "# param_2 = obj.pop()\n",
    "# param_3 = obj.peek()\n",
    "# param_4 = obj.empty()"
   ]
  },
  {
   "cell_type": "markdown",
   "metadata": {},
   "source": [
    "## Reference\n",
    "- [Leetcode](https://leetcode.com/problems/implement-queue-using-stacks)"
   ]
  },
  {
   "cell_type": "code",
   "execution_count": null,
   "metadata": {},
   "outputs": [],
   "source": []
  }
 ],
 "metadata": {
  "kernelspec": {
   "display_name": "Python 3",
   "language": "python",
   "name": "python3"
  },
  "language_info": {
   "codemirror_mode": {
    "name": "ipython",
    "version": 3
   },
   "file_extension": ".py",
   "mimetype": "text/x-python",
   "name": "python",
   "nbconvert_exporter": "python",
   "pygments_lexer": "ipython3",
   "version": "3.7.6"
  }
 },
 "nbformat": 4,
 "nbformat_minor": 4
}
