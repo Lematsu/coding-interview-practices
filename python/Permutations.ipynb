{
 "cells": [
  {
   "cell_type": "markdown",
   "metadata": {},
   "source": [
    "# Permutations\n",
    "\n",
    "Given a collection of distinct integers, return all possible permutations.\n",
    "```\n",
    "Example:\n",
    "\n",
    "Input: [1,2,3]\n",
    "Output:\n",
    "[\n",
    "  [1,2,3],\n",
    "  [1,3,2],\n",
    "  [2,1,3],\n",
    "  [2,3,1],\n",
    "  [3,1,2],\n",
    "  [3,2,1]\n",
    "]\n",
    "```"
   ]
  },
  {
   "cell_type": "markdown",
   "metadata": {},
   "source": [
    "## Communication\n",
    "\n",
    "My approach will utilize backtracking to be able to manipulate data, recurisvely call function, and revert the data. This approach would allow us to check for every permutation in a given list. The recursive approach allows us to store the manipulated list in the recurisve stack, therefore"
   ]
  },
  {
   "cell_type": "code",
   "execution_count": 16,
   "metadata": {},
   "outputs": [
    {
     "name": "stdout",
     "output_type": "stream",
     "text": [
      "output: [[1, 2, 3], [1, 3, 2], [2, 1, 3], [2, 3, 1], [3, 2, 1], [3, 1, 2]]\n",
      "tc[1]: [[1, 2, 3], [1, 3, 2], [2, 1, 3], [2, 3, 1], [3, 2, 1], [3, 1, 2]]\n",
      "test#0 passed\n"
     ]
    }
   ],
   "source": [
    "## Coding\n",
    "class Solution:\n",
    "    def permutation(self, nums):\n",
    "        res = []\n",
    "        def permutationHelper(start):\n",
    "            if start == len(nums) - 1:\n",
    "                res.append(nums[:])\n",
    "            for i in range(start, len(nums)):\n",
    "                nums[start], nums[i] = nums[i], nums[start]\n",
    "                permutationHelper(start + 1)\n",
    "                nums[start], nums[i] = nums[i], nums[start]\n",
    "        permutationHelper(0)\n",
    "        return res\n",
    "    def unit_test(self):\n",
    "        test_cases = [ [[1,2,3], [[1,2,3],[1,3,2],[2,1,3],[2,3,1],[3,2,1],[3,1,2]]] ]\n",
    "        for index, tc in enumerate(test_cases):\n",
    "            output = self.permutation(tc[0])\n",
    "            print('output: {0}'.format(output))\n",
    "            print('tc[1]: {0}'.format(tc[1]))\n",
    "            assert output == tc[1], 'test#{0} failed'.format(index)\n",
    "            print('test#{0} passed'.format(index))\n",
    "\n",
    "Solution().unit_test()"
   ]
  },
  {
   "cell_type": "markdown",
   "metadata": {},
   "source": [
    "## Reference\n",
    "- [Leetcode](https://leetcode.com/problems/permutations/)"
   ]
  },
  {
   "cell_type": "code",
   "execution_count": null,
   "metadata": {},
   "outputs": [],
   "source": []
  }
 ],
 "metadata": {
  "kernelspec": {
   "display_name": "Python 3",
   "language": "python",
   "name": "python3"
  },
  "language_info": {
   "codemirror_mode": {
    "name": "ipython",
    "version": 3
   },
   "file_extension": ".py",
   "mimetype": "text/x-python",
   "name": "python",
   "nbconvert_exporter": "python",
   "pygments_lexer": "ipython3",
   "version": "3.7.6"
  }
 },
 "nbformat": 4,
 "nbformat_minor": 4
}
