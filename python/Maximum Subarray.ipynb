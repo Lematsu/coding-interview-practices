{
 "cells": [
  {
   "cell_type": "markdown",
   "metadata": {},
   "source": [
    "# Maximum Subarray\n",
    "\n",
    "Given an integer array `nums`, find the contiguous subarray (containing at least one number) which has the largest sum and return its sum.\n",
    "\n",
    "**Example:**\n",
    "```\n",
    "Input: [-2,1,-3,4,-1,2,1,-5,4],\n",
    "Output: 6\n",
    "Explanation: [4,-1,2,1] has the largest sum = 6.\n",
    "```\n",
    "Follow up:\n",
    "\n",
    "If you have figured out the $O(n)$ solution, try coding another solution using the divide and conquer approach, which is more subtle."
   ]
  },
  {
   "cell_type": "markdown",
   "metadata": {},
   "source": [
    "## Communication\n",
    "\n",
    "We could approach this algorithm with a greedy method where we iterate over the input from left to right, incrementing the current value is it is larger comparative with the current value or accumulation of previous and current, and determining if this iterative value is larger than the previous maximum value. With this approach, we could maintain the time complexity of $O(n)$ where $n$ is the number of items in the input and we only need one pass to figure out this solution. The time complexity is constant since we're only storing constant variables of the largest values and current values."
   ]
  },
  {
   "cell_type": "code",
   "execution_count": 3,
   "metadata": {},
   "outputs": [
    {
     "name": "stdout",
     "output_type": "stream",
     "text": [
      "test#0 passed\n"
     ]
    }
   ],
   "source": [
    "## Coding\n",
    "class Solution:\n",
    "    def cross_sum(self, nums, left, right, p):\n",
    "        if left == right:\n",
    "            return nums[left]\n",
    "        left_sum = float('-inf')\n",
    "        curr_sum = 0\n",
    "        for i in range(p, left - 1, -1):\n",
    "            curr_sum += nums[i]\n",
    "            left_sum = max(left_sum, curr_sum)\n",
    "        right_sum = float('-inf')\n",
    "        curr_sum = 0\n",
    "        for i in range(p + 1, right + 1):\n",
    "            curr_sum += nums[i]\n",
    "            right_sum = max(right_sum, curr_sum)\n",
    "        return left_sum + right_sum\n",
    "    def helper(self, nums, left, right):\n",
    "        if left == right:\n",
    "            return nums[left]\n",
    "        p = (left + right) // 2\n",
    "        left_sum = self.helper(nums, left, p)\n",
    "        right_sum = self.helper(nums, p + 1, right)\n",
    "        cross_sum = self.cross_sum(nums, left, right, p)\n",
    "        return max(left_sum, right_sum, cross_sum)\n",
    "    \n",
    "    def maxSubArray(self, nums):\n",
    "        return self.helper(nums, 0, len(nums) - 1)\n",
    "    \n",
    "    def unit_tests(self):\n",
    "        test_cases = [\n",
    "            [[-2,1,-3,4,-1,2,1,-5,4], 6]\n",
    "        ]\n",
    "        for index, tc in enumerate(test_cases):\n",
    "            output = self.maxSubArray(tc[0])\n",
    "            assert output == tc[1], 'test#{0} failed'.format(index)\n",
    "            print('test#{0} passed'.format(index))\n",
    "Solution().unit_tests()"
   ]
  },
  {
   "cell_type": "markdown",
   "metadata": {},
   "source": [
    "## Reference\n",
    "- [Leetcode](https://leetcode.com/problems/maximum-subarray/)"
   ]
  },
  {
   "cell_type": "code",
   "execution_count": null,
   "metadata": {},
   "outputs": [],
   "source": []
  }
 ],
 "metadata": {
  "kernelspec": {
   "display_name": "Python 3",
   "language": "python",
   "name": "python3"
  },
  "language_info": {
   "codemirror_mode": {
    "name": "ipython",
    "version": 3
   },
   "file_extension": ".py",
   "mimetype": "text/x-python",
   "name": "python",
   "nbconvert_exporter": "python",
   "pygments_lexer": "ipython3",
   "version": "3.7.6"
  }
 },
 "nbformat": 4,
 "nbformat_minor": 4
}
