{
 "cells": [
  {
   "cell_type": "markdown",
   "metadata": {},
   "source": [
    "# Surrounded Regions\n",
    "\n",
    "Given a 2D board containing 'X' and 'O' (the letter O), capture all regions surrounded by 'X'.\n",
    "\n",
    "A region is captured by flipping all 'O's into 'X's in that surrounded region.\n",
    "\n",
    "```\n",
    "Example:\n",
    "X X X X\n",
    "X O O X\n",
    "X X O X\n",
    "X O X X\n",
    "After running your function, the board should be:\n",
    "\n",
    "X X X X\n",
    "X X X X\n",
    "X X X X\n",
    "X O X X\n",
    "```\n",
    "Explanation:\n",
    "\n",
    "Surrounded regions shouldn’t be on the border, which means that any 'O' on the border of the board are not flipped to 'X'. Any 'O' that is not on the border and it is not connected to an 'O' on the border will be flipped to 'X'. Two cells are connected if they are adjacent cells connected horizontally or vertically."
   ]
  },
  {
   "cell_type": "markdown",
   "metadata": {},
   "source": [
    "## Communication\n",
    "\n",
    "We could approach this problem by running dfs on only the essential sections on the board, the borders. For the rows, we only need to check if there exists $O$s in the head and tail columns. Similarly for columns, we need to check for `O`s in the head and tail rows. With this approach, we can greatly reduce the number of iterations we need. Since we're running dfs, we are only iterating over the necessary `O`s instead of iterating over every `O` that would not be contiguous with the border `O`s. To be able to determine which cells are contiguous with the border $O$s, we could change these cells to be represented by white space, like `' '`. Therefore, after we run dfs on the board and identified all border contiguous `O`s, we can simply process the board and flip the existing `O` to `X` and `' '` to `O`. The time complexity is O(row * col) since we still need to process the whole board at the end to apply changes. The space complexity is constant since we only store constant values."
   ]
  },
  {
   "cell_type": "code",
   "execution_count": 37,
   "metadata": {},
   "outputs": [
    {
     "name": "stdout",
     "output_type": "stream",
     "text": [
      "test#0 passed\n",
      "test#1 passed\n"
     ]
    }
   ],
   "source": [
    "## Coding\n",
    "\n",
    "class Solution(object):\n",
    "    def solve(self, board):\n",
    "        \"\"\"\n",
    "        :type board: List[List[str]]\n",
    "        :rtype: None Do not return anything, modify board in-place instead.\n",
    "        \"\"\"\n",
    "        if not board:\n",
    "            return None\n",
    "        rows = len(board)\n",
    "        cols = len(board[0])\n",
    "        def dfs(row, col):\n",
    "            if row < 0 or row >= rows or col < 0 or col >= cols:\n",
    "                return\n",
    "            if board[row][col] != 'O':\n",
    "                return\n",
    "            board[row][col] = ' '\n",
    "            dfs(row + 1, col)\n",
    "            dfs(row - 1, col)\n",
    "            dfs(row, col + 1)\n",
    "            dfs(row, col - 1)\n",
    "                \n",
    "        for row in range(rows):\n",
    "            dfs(row, 0)\n",
    "            dfs(row, cols - 1)\n",
    "        for col in range(cols):\n",
    "            dfs(0, col)\n",
    "            dfs(rows - 1, col)\n",
    "        for row in range(rows):\n",
    "            for col in range(cols):\n",
    "                if board[row][col] == 'O':\n",
    "                    board[row][col] = 'X'\n",
    "                elif board[row][col] == ' ':\n",
    "                    board[row][col] = 'O'\n",
    "\n",
    "\n",
    "    def unit_tests(self):\n",
    "        test_cases = [\n",
    "            [[['X', 'X', 'X', 'X'],['X', 'O', 'O', 'X'],['X', 'X', 'O', 'X'],['X', 'O', 'X', 'X']], \n",
    "            [['X', 'X', 'X', 'X'],['X', 'X', 'X', 'X'],['X', 'X', 'X', 'X'],['X', 'O', 'X', 'X']],],\n",
    "            [[[\"O\",\"O\"],[\"O\",\"O\"]], [[\"O\",\"O\"],[\"O\",\"O\"]]]\n",
    "        ]\n",
    "        for index, tc in enumerate(test_cases):\n",
    "            board = tc[0]\n",
    "            self.solve(board)\n",
    "            assert board == tc[1], 'test#{0} failed'.format(index)\n",
    "            print('test#{0} passed'.format(index))\n",
    "\n",
    "Solution().unit_tests()"
   ]
  },
  {
   "cell_type": "code",
   "execution_count": null,
   "metadata": {},
   "outputs": [],
   "source": []
  }
 ],
 "metadata": {
  "kernelspec": {
   "display_name": "Python 3",
   "language": "python",
   "name": "python3"
  },
  "language_info": {
   "codemirror_mode": {
    "name": "ipython",
    "version": 3
   },
   "file_extension": ".py",
   "mimetype": "text/x-python",
   "name": "python",
   "nbconvert_exporter": "python",
   "pygments_lexer": "ipython3",
   "version": "3.7.6"
  }
 },
 "nbformat": 4,
 "nbformat_minor": 4
}
