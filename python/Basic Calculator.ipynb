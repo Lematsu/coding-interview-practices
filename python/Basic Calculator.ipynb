{
 "cells": [
  {
   "cell_type": "markdown",
   "metadata": {},
   "source": [
    "# Basic Calculator\n",
    "\n",
    "Implement a basic calculator to evaluate a simple expression string.\n",
    "\n",
    "The expression string may contain open ( and closing parentheses ), the plus + or minus sign -, non-negative integers and empty spaces .\n",
    "\n",
    "```\n",
    "Example 1:\n",
    "Input: \"1 + 1\"\n",
    "Output: 2\n",
    "\n",
    "Example 2:\n",
    "Input: \" 2-1 + 2 \"\n",
    "Output: 3\n",
    "\n",
    "Example 3:\n",
    "Input = \"-(3 + (2 - 1))\"\n",
    "Output = -4\n",
    "\n",
    "Example 4:\n",
    "Input: \"(1+(4+5+2)-3)+(6+8)\"\n",
    "Output: 23\n",
    "```\n",
    "Note:\n",
    "You may assume that the given expression is always valid.\n",
    "Do not use the eval built-in library function."
   ]
  },
  {
   "cell_type": "markdown",
   "metadata": {},
   "source": [
    "## Communication\n",
    "\n",
    "We have to evaluate sub-expressions and store information when iterating character-by-character. The information we need to store are the previous accumulation of values, the current accumulation of values, and overall result, and the state of operation. In addition, we need to maintain an index to be able to keep track of which character we're evaluating in the expresion. First, by maintaining the current accumulation of values, we're able to handle multiple digits. We maintain multiple digits by multiplying the current accumulation by 10 to signify an increase in digits and adding the newly evaluating digit. This could be expressed in code as follows:\n",
    "```\n",
    "current = current * 10 + int(c)\n",
    "```\n",
    "Next, when we encounter operator characters such as \"+\" and \"-\", we want to prepare our proceeding numbers to be able to be handled by our result. We achieve this by adding our previous stored values to the result and having a state operator to be set as eitehr \"+\" and \"-\". When the state operator is set as \"+\", we can simply store our current value to variable previous. This variable previous acts as a buffer to be stored until we come across another operator, end-of-string, or right parenthesis. The combination of the mentioned characters are terminator characters that no longer contributes to the sum of the buffer, so when we encounter these terminator characters, we could add our buffer to the result. When we have the right parenthesis, we could return the result and previous stored values in addition to the index. This returning of index allows the use of recursive functions, where when we encounter a left parenthesis, we could treat the proceeding numbers and operators as an independent. When we're returning our recursive function, we want to also return the index so taht the base function that called the recursie function will know up to what point we have already indexed.\n",
    "\n",
    "By maintaining the above algorithm, we can process the basic calculation in linear time or O(n) where n is the number of characters. The space complexity is constant because we do not use a data structure to maintain or states. We do use a recursive stack, but since all our variables are constants, we can maintain the space complexity as constants."
   ]
  },
  {
   "cell_type": "code",
   "execution_count": 33,
   "metadata": {},
   "outputs": [
    {
     "name": "stdout",
     "output_type": "stream",
     "text": [
      "output: 2\n",
      "test#0 passed\n",
      "output: 3\n",
      "test#1 passed\n",
      "output: -4\n",
      "test#2 passed\n",
      "output: 23\n",
      "test#3 passed\n",
      "output: -3\n",
      "test#4 passed\n",
      "output: 2147483647\n",
      "test#5 passed\n"
     ]
    }
   ],
   "source": [
    "## Coding\n",
    "class Solution(object):\n",
    "    def calculate(self, s):\n",
    "        \"\"\"\n",
    "        :type s: str\n",
    "        :rtype: int\n",
    "        \"\"\"\n",
    "        return self.calc(s, 0)[0]\n",
    "    \n",
    "\n",
    "    def calc(self, s, index):\n",
    "        previous, current, result, op = 0, 0, 0, '+'\n",
    "        while index < len(s):\n",
    "            c = s[index]\n",
    "            if c.isdigit():\n",
    "                current = current * 10 + int(c)\n",
    "            if c in '+-' or index == len(s) - 1 or c == ')':\n",
    "                if op == '+':\n",
    "                    result += previous\n",
    "                    previous = current\n",
    "                elif op == '-':\n",
    "                    result += previous\n",
    "                    previous = -current\n",
    "                current = 0\n",
    "                op = c\n",
    "            elif c == '(':\n",
    "                value, index = self.calc(s,index+1)\n",
    "                result += -value if op == '-' else value\n",
    "            if c == ')':\n",
    "                return result + previous, index\n",
    "            index += 1\n",
    "        return result + previous, index\n",
    "        \n",
    "    def unit_tests(self):\n",
    "        test_cases = [\n",
    "            [\"1 + 1\", 2],\n",
    "            [\" 2-1 + 2 \", 3],\n",
    "            [\"-(3 + (2 - 1))\", -4],\n",
    "            [\"(1+(4+5+2)-3)+(6+8)\", 23],\n",
    "            [\"- (3 + (4 + 5)) + 9\", -3],\n",
    "            [\"2147483647\", 2147483647]\n",
    "        ]\n",
    "        for index, tc in enumerate(test_cases):\n",
    "            output = self.calculate(tc[0])\n",
    "            print('output: {0}'.format(output))\n",
    "            assert output == tc[1], 'test#{0} failed'.format(index)\n",
    "            print('test#{0} passed'.format(index))\n",
    "Solution().unit_tests()"
   ]
  },
  {
   "cell_type": "markdown",
   "metadata": {},
   "source": [
    "## Reference\n",
    "- [Leetcode](https://leetcode.com/problems/basic-calculator/)"
   ]
  },
  {
   "cell_type": "code",
   "execution_count": null,
   "metadata": {},
   "outputs": [],
   "source": []
  }
 ],
 "metadata": {
  "kernelspec": {
   "display_name": "Python 3",
   "language": "python",
   "name": "python3"
  },
  "language_info": {
   "codemirror_mode": {
    "name": "ipython",
    "version": 3
   },
   "file_extension": ".py",
   "mimetype": "text/x-python",
   "name": "python",
   "nbconvert_exporter": "python",
   "pygments_lexer": "ipython3",
   "version": "3.7.6"
  }
 },
 "nbformat": 4,
 "nbformat_minor": 4
}
