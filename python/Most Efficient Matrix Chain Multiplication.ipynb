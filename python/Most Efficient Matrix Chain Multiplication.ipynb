{
 "cells": [
  {
   "cell_type": "markdown",
   "metadata": {},
   "source": [
    "# Most Efficient Matrix Chain Multiplication\n",
    "\n",
    "Given a sequence of matrices, find the most efficient way to multiply these matrices together. The problem is not actually to perform the multiplications, but merely to decide in which order to perform the multiplications.\n",
    "\n",
    "```\n",
    "Example:\n",
    "Input: [40,20,30,10,30]\n",
    "Output: 26000\n",
    "\n",
    "In the above example, the matrices are 40x20, 20x30, 30x10, 10x30.\n",
    "```"
   ]
  },
  {
   "cell_type": "markdown",
   "metadata": {},
   "source": [
    "## Communication\n",
    "We could approach this problem with two methods: one with recursion and another with dynamic programming. The idea is to test all possible combinations of matrix multiplications, and chose the most minimum number of multiplications necessary. For instance, if we name the four matrices in the example with $A_1$, $A_2$, $A_3$, and $A_4$, we want to be able to figure out how we could arrange the matrix multiplication to be the most efficient. It could be $(A_1)(((A_2)(A_3))(A_4))$, etc. We could be able to iteratively process this multiplication by numbering each potential matrix, and then recursively checking the minimum outcome from matrix 1->4, 1->3, 1->2, 1->1, 2->3, 2->4 and so on. Although the recurisve method would be the more simpler approach to code and devise an algorithm, the dynamic programming approach would be more efficient because we could store the outcomes of the past calculations. Therefore, we could memoize some given inputs and outputs to reduce redundancy. Since we checking for every combination, the runtime of both methods would be $O(n!)$ where $n$ is the number of multiplications between matrices. The space complexity for dynamic programming would be more efficient than the recursive stack because we could store all the output in a matrix which is $O(n^2)$ while the recursive method woould be utilizing a recursive stack which would be $O(n!)$ due to the number of calls it would need."
   ]
  },
  {
   "cell_type": "code",
   "execution_count": 7,
   "metadata": {},
   "outputs": [
    {
     "name": "stdout",
     "output_type": "stream",
     "text": [
      "test#0 recursive passed\n",
      "test#0 dynamic programming passed\n",
      "test#1 recursive passed\n",
      "test#1 dynamic programming passed\n",
      "test#2 recursive passed\n",
      "test#2 dynamic programming passed\n"
     ]
    }
   ],
   "source": [
    "## Coding\n",
    "class Solution(object):\n",
    "    def matrixChainRecursive(self, nums):\n",
    "        def helper(p, i, j):\n",
    "            if i == j:\n",
    "                return 0\n",
    "            _min = float('inf')\n",
    "            \n",
    "            for k in range(i, j):\n",
    "                count = (helper(p,i,k) + helper(p,k+1,j) + p[i-1] * p[k] * p[j])\n",
    "                if count < _min:\n",
    "                    _min = count\n",
    "            \n",
    "            return _min\n",
    "        return helper(nums, 1, len(nums)-1)\n",
    "\n",
    "    def matrixChainDP(self, nums):\n",
    "        n = len(nums)\n",
    "        m = [[0 for _ in range(n)] for _ in range(n)]\n",
    "        \n",
    "        # zero case for multiplying one matrix\n",
    "        for i in range(1, n):\n",
    "            m[i][i] = 0\n",
    "        \n",
    "        for d in range(2, n):\n",
    "            for i in range(1, n-d + 1):\n",
    "                j = i + d-1\n",
    "                m[i][j] = float('inf')\n",
    "                for k in range(i, j):\n",
    "                    c = m[i][k] + m[k + 1][j] + nums[i-1]*nums[k]*nums[j]\n",
    "                    if c < m[i][j]:\n",
    "                        m[i][j] = c\n",
    "        return m[1][n-1]\n",
    "\n",
    "    def unit_tests(self):\n",
    "        test_cases = [\n",
    "            [[40,20,30,10,30], 26000],\n",
    "            [[10,20,30,40,30], 30000],\n",
    "            [[10,20,30], 6000]\n",
    "        ]\n",
    "        for index, tc in enumerate(test_cases):\n",
    "            output = self.matrixChainRecursive(tc[0])\n",
    "            assert output == tc[1], 'test#{0} recursive failed'.format(index)\n",
    "            print('test#{0} recursive passed'.format(index))\n",
    "            output = self.matrixChainDP(tc[0])\n",
    "            assert output == tc[1], 'test#{0} dynamic programming failed'.format(index)\n",
    "            print('test#{0} dynamic programming passed'.format(index))\n",
    "Solution().unit_tests()"
   ]
  },
  {
   "cell_type": "code",
   "execution_count": null,
   "metadata": {},
   "outputs": [],
   "source": []
  }
 ],
 "metadata": {
  "kernelspec": {
   "display_name": "Python 3",
   "language": "python",
   "name": "python3"
  },
  "language_info": {
   "codemirror_mode": {
    "name": "ipython",
    "version": 3
   },
   "file_extension": ".py",
   "mimetype": "text/x-python",
   "name": "python",
   "nbconvert_exporter": "python",
   "pygments_lexer": "ipython3",
   "version": "3.7.6"
  }
 },
 "nbformat": 4,
 "nbformat_minor": 4
}
