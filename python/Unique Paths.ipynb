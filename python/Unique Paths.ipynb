{
 "cells": [
  {
   "cell_type": "markdown",
   "metadata": {},
   "source": [
    "# Unique Paths\n",
    "\n",
    "A robot is located at the top-left corner of a m x n grid (marked 'Start' in the diagram below).\n",
    "\n",
    "The robot can only move either down or right at any point in time. The robot is trying to reach the bottom-right corner of the grid (marked 'Finish' in the diagram below).\n",
    "\n",
    "How many possible unique paths are there?\n",
    "```\n",
    "Example 1:\n",
    "\n",
    "Input: m = 3, n = 2\n",
    "Output: 3\n",
    "Explanation:\n",
    "From the top-left corner, there are a total of 3 ways to reach the bottom-right corner:\n",
    "1. Right -> Right -> Down\n",
    "2. Right -> Down -> Right\n",
    "3. Down -> Right -> Right\n",
    "Example 2:\n",
    "\n",
    "Input: m = 7, n = 3\n",
    "Output: 28\n",
    "```"
   ]
  },
  {
   "cell_type": "markdown",
   "metadata": {},
   "source": [
    "## Communication\n",
    "\n",
    "We could approach this problem in a dynamic programming where where we update the data per iteration. We could identify this problem as a dynamic programming question because given a matrix with a starting condition, we update the matrix cells row by row. We could initially create the matrix, and give the row = 0 and col = 0 values as ones, since there is only one path going straight right and straight down. Then, for row = 1 onward and col = 1 onward, we could add the sums of the row - 1 and col - 1 values together for the left over cells. The total paths would be recorded in the bottom righ corner cell, which is the cell the robot is trying to reach. The time complexity of this algorithm is O(m* n) because we're iterating over both m and n. The space complexity is also O(m * n) because we store the matrix to dynamically update the content inside."
   ]
  },
  {
   "cell_type": "code",
   "execution_count": 6,
   "metadata": {},
   "outputs": [
    {
     "name": "stdout",
     "output_type": "stream",
     "text": [
      "test#0 passed\n",
      "test#1 passed\n"
     ]
    }
   ],
   "source": [
    "## Coding\n",
    "class Solution(object):\n",
    "    def uniquePaths(self, m, n):\n",
    "        \"\"\"\n",
    "        :type m: int\n",
    "        :type n: int\n",
    "        :rtype: int\n",
    "        \"\"\"\n",
    "        # create the initial data structure\n",
    "        matrix = [[0] * n for _ in range(m)]\n",
    "        for i in range(m):\n",
    "            matrix[i][0] = 1\n",
    "        for j in range(n):\n",
    "            matrix[0][j] = 1\n",
    "        # dynamically udpate matrix\n",
    "        for i in range(1,m):\n",
    "            for j in range(1,n):\n",
    "                matrix[i][j] = matrix[i-1][j] + matrix[i][j-1]\n",
    "        return matrix[m-1][n-1]\n",
    "    def unit_tests(self):\n",
    "        test_cases = [\n",
    "            [3,2,3],\n",
    "            [7,3,28]\n",
    "        ]\n",
    "        for index, tc in enumerate(test_cases):\n",
    "            output = self.uniquePaths(tc[0],tc[1])\n",
    "            assert output == tc[2], 'test#{0} failed'.format(index)\n",
    "            print('test#{0} passed'.format(index))\n",
    "Solution().unit_tests()"
   ]
  },
  {
   "cell_type": "markdown",
   "metadata": {},
   "source": [
    "## Reference\n",
    "\n",
    "- [Leetcode](https://leetcode.com/problems/unique-paths/)"
   ]
  },
  {
   "cell_type": "code",
   "execution_count": null,
   "metadata": {},
   "outputs": [],
   "source": []
  }
 ],
 "metadata": {
  "kernelspec": {
   "display_name": "Python 3",
   "language": "python",
   "name": "python3"
  },
  "language_info": {
   "codemirror_mode": {
    "name": "ipython",
    "version": 3
   },
   "file_extension": ".py",
   "mimetype": "text/x-python",
   "name": "python",
   "nbconvert_exporter": "python",
   "pygments_lexer": "ipython3",
   "version": "3.7.6"
  }
 },
 "nbformat": 4,
 "nbformat_minor": 4
}
