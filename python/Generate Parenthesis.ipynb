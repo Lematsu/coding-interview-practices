{
 "cells": [
  {
   "cell_type": "markdown",
   "metadata": {},
   "source": [
    "# Generate Parenthesis\n",
    "\n",
    "Given n pairs of parentheses, write a function to generate all combinations of well-formed parentheses.\n",
    "\n",
    "For example, given n = 3, a solution set is:\n",
    "```\n",
    "[\n",
    "  \"((()))\",\n",
    "  \"(()())\",\n",
    "  \"(())()\",\n",
    "  \"()(())\",\n",
    "  \"()()()\"\n",
    "]\n",
    "```"
   ]
  },
  {
   "cell_type": "markdown",
   "metadata": {},
   "source": [
    "## Communication\n",
    "\n",
    "We could approach this by utilizing the backtrack method. During our backtrack, we want only keep combinations of parenthesis where the number of left bracks is equivalent to or more than the right bracket. In addition, we keep track of the number of left parenthesis in the string because we have a limit to how many parenthesis we could have in a given string. This is because the number of left parenthesis directly relates to the number of possible right parenthesis the string could contain. Finally, the base case of this backtrack method would be when the length of the string is eqvuivalent to two times the given n, meaning for every left parenthesis we have a right parenthesis, we could return the string. The time complexity of this algorithm is out-of-the-scope of this question, but for completions sake would be called the nth Catalan number defined as $\\frac{4n}{n\\sqrt{n}}$. The space complexity of this algorithm is $O(2*n)$ since it will only store the valid parenthesis n'."
   ]
  },
  {
   "cell_type": "code",
   "execution_count": 1,
   "metadata": {},
   "outputs": [
    {
     "name": "stdout",
     "output_type": "stream",
     "text": [
      "test#0 passed\n"
     ]
    }
   ],
   "source": [
    "class Solution(object):\n",
    "    def generateParenthesis(self, n):\n",
    "        \"\"\"\n",
    "        :type n: int\n",
    "        :rtype: List[str]\n",
    "        \"\"\"\n",
    "        res = []\n",
    "        def backtracking(S, left, right):\n",
    "            if len(S) == 2 * n:\n",
    "                res.append(S)\n",
    "                return\n",
    "            if left < n:\n",
    "                backtracking(S+'(', left+1, right)\n",
    "            if left > right:\n",
    "                backtracking(S+')', left, right+1)\n",
    "        backtracking('',0,0)\n",
    "        return res\n",
    "    def unit_tests(self):\n",
    "        test_cases = [\n",
    "            [3, ['((()))', '(()())', '(())()', '()(())', '()()()']]\n",
    "        ]\n",
    "        for index, tc in enumerate(test_cases):\n",
    "            output = self.generateParenthesis(tc[0])\n",
    "            assert output == tc[1], 'test#{0} failed'.format(index)\n",
    "            print('test#{0} passed'.format(index))\n",
    "Solution().unit_tests()"
   ]
  },
  {
   "cell_type": "code",
   "execution_count": null,
   "metadata": {},
   "outputs": [],
   "source": []
  }
 ],
 "metadata": {
  "kernelspec": {
   "display_name": "Python 3",
   "language": "python",
   "name": "python3"
  },
  "language_info": {
   "codemirror_mode": {
    "name": "ipython",
    "version": 3
   },
   "file_extension": ".py",
   "mimetype": "text/x-python",
   "name": "python",
   "nbconvert_exporter": "python",
   "pygments_lexer": "ipython3",
   "version": "3.7.6"
  }
 },
 "nbformat": 4,
 "nbformat_minor": 4
}
