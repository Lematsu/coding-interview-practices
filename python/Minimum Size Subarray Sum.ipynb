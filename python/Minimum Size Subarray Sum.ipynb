{
 "cells": [
  {
   "cell_type": "markdown",
   "metadata": {},
   "source": [
    "# Minimum Size Subarray Sum\n",
    "\n",
    "Given an array of n positive integers and a positive integer s, find the minimal length of a contiguous subarray of which the sum ≥ s. If there isn't one, return 0 instead.\n",
    "\n",
    "**Example:**\n",
    "```\n",
    "Input: s = 7, nums = [2,3,1,2,4,3]\n",
    "Output: 2\n",
    "```\n",
    "Explanation: the subarray [4,3] has the minimal length under the problem constraint.\n",
    "Follow up:\n",
    "If you have figured out the O(n) solution, try coding another solution of which the time complexity is O(n log n). "
   ]
  },
  {
   "cell_type": "markdown",
   "metadata": {},
   "source": [
    "## Communication\n",
    "\n",
    "We could approach this problem using two pointers, where the right pointer will continue to sum the values from left to right, while the left pointer decrements the values when the sums are larger than or equal to `s`. This solution should take time complexity of $O(n + m)$ where `n` is the variable of numbers in the list and `m` is the variable of potential numbers we must subtract."
   ]
  },
  {
   "cell_type": "code",
   "execution_count": 15,
   "metadata": {},
   "outputs": [
    {
     "name": "stdout",
     "output_type": "stream",
     "text": [
      "test#0 passed\n",
      "test#1 passed\n",
      "test#2 passed\n"
     ]
    }
   ],
   "source": [
    "## Coding\n",
    "class Solution(object):\n",
    "    def minSubArrayLen(self, s, nums):\n",
    "        \"\"\"\n",
    "        :type s: int\n",
    "        :type nums: List[int]\n",
    "        :rtype: int\n",
    "        \"\"\"\n",
    "        left = 0\n",
    "        total = 0 \n",
    "        result = len(nums)+1\n",
    "        for right, n in enumerate(nums):\n",
    "            total += n\n",
    "            while total>=s:\n",
    "                result = min(result,right-left+1)\n",
    "                total -= nums[left]\n",
    "                left += 1\n",
    "        return result if result <= len(nums) else 0\n",
    "    def unit_tests(self):\n",
    "        test_cases = [\n",
    "            [[2,3,1,2,4,3], 7, 2],\n",
    "            [[1,2,3,4,5], 15, 5],\n",
    "            [[1,1], 3, 0]\n",
    "            \n",
    "        ]\n",
    "        for index, tc in enumerate(test_cases):\n",
    "            output = self.minSubArrayLen(tc[1], tc[0])\n",
    "            assert output == tc[2], 'test#{0} failed'.format(index)\n",
    "            print('test#{0} passed'.format(index))\n",
    "Solution().unit_tests()"
   ]
  },
  {
   "cell_type": "markdown",
   "metadata": {},
   "source": [
    "## Reference\n",
    "- [Leetcode](https://leetcode.com/problems/minimum-size-subarray-sum/)"
   ]
  },
  {
   "cell_type": "code",
   "execution_count": null,
   "metadata": {},
   "outputs": [],
   "source": []
  }
 ],
 "metadata": {
  "kernelspec": {
   "display_name": "Python 3",
   "language": "python",
   "name": "python3"
  },
  "language_info": {
   "codemirror_mode": {
    "name": "ipython",
    "version": 3
   },
   "file_extension": ".py",
   "mimetype": "text/x-python",
   "name": "python",
   "nbconvert_exporter": "python",
   "pygments_lexer": "ipython3",
   "version": "3.7.6"
  }
 },
 "nbformat": 4,
 "nbformat_minor": 4
}
