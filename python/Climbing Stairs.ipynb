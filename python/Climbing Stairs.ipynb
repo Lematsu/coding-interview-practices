{
 "cells": [
  {
   "cell_type": "markdown",
   "metadata": {},
   "source": [
    "# Climbing Stairs\n",
    "\n",
    "You are climbing a stair case. It takes n steps to reach to the top.\n",
    "\n",
    "Each time you can either climb 1 or 2 steps. In how many distinct ways can you climb to the top?\n",
    "\n",
    "Note: Given n will be a positive integer.\n",
    "\n",
    "**Example 1:**\n",
    "```\n",
    "Input: 2\n",
    "Output: 2\n",
    "Explanation: There are two ways to climb to the top.\n",
    "1. 1 step + 1 step\n",
    "2. 2 steps\n",
    "```\n",
    "**Example 2:**\n",
    "```\n",
    "Input: 3\n",
    "Output: 3\n",
    "Explanation: There are three ways to climb to the top.\n",
    "1. 1 step + 1 step + 1 step\n",
    "2. 1 step + 2 steps\n",
    "3. 2 steps + 1 step\n",
    "```"
   ]
  },
  {
   "cell_type": "markdown",
   "metadata": {},
   "source": [
    "## Communication\n",
    "\n",
    "We could approach this question dynamically and utilize the property of fibonacci where one can reach $i^{th}$\n",
    "\n",
    "1. Taking a single step from $(i - 1)^{th}$ step.\n",
    "2. Taking a step of 2 from $(i - 2)^{th}$ step.\n",
    "\n",
    "So, the total number of ways to reach $i^{th}$ is equal to sum of ways of reaching $(i - 1)^{th}$ step and ways of reaching $(i - 2)^{th}$ step. In this approach, the time complexity is $O(n)$ because the length of the list is size $n$. The space complexity is also $O(n)$ because we need to store the fibonacci sequence in a list of $O(n)$."
   ]
  },
  {
   "cell_type": "code",
   "execution_count": 1,
   "metadata": {},
   "outputs": [
    {
     "name": "stdout",
     "output_type": "stream",
     "text": [
      "test#0 passed\n",
      "test#1 passed\n"
     ]
    }
   ],
   "source": [
    "## Coding\n",
    "class Solution(object):\n",
    "    def climbStairs(self, n):\n",
    "        \"\"\"\n",
    "        :type n: int\n",
    "        :rtype: int\n",
    "        \"\"\"\n",
    "        if n == 1:\n",
    "            return 1\n",
    "        memo = [0 for _ in range(n)]\n",
    "        memo[0], memo[1] = 1, 2\n",
    "        for i in range(2, n):\n",
    "            memo[i] += memo[i - 1] + memo[i - 2]\n",
    "        return memo[-1]\n",
    "    def unit_tests(self):\n",
    "        test_cases = [\n",
    "            [2, 2],\n",
    "            [3, 3]\n",
    "        ]\n",
    "        for index, tc in enumerate(test_cases):\n",
    "            output = self.climbStairs(tc[0])\n",
    "            assert output == tc[1], 'test#{0} failed'.format(index)\n",
    "            print('test#{0} passed'.format(index))\n",
    "Solution().unit_tests()"
   ]
  },
  {
   "cell_type": "markdown",
   "metadata": {},
   "source": [
    "## Reference\n",
    "- [Leetcode](https://leetcode.com/problems/climbing-stairs/)"
   ]
  },
  {
   "cell_type": "code",
   "execution_count": null,
   "metadata": {},
   "outputs": [],
   "source": []
  }
 ],
 "metadata": {
  "kernelspec": {
   "display_name": "Python 3",
   "language": "python",
   "name": "python3"
  },
  "language_info": {
   "codemirror_mode": {
    "name": "ipython",
    "version": 3
   },
   "file_extension": ".py",
   "mimetype": "text/x-python",
   "name": "python",
   "nbconvert_exporter": "python",
   "pygments_lexer": "ipython3",
   "version": "3.7.6"
  }
 },
 "nbformat": 4,
 "nbformat_minor": 4
}
