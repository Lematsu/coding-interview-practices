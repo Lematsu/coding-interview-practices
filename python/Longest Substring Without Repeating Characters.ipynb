{
 "cells": [
  {
   "cell_type": "markdown",
   "metadata": {},
   "source": [
    "# Longest Substring Without Repeating Characters\n",
    "\n",
    "Given a string, find the length of the longest substring without repeating characters.\n",
    "\n",
    "**Example 1:**\n",
    "```\n",
    "Input: \"abcabcbb\"\n",
    "Output: 3 \n",
    "Explanation: The answer is \"abc\", with the length of 3. \n",
    "```\n",
    "**Example 2:**\n",
    "```\n",
    "Input: \"bbbbb\"\n",
    "Output: 1\n",
    "Explanation: The answer is \"b\", with the length of 1.\n",
    "```\n",
    "**Example 3:**\n",
    "```\n",
    "Input: \"pwwkew\"\n",
    "Output: 3\n",
    "Explanation: The answer is \"wke\", with the length of 3. \n",
    "             Note that the answer must be a substring, \"pwke\" is a subsequence and not a substring.\n",
    "```"
   ]
  },
  {
   "cell_type": "markdown",
   "metadata": {},
   "source": [
    "## Communication\n",
    "\n",
    "![alt text](assets/longest_substring_without_repeating_characters.png)\n",
    "\n",
    "We could approach this problem by using a dictionary to store the last seen index of a character. By doing so, we could reduce the time complexity to using a queue and having to iterate over the queue to see the last seen index of a character. With a dictionary, we could check if a character has already been seen in $O(1)$ and because we store the last index, we have that information in $O(1)$ as well. We utilize the formula of distance to figure out the length of the substring with the following: $\\text{distance} = \\text{iterative index} - \\text{start of substring} + 1$. For a duplicate character, we could calculate the start of the substring as follows `start = dict[c] + 1` since we want the next letter after the duplicate. Finally, by maintaining a `maxLength` variable, we could compare the length of each substring after each iteration of the string. The time complexity of this algorithm is $O(n)$ due to n number of characters in a string. The space complexity is $O(n)$ again due to n number of characters in a string."
   ]
  },
  {
   "cell_type": "code",
   "execution_count": 2,
   "metadata": {},
   "outputs": [
    {
     "output_type": "error",
     "ename": "Error",
     "evalue": "Jupyter cannot be started. Error attempting to locate jupyter: Data Science libraries jupyter and notebook are not installed in interpreter Python 3.7.7 64-bit.",
     "traceback": [
      "Error: Jupyter cannot be started. Error attempting to locate jupyter: Data Science libraries jupyter and notebook are not installed in interpreter Python 3.7.7 64-bit.",
      "at C.startServer (c:\\Users\\leoto\\.vscode\\extensions\\ms-python.python-2020.4.76186\\out\\client\\extension.js:75:829561)",
      "at runMicrotasks (<anonymous>)",
      "at processTicksAndRejections (internal/process/task_queues.js:85:5)",
      "at async C.createServer (c:\\Users\\leoto\\.vscode\\extensions\\ms-python.python-2020.4.76186\\out\\client\\extension.js:75:829004)",
      "at async C.ensureServerAndNotebookImpl (c:\\Users\\leoto\\.vscode\\extensions\\ms-python.python-2020.4.76186\\out\\client\\extension.js:1:864755)",
      "at async C.ensureServerAndNotebook (c:\\Users\\leoto\\.vscode\\extensions\\ms-python.python-2020.4.76186\\out\\client\\extension.js:1:864445)",
      "at async C.clearResult (c:\\Users\\leoto\\.vscode\\extensions\\ms-python.python-2020.4.76186\\out\\client\\extension.js:1:860512)",
      "at async C.reexecuteCell (c:\\Users\\leoto\\.vscode\\extensions\\ms-python.python-2020.4.76186\\out\\client\\extension.js:1:848782)",
      "at async C.reexecuteCells (c:\\Users\\leoto\\.vscode\\extensions\\ms-python.python-2020.4.76186\\out\\client\\extension.js:1:845949)"
     ]
    }
   ],
   "source": [
    "## Coding\n",
    "class Solution(object):\n",
    "    def lengthOfLongestSubstring(self, s):\n",
    "        \"\"\"\n",
    "        :type s: str\n",
    "        :rtype: int\n",
    "        \"\"\"\n",
    "        dicts = {}\n",
    "        maxLength = start = 0\n",
    "        for i, c in enumerate(s):\n",
    "            if c in dicts:\n",
    "                possibleStart = dicts[c] + 1\n",
    "                if possibleStart > start:\n",
    "                    start = possibleStart\n",
    "            distance = i - start + 1\n",
    "            if distance > maxLength:\n",
    "                maxLength = distance\n",
    "            dicts[c] = i\n",
    "        return maxLength\n",
    "    def unit_tests(self):\n",
    "        test_cases = [\n",
    "            ['abcabcbb',3],\n",
    "            ['bbbbb',1],\n",
    "            ['pwwkew',3]\n",
    "        ]\n",
    "        for i, tc in enumerate(test_cases):\n",
    "            output = self.lengthOfLongestSubstring(tc[0])\n",
    "            assert output == tc[1], 'test#{0} failed'.format(i)\n",
    "            print('test#{0} passed'.format(i))\n",
    "Solution().unit_tests()"
   ]
  },
  {
   "cell_type": "markdown",
   "metadata": {},
   "source": [
    "## Reference\n",
    "- [Leetcode](https://leetcode.com/problems/longest-substring-without-repeating-characters/)"
   ]
  },
  {
   "cell_type": "code",
   "execution_count": null,
   "metadata": {},
   "outputs": [],
   "source": []
  }
 ],
 "metadata": {
  "kernelspec": {
   "display_name": "Python 3",
   "language": "python",
   "name": "python3"
  },
  "language_info": {
   "codemirror_mode": {
    "name": "ipython",
    "version": 3
   },
   "file_extension": ".py",
   "mimetype": "text/x-python",
   "name": "python",
   "nbconvert_exporter": "python",
   "pygments_lexer": "ipython3",
   "version": "3.7.6"
  }
 },
 "nbformat": 4,
 "nbformat_minor": 4
}