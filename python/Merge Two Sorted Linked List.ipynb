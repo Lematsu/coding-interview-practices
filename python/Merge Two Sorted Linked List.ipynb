{
 "cells": [
  {
   "cell_type": "markdown",
   "metadata": {},
   "source": [
    "# Merge Two Sorted Linked List\n",
    "\n",
    "Merge two sorted linked lists and return it as a new list. The new list should be made by splicing together the nodes of the first two lists.\n",
    "\n",
    "```\n",
    "Example:\n",
    "Input: 1->2->4, 1->3->4\n",
    "Output: 1->1->2->3->4->4\n",
    "```"
   ]
  },
  {
   "cell_type": "markdown",
   "metadata": {},
   "source": [
    "We could design our approach with merge sort on linked lists. We could have result node that would start with a head of a linked list node and have the next pointer point to the next sorted element. The time complexity is O(m + n) where m is the size of the first linked list and n is the size of the second linked list. The space complexity is also O(m + n) with the same variable assignments."
   ]
  },
  {
   "cell_type": "code",
   "execution_count": 15,
   "metadata": {},
   "outputs": [
    {
     "name": "stdout",
     "output_type": "stream",
     "text": [
      "test#0 passed\n",
      "test#1 passed\n",
      "test#2 passed\n"
     ]
    }
   ],
   "source": [
    "## Coding\n",
    "# Definition for singly-linked list.\n",
    "# class ListNode(object):\n",
    "#     def __init__(self, x):\n",
    "#         self.val = x\n",
    "#         self.next = None\n",
    "\n",
    "class ListNode(object):\n",
    "    def __init__(self, x):\n",
    "        self.val = x\n",
    "        self.next = None\n",
    "\n",
    "class Solution(object):\n",
    "    def mergeTwoLists(self, l1, l2):\n",
    "        \"\"\"\n",
    "        :type l1: ListNode\n",
    "        :type l2: ListNode\n",
    "        :rtype: ListNode\n",
    "        \"\"\"\n",
    "        res = None\n",
    "        head = None\n",
    "        while (l1 is not None) and (l2 is not None):\n",
    "            current_node = None\n",
    "            if l1.val < l2.val:\n",
    "                current_node = l1\n",
    "                l1 = l1.next\n",
    "            else:\n",
    "                current_node = l2\n",
    "                l2 = l2.next\n",
    "            if res is None:\n",
    "                res = current_node\n",
    "                head = current_node\n",
    "            else:\n",
    "                res.next = current_node\n",
    "                res = res.next\n",
    "        while (l1 is not None):\n",
    "            if res is None:\n",
    "                res = l1\n",
    "                head = l1\n",
    "            else:\n",
    "                res.next = l1\n",
    "                res = res.next\n",
    "            l1 = l1.next\n",
    "        while (l2 is not None):\n",
    "            if res is None:\n",
    "                res = l2\n",
    "                head = l2\n",
    "            else:\n",
    "                res.next = l2\n",
    "                res = res.next\n",
    "            l2 = l2.next\n",
    "        return head\n",
    "    def _createLinkedList(self, nums):\n",
    "        head = None\n",
    "        node = None\n",
    "        for n in nums:\n",
    "            if head is None:\n",
    "                head = ListNode(n)\n",
    "                node = head\n",
    "            else:\n",
    "                node.next = ListNode(n)\n",
    "                node = node.next\n",
    "        return head\n",
    "    def _createList(self, node):\n",
    "        nums = []\n",
    "        while node is not None:\n",
    "            nums.append(node.val)\n",
    "            node = node.next\n",
    "        return nums\n",
    "    def unit_tests(self):\n",
    "        test_cases = [\n",
    "            [[1,2,4], [1,3,4], [1,1,2,3,4,4]],\n",
    "            [[], [0], [0]],\n",
    "            [[-9,3],[5,7],[-9,3,5,7]]\n",
    "        ]\n",
    "        for index, tc in enumerate(test_cases):\n",
    "            l1 = self._createLinkedList(tc[0])\n",
    "            l2 = self._createLinkedList(tc[1])\n",
    "            output = self.mergeTwoLists(l1,l2)\n",
    "            output = self._createList(output)\n",
    "            assert output == tc[2], 'test#{0} failed'.format(index)\n",
    "            print('test#{0} passed'.format(index))\n",
    "Solution().unit_tests()"
   ]
  },
  {
   "cell_type": "markdown",
   "metadata": {},
   "source": [
    "## Reference\n",
    "- [Leetcode](https://leetcode.com/problems/merge-two-sorted-lists/)"
   ]
  },
  {
   "cell_type": "code",
   "execution_count": null,
   "metadata": {},
   "outputs": [],
   "source": []
  }
 ],
 "metadata": {
  "kernelspec": {
   "display_name": "Python 3",
   "language": "python",
   "name": "python3"
  },
  "language_info": {
   "codemirror_mode": {
    "name": "ipython",
    "version": 3
   },
   "file_extension": ".py",
   "mimetype": "text/x-python",
   "name": "python",
   "nbconvert_exporter": "python",
   "pygments_lexer": "ipython3",
   "version": "3.7.6"
  }
 },
 "nbformat": 4,
 "nbformat_minor": 4
}
