{
 "cells": [
  {
   "cell_type": "markdown",
   "metadata": {},
   "source": [
    "# Find Pythagorean Triplets\n",
    "\n",
    "Pythagorean Triplets are $a^2 + b^2 = c^2$. Given a list of numbers, check if there are any possible pythagorean triplets.\n",
    "\n",
    "```\n",
    "Example:\n",
    "\n",
    "[3, 5, 12, 5, 13] -> [[5, 12, 13]]\n",
    "```"
   ]
  },
  {
   "cell_type": "markdown",
   "metadata": {},
   "source": [
    "## Communication\n",
    "\n",
    "There are number of trade-offs we can make with this problem. I want to optimize for time complexity, so I would be using a set to store the squared values as keys and the number as values. This allows us to only iterate over for $a$ and $b$ where $c$ is already defined in the sets. This would allow us to decrease the runtime complexity from $O(n^3)$ to $O(n^2)$."
   ]
  },
  {
   "cell_type": "code",
   "execution_count": 2,
   "metadata": {},
   "outputs": [
    {
     "name": "stdout",
     "output_type": "stream",
     "text": [
      "test#0 passed\n",
      "test#1 passed\n"
     ]
    }
   ],
   "source": [
    "## Coding\n",
    "\n",
    "class Solution:\n",
    "    def findPythagorean(self, nums):\n",
    "        sums = set([n**2 for n in nums])\n",
    "        for a in nums:\n",
    "            for b in nums:\n",
    "                if a**2 + b**2 in sums:\n",
    "                    return True\n",
    "        return False\n",
    "    def unit_tests(self):\n",
    "        test_cases = [\n",
    "            [[3,5,12,5,13], True],\n",
    "            [[4,3,10], False]\n",
    "        ]\n",
    "        for index, tc in enumerate(test_cases):\n",
    "            output = self.findPythagorean(tc[0])\n",
    "            assert output == tc[1], 'test#{0} failed'.format(index)\n",
    "            print('test#{0} passed'.format(index))\n",
    "Solution().unit_tests()"
   ]
  },
  {
   "cell_type": "code",
   "execution_count": null,
   "metadata": {},
   "outputs": [],
   "source": []
  }
 ],
 "metadata": {
  "kernelspec": {
   "display_name": "Python 3",
   "language": "python",
   "name": "python3"
  },
  "language_info": {
   "codemirror_mode": {
    "name": "ipython",
    "version": 3
   },
   "file_extension": ".py",
   "mimetype": "text/x-python",
   "name": "python",
   "nbconvert_exporter": "python",
   "pygments_lexer": "ipython3",
   "version": "3.7.6"
  }
 },
 "nbformat": 4,
 "nbformat_minor": 4
}
