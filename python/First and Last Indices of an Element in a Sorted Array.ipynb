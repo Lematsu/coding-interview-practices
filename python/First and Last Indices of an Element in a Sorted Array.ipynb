{
 "cells": [
  {
   "cell_type": "markdown",
   "metadata": {},
   "source": [
    "# First and Last Indices of an Element in a Sorted Array\n",
    "\n",
    "Given an array of integers nums sorted in ascending order, find the starting and ending position of a given target value.\n",
    "\n",
    "Your algorithm's runtime complexity must be in the order of O(log n).\n",
    "\n",
    "If the target is not found in the array, return [-1, -1].\n",
    "```\n",
    "Example 1:\n",
    "\n",
    "Input: nums = [5,7,7,8,8,10], target = 8\n",
    "Output: [3,4]\n",
    "Example 2:\n",
    "\n",
    "Input: nums = [5,7,7,8,8,10], target = 6\n",
    "Output: [-1,-1]\n",
    "```"
   ]
  },
  {
   "cell_type": "markdown",
   "metadata": {},
   "source": [
    "## Communication\n",
    "\n",
    "Since we're constrained by a runtime of O(log n), I will use binary search to find the target value. When using binary search, we have two searches where one binary search will find the first index of the target value, and the second binary search will find the last index of the target value.\n",
    "\n",
    "The runtime of this would be O(log n) time complexity and the space complexity will also be O(log n) if called by recursive stack or constant if run iteratively."
   ]
  },
  {
   "cell_type": "code",
   "execution_count": 48,
   "metadata": {},
   "outputs": [
    {
     "name": "stdout",
     "output_type": "stream",
     "text": [
      "output: [3, 4] expected: [3, 4]\n",
      "test#0 passed\n",
      "output: [-1, -1] expected: [-1, -1]\n",
      "test#1 passed\n",
      "output: [-1, -1] expected: [-1, -1]\n",
      "test#2 passed\n",
      "output: [0, 0] expected: [0, 0]\n",
      "test#3 passed\n"
     ]
    }
   ],
   "source": [
    "class Solution:\n",
    "    def searchRange(self, nums, target):\n",
    "        # first = self.binarySearch(nums, 0, len(nums)-1, target, True)\n",
    "        # second = self.binarySearch(nums, 0, len(nums)-1, target, False)\n",
    "        first = self.binarySearchIterative(nums, 0, len(nums)-1, target, True)\n",
    "        second = self.binarySearchIterative(nums, 0, len(nums)-1, target, False)\n",
    "        return [first, second]\n",
    "    \n",
    "    def binarySearch(self, nums, low, high, target, findFirst):\n",
    "        if low > high:\n",
    "            return -1\n",
    "        mid = low + (high - low) // 2\n",
    "        if findFirst:\n",
    "            if (mid == 0 or nums[mid - 1] < target) and nums[mid] == target:\n",
    "                return mid\n",
    "            elif nums[mid] < target:\n",
    "                return self.binarySearch(nums, mid+1, high, target, findFirst)\n",
    "            else:\n",
    "                return self.binarySearch(nums, low, mid-1, target, findFirst)\n",
    "        else:\n",
    "            if (mid == len(nums)-1 or nums[mid+1] > target) and nums[mid] == target:\n",
    "                return mid\n",
    "            elif nums[mid] > target:\n",
    "                return self.binarySearch(nums, low, mid-1, target, findFirst)\n",
    "            else:\n",
    "                return self.binarySearch(nums, mid+1, high, target, findFirst)\n",
    "        \n",
    "    def binarySearchIterative(self, nums, low, high, target, findFirst):\n",
    "        while True:\n",
    "            if low > high:\n",
    "                return -1\n",
    "            mid = low + (high - low) // 2\n",
    "            if findFirst:\n",
    "                if (mid == 0 or nums[mid - 1] < target) and nums[mid] == target:\n",
    "                    return mid\n",
    "                elif nums[mid] < target:\n",
    "                    low = mid + 1\n",
    "                else:\n",
    "                    high = mid - 1\n",
    "            else:\n",
    "                if (mid == len(nums) - 1 or nums[mid+1] > target) and nums[mid] == target:\n",
    "                    return mid\n",
    "                elif nums[mid] > target:\n",
    "                    high = mid - 1\n",
    "                else:\n",
    "                    low = mid + 1\n",
    "                \n",
    "\n",
    "    def unit_test(self):\n",
    "        test_cases = [[ [5,7,7,8,8,10], 8, [3,4] ],\n",
    "                      [ [5,7,7,8,8,10], 6, [-1,-1]],\n",
    "                      [ [1], 0, [-1,-1]],\n",
    "                      [ [1], 1, [0,0]] ]\n",
    "        for i, tc in enumerate(test_cases):\n",
    "            output = self.searchRange(tc[0], tc[1])\n",
    "            print('output: {0} expected: {1}'.format(output, tc[2]))\n",
    "            assert output == tc[2], 'test#{0} failed'.format(i)\n",
    "            print('test#{0} passed'.format(i))\n",
    "\n",
    "Solution().unit_test()"
   ]
  },
  {
   "cell_type": "markdown",
   "metadata": {},
   "source": [
    "### Reference\n",
    "- [Leetcode](https://leetcode.com/problems/find-first-and-last-position-of-element-in-sorted-array/)"
   ]
  },
  {
   "cell_type": "code",
   "execution_count": null,
   "metadata": {},
   "outputs": [],
   "source": []
  }
 ],
 "metadata": {
  "kernelspec": {
   "display_name": "Python 3",
   "language": "python",
   "name": "python3"
  },
  "language_info": {
   "codemirror_mode": {
    "name": "ipython",
    "version": 3
   },
   "file_extension": ".py",
   "mimetype": "text/x-python",
   "name": "python",
   "nbconvert_exporter": "python",
   "pygments_lexer": "ipython3",
   "version": "3.7.6"
  }
 },
 "nbformat": 4,
 "nbformat_minor": 4
}
