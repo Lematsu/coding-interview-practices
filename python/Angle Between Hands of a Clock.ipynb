{
 "cells": [
  {
   "cell_type": "markdown",
   "metadata": {},
   "source": [
    "# Angle Between Hands of a Clock\n",
    "\n",
    "Given two numbers, hour and minutes. Return the smaller angle (in degrees) formed between the hour and the minute hand.\n",
    "\n",
    "**Example 1:**\n",
    "![alt text](assets/angle_between_hands_of_a_clock1.png)\n",
    "```\n",
    "Input: hour = 12, minutes = 30\n",
    "Output: 165\n",
    "```\n",
    "\n",
    "**Example 2:**\n",
    "![alt text](assets/angle_between_hands_of_a_clock2.png)\n",
    "```\n",
    "Input: hour = 3, minutes = 30\n",
    "Output: 75\n",
    "```\n",
    "\n",
    "**Example 3:**\n",
    "![alt text](assets/angle_between_hands_of_a_clock3.png)\n",
    "```\n",
    "Input: hour = 3, minutes = 15\n",
    "Output: 7.5\n",
    "```\n",
    "\n",
    "**Example 4:**\n",
    "```\n",
    "Input: hour = 4, minutes = 50\n",
    "Output: 155\n",
    "```\n",
    "\n",
    "**Example 5:**\n",
    "```\n",
    "Input: hour = 12, minutes = 0\n",
    "Output: 0\n",
    "```\n",
    "\n",
    "**Constraints:**\n",
    "- 1 <= hour <= 12\n",
    "- 0 <= minutes <= 59\n",
    "- Answers within 10^-5 of the actual value will be accepted as correct."
   ]
  },
  {
   "cell_type": "markdown",
   "metadata": {},
   "source": [
    "## Communication\n",
    "\n",
    "We could approach this problem by creating formulas to calculate the angles by calibrating `12 o'clock` as $degree 0$ in clockwise direction. First, to calculate the minutes, we could approach this by $\\frac{minutes}{60}\\times360\\text{ degrees}$. Then to calculate the hour we could use the formula $(hour\\%12 hours)\\times30\\text{ degrees}$. Then, we could calculate the clockwise angle and anti-clockwise angle, and return the minimum value between the two. The time complexity of this algorithm is $O(1)$ since all calculations are constant. The space complexity of this algorithm is also $O(1)$ since we only store constant values."
   ]
  },
  {
   "cell_type": "code",
   "execution_count": 1,
   "metadata": {},
   "outputs": [
    {
     "name": "stdout",
     "output_type": "stream",
     "text": [
      "test#0 passed\n",
      "test#1 passed\n",
      "test#2 passed\n",
      "test#3 passed\n",
      "test#4 passed\n"
     ]
    }
   ],
   "source": [
    "## Coding\n",
    "class Solution(object):\n",
    "    def angleClock(self, hour, minutes):\n",
    "        \"\"\"\n",
    "        :type hour: int\n",
    "        :type minutes: int\n",
    "        :rtype: float\n",
    "        \"\"\"\n",
    "        min_angle = (minutes / 60.0) * 360\n",
    "        min_hour = (hour % 12.0) * 30 + (minutes / 60.0) * 30\n",
    "        clockwise = abs(min_angle - min_hour)\n",
    "        return min(clockwise, 360 - clockwise)\n",
    "    def unit_tests(self):\n",
    "        test_cases = [\n",
    "            [12, 30, 165],\n",
    "            [3, 30, 75],\n",
    "            [3, 15, 7.5],\n",
    "            [4, 50, 155],\n",
    "            [12, 0, 0]\n",
    "        ]\n",
    "        for index, tc in enumerate(test_cases):\n",
    "            output = self.angleClock(tc[0], tc[1])\n",
    "            assert output == tc[2], 'test#{0} failed'.format(index)\n",
    "            print('test#{0} passed'.format(index))\n",
    "Solution().unit_tests()"
   ]
  },
  {
   "cell_type": "markdown",
   "metadata": {},
   "source": [
    "## Reference\n",
    "- [Leetcode](https://leetcode.com/problems/angle-between-hands-of-a-clock/)"
   ]
  },
  {
   "cell_type": "code",
   "execution_count": null,
   "metadata": {},
   "outputs": [],
   "source": []
  }
 ],
 "metadata": {
  "kernelspec": {
   "display_name": "Python 3",
   "language": "python",
   "name": "python3"
  },
  "language_info": {
   "codemirror_mode": {
    "name": "ipython",
    "version": 3
   },
   "file_extension": ".py",
   "mimetype": "text/x-python",
   "name": "python",
   "nbconvert_exporter": "python",
   "pygments_lexer": "ipython3",
   "version": "3.7.6"
  }
 },
 "nbformat": 4,
 "nbformat_minor": 4
}