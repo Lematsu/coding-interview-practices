{
 "cells": [
  {
   "cell_type": "markdown",
   "metadata": {},
   "source": [
    "# Critical Router\n",
    "Given a network in a list with edges, find the articulation nodes.\n",
    "```\n",
    "Example:\n",
    "Input: 6, [[0,1],[1,3],[3,2],[2,0],[3,4],[3,5],[4,5]]\n",
    "Output: [3]\n",
    "```\n",
    "![alt text](assets/critical_router.png)"
   ]
  },
  {
   "cell_type": "markdown",
   "metadata": {},
   "source": [
    "## Communication\n",
    "We could approach this problem by running dfs from a starting point node or root, and giving id incrementally from the root. When doing so, we maintain two lists, one to represent which node has what id, and another list to store the smallest id node the parent node can reach by traversing its destination node. By creating a dfs spanning tree and a lowest id reached list, if at any point if the destination node has a lowest id reached greater than the current node id, we know that by traversing the destination node the parent node is unable to reach the root node. This approach has the time complexity of O(n) since we run dfs and traverse over all the nodes. The space complexity is O(3n) or O(n) because of the three lists we maintain, the output list, the id list, and the lowest reached id list.\n",
    "![alt text](critical_router_communication_diagram.png)"
   ]
  },
  {
   "cell_type": "code",
   "execution_count": 24,
   "metadata": {},
   "outputs": [
    {
     "name": "stdout",
     "output_type": "stream",
     "text": [
      "length: 6\n",
      "spanning tree (1, 0)\n",
      "spanning tree (3, 1)\n",
      "spanning tree (2, 3)\n",
      "spanning tree (4, 3)\n",
      "spanning tree (5, 4)\n",
      "low_reached: [0, 0, 0, 0, 2, 2]\n",
      "visited: [True, True, True, True, True, True]\n",
      "output: [3]\n",
      "test#0 passed\n",
      "length: 7\n",
      "spanning tree (1, 0)\n",
      "spanning tree (3, 1)\n",
      "spanning tree (2, 3)\n",
      "spanning tree (5, 2)\n",
      "spanning tree (6, 5)\n",
      "spanning tree (4, 3)\n",
      "low_reached: [0, 0, 0, 0, 6, 4, 5]\n",
      "visited: [True, True, True, True, True, True, True]\n",
      "output: [5, 2, 3]\n",
      "test#1 passed\n"
     ]
    }
   ],
   "source": [
    "## Coding\n",
    "class Solution(object):\n",
    "    def criticalRouter(self, n, edges):\n",
    "        res = []\n",
    "        low_reached = [float('inf')] * n\n",
    "        ids = [0] * n\n",
    "        visited = [False] * n\n",
    "        self.node_id = 0\n",
    "        # create graph\n",
    "        adj_list = [[] for _ in range(n)]\n",
    "        print('length: {0}'.format(len(adj_list)))\n",
    "        for node_1, node_2 in edges:\n",
    "            adj_list[node_1].append(node_2)\n",
    "            adj_list[node_2].append(node_1)\n",
    "        # create dfs spanning tree\n",
    "        def dfs(current_node, parent_node, root_node):\n",
    "            visited[current_node] = True\n",
    "            ids[current_node] = self.node_id\n",
    "            low_reached[current_node] = self.node_id\n",
    "            self.node_id += 1\n",
    "            for dest in adj_list[current_node]:\n",
    "                if dest == parent_node:\n",
    "                    continue\n",
    "                if not visited[dest]:\n",
    "                    print('spanning tree ({0}, {1})'.format(dest, current_node))\n",
    "                    dfs(dest, current_node, root_node)\n",
    "                    low_reached[current_node] = min(low_reached[current_node], low_reached[dest])\n",
    "                    if low_reached[dest] >= ids[current_node] and low_reached[dest] != root_node:\n",
    "                        res.append(current_node)\n",
    "                else:\n",
    "                    low_reached[current_node] = min(low_reached[current_node], ids[dest])\n",
    "        for i in range(n):\n",
    "            if visited[i] == False:\n",
    "                dfs(i,-1, i)\n",
    "        print('low_reached: {0}'.format(low_reached))\n",
    "        print('visited: {0}'.format(visited))\n",
    "        return res\n",
    "    def unit_tests(self):\n",
    "        test_cases = [\n",
    "            [6, [[0,1],[1,3],[3,2],[2,0],[3,4],[3,5],[4,5]], [3]],\n",
    "            [7, [[0,1],[0,2],[1,3],[2,3],[2,5],[5,6],[3,4]], [2,3,5]]\n",
    "        ]\n",
    "        for index, tc in enumerate(test_cases):\n",
    "            output = self.criticalRouter(tc[0], tc[1])\n",
    "            print('output: {0}'.format(output))\n",
    "            assert set(output) == set(tc[2]), 'test#{0} failed'.format(index)\n",
    "            print('test#{0} passed'.format(index))\n",
    "Solution().unit_tests()"
   ]
  },
  {
   "cell_type": "code",
   "execution_count": 38,
   "metadata": {},
   "outputs": [
    {
     "name": "stdout",
     "output_type": "stream",
     "text": [
      "test#0 passed\n"
     ]
    }
   ],
   "source": [
    "## Coding\n",
    "class Solution(object):\n",
    "    def criticalRouter(self, n, edges):\n",
    "        res = []\n",
    "        low_reached = {} # [float('inf')] * n\n",
    "        ids = {}\n",
    "        visited = {} # [False] * n\n",
    "        self.node_id = 1\n",
    "        # create graph\n",
    "        adj_map = {}\n",
    "        for node_1, node_2 in edges:\n",
    "            if node_1 not in adj_map:\n",
    "                adj_map[node_1] = []\n",
    "            if node_2 not in adj_map:\n",
    "                adj_map[node_2] = []\n",
    "            adj_map[node_1].append(node_2)\n",
    "            adj_map[node_2].append(node_1)\n",
    "        # create variables\n",
    "        for node in adj_map.keys():\n",
    "            low_reached[node] = float('inf')\n",
    "            ids[node] = 0\n",
    "            visited[node] = False\n",
    "        # create dfs spanning tree\n",
    "        def dfs(current_node, parent_node, root_node):\n",
    "            visited[current_node] = True\n",
    "            ids[current_node] = self.node_id\n",
    "            low_reached[current_node] = self.node_id\n",
    "            self.node_id += 1\n",
    "            for dest in adj_map[current_node]:\n",
    "                if dest == parent_node:\n",
    "                    continue\n",
    "                if not visited[dest]:\n",
    "                    dfs(dest, current_node, root_node)\n",
    "                    low_reached[current_node] = min(low_reached[current_node], low_reached[dest])\n",
    "                    if low_reached[dest] >= ids[current_node] and low_reached[dest] != root_node:\n",
    "                        res.append(current_node)\n",
    "                else:\n",
    "                    low_reached[current_node] = min(low_reached[current_node], ids[dest])\n",
    "        for i in sorted(adj_map.keys()):\n",
    "            if visited[i] == False:\n",
    "                dfs(i,-1, i)\n",
    "        return res\n",
    "    def unit_tests(self):\n",
    "        test_cases = [\n",
    "            [7, [[1,2],[1,3],[2,4],[3,4],[3,6],[6,7],[4,5]], [3,4,6]]\n",
    "        ]\n",
    "        for index, tc in enumerate(test_cases):\n",
    "            output = self.criticalRouter(tc[0], tc[1])\n",
    "            assert set(output) == set(tc[2]), 'test#{0} failed'.format(index)\n",
    "            print('test#{0} passed'.format(index))\n",
    "Solution().unit_tests()"
   ]
  },
  {
   "cell_type": "code",
   "execution_count": null,
   "metadata": {},
   "outputs": [],
   "source": []
  }
 ],
 "metadata": {
  "kernelspec": {
   "display_name": "Python 3",
   "language": "python",
   "name": "python3"
  },
  "language_info": {
   "codemirror_mode": {
    "name": "ipython",
    "version": 3
   },
   "file_extension": ".py",
   "mimetype": "text/x-python",
   "name": "python",
   "nbconvert_exporter": "python",
   "pygments_lexer": "ipython3",
   "version": "3.7.6"
  }
 },
 "nbformat": 4,
 "nbformat_minor": 4
}