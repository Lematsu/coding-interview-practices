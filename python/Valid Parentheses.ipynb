{
 "cells": [
  {
   "cell_type": "markdown",
   "metadata": {},
   "source": [
    "# Valid Parentheses\n",
    "\n",
    "Given a string containing just the characters '(', ')', '{', '}', '\\[' and '\\]', determine if the input string is valid.\n",
    "\n",
    "An input string is valid if:\n",
    "\n",
    "Open brackets must be closed by the same type of brackets.\n",
    "Open brackets must be closed in the correct order.\n",
    "Note that an empty string is also considered valid.\n",
    "```\n",
    "Example 1:\n",
    "Input: \"()\"\n",
    "Output: true\n",
    "\n",
    "\n",
    "Example 2:\n",
    "Input: \"()[]{}\"\n",
    "Output: true\n",
    "\n",
    "\n",
    "Example 3:\n",
    "Input: \"(]\"\n",
    "Output: false\n",
    "\n",
    "\n",
    "Example 4:\n",
    "Input: \"([)]\"\n",
    "Output: false\n",
    "\n",
    "\n",
    "Example 5:\n",
    "Input: \"{[]}\"\n",
    "Output: true\n",
    "```"
   ]
  },
  {
   "cell_type": "markdown",
   "metadata": {},
   "source": [
    "## Communication\n",
    "\n",
    "We could approach this using a stack where every left parenthesis is stored into a stack. When we encounter a right parenthesis, we pop a character from the stack and compare the right parentheses with the popped left parenthesis. If we encounter the same parentheses type, we can continue to iterate the string. If we have two different parentheses types, we can conclude that this is false. We also have to keep in mind that an empty string is considered valid. The time complexity will be linear or O(n) because we just need to iterate over the string. The space complexity will also be linear or O(n) because we could store all the characters in the string into the stack."
   ]
  },
  {
   "cell_type": "code",
   "execution_count": 7,
   "metadata": {},
   "outputs": [
    {
     "name": "stdout",
     "output_type": "stream",
     "text": [
      "test#0 passed\n",
      "test#1 passed\n",
      "test#2 passed\n",
      "test#3 passed\n",
      "test#4 passed\n",
      "test#5 passed\n",
      "test#6 passed\n"
     ]
    }
   ],
   "source": [
    "## Coding\n",
    "class Solution(object):\n",
    "    def isValid(self, s):\n",
    "        \"\"\"\n",
    "        :type s: str\n",
    "        :rtype: bool\n",
    "        \"\"\"\n",
    "        if s == '':\n",
    "            return True\n",
    "        parentheses_map = {\n",
    "            '(' : ')',\n",
    "            '{' : '}',\n",
    "            '[' : ']'\n",
    "        }\n",
    "        stack = []\n",
    "        for char in s:\n",
    "            if char in set(parentheses_map.keys()):\n",
    "                stack.append(char)\n",
    "            elif char in set(parentheses_map.values()):\n",
    "                if stack == []:\n",
    "                    return False\n",
    "                else:\n",
    "                    if char != parentheses_map[stack.pop()]:\n",
    "                        return False\n",
    "        if stack != []:\n",
    "            return False\n",
    "        return True\n",
    "\n",
    "    def unit_tests(self):\n",
    "        test_cases = [\n",
    "            [\"()\", True],\n",
    "            [\"()[]{}\", True],\n",
    "            [\"(]\", False],\n",
    "            [\"([)]\", False],\n",
    "            [\"{[]}\", True],\n",
    "            [\"[\", False],\n",
    "            [\"]\", False]\n",
    "        ]\n",
    "        for index, tc in enumerate(test_cases):\n",
    "            output = self.isValid(tc[0])\n",
    "            assert output == tc[1], 'test#{0} failed'.format(index)\n",
    "            print('test#{0} passed'.format(index))\n",
    "Solution().unit_tests()"
   ]
  },
  {
   "cell_type": "code",
   "execution_count": null,
   "metadata": {},
   "outputs": [],
   "source": []
  }
 ],
 "metadata": {
  "kernelspec": {
   "display_name": "Python 3",
   "language": "python",
   "name": "python3"
  },
  "language_info": {
   "codemirror_mode": {
    "name": "ipython",
    "version": 3
   },
   "file_extension": ".py",
   "mimetype": "text/x-python",
   "name": "python",
   "nbconvert_exporter": "python",
   "pygments_lexer": "ipython3",
   "version": "3.7.6"
  }
 },
 "nbformat": 4,
 "nbformat_minor": 4
}