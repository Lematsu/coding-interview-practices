{
 "cells": [
  {
   "cell_type": "markdown",
   "metadata": {},
   "source": [
    "# Sort Colors\n",
    "\n",
    "Given an array with n objects colored red, white or blue, sort them in-place so that objects of the same color are adjacent, with the colors in the order red, white and blue.\n",
    "\n",
    "Here, we will use the integers 0, 1, and 2 to represent the color red, white, and blue respectively.\n",
    "\n",
    "Note: You are not suppose to use the library's sort function for this problem.\n",
    "\n",
    "```\n",
    "Example:\n",
    "\n",
    "Input: [2,0,2,1,1,0]\n",
    "Output: [0,0,1,1,2,2]\n",
    "Follow up:\n",
    "```\n",
    "A rather straight forward solution is a two-pass algorithm using counting sort.\n",
    "First, iterate the array counting number of 0's, 1's, and 2's, then overwrite array with total number of 0's, then 1's and followed by 2's.\n",
    "Could you come up with a one-pass algorithm using only constant space?"
   ]
  },
  {
   "cell_type": "markdown",
   "metadata": {},
   "source": [
    "## Communication\n",
    "\n",
    "The trick is that we only have three numbers in the list. Since we have three types we have to keep track, we can accomplish this by two pointers keeping track of the zero and two variables. The third type, one is kept track because we already keep track of the other two variables. We will have an additional pointer that keeps track of the what iteration we're on with the list. This index poiner will increment when values are zero and one, and not two. This is because we are inserting an unknown value to the sorted section of the list. Since we have a constraint where the memory space is in constant space, we will swap elements zero and three if we find them out of place. Ones will come into place since the other two variables are swapped. The time complexity of this algorithm will be linear since it's completed in one-pass. The space complexity of this algorithm is constant since we do not use any additional data structures."
   ]
  },
  {
   "cell_type": "code",
   "execution_count": 5,
   "metadata": {},
   "outputs": [
    {
     "name": "stdout",
     "output_type": "stream",
     "text": [
      "test#0 passed\n",
      "test#1 passed\n"
     ]
    }
   ],
   "source": [
    "## Coding\n",
    "class Solution(object):\n",
    "    def sortColors(self, nums):\n",
    "        \"\"\"\n",
    "        :type nums: List[int]\n",
    "        :rtype: None Do not return anything, modify nums in-place instead.\n",
    "        \"\"\"\n",
    "        zero_pointer = 0\n",
    "        two_pointer = len(nums) - 1\n",
    "        index = 0\n",
    "        while index <= two_pointer:\n",
    "            if nums[index] == 0:\n",
    "                nums[index], nums[zero_pointer] = nums[zero_pointer], nums[index]\n",
    "                zero_pointer += 1\n",
    "                index += 1\n",
    "            elif nums[index] == 1:\n",
    "                index += 1\n",
    "            else:\n",
    "                nums[index], nums[two_pointer] = nums[two_pointer], nums[index]\n",
    "                two_pointer -= 1\n",
    "            \n",
    "    def unit_tests(self):\n",
    "        test_cases = [ [[2,0,2,1,1,0], [0,0,1,1,2,2]], [[1,2,0], [0,1,2]] ]\n",
    "        for index, tc in enumerate(test_cases):\n",
    "            nums = tc[0]\n",
    "            self.sortColors(nums)\n",
    "            assert nums == tc[1], 'test#{0} failed'.format(index)\n",
    "            print('test#{0} passed'.format(index))\n",
    "\n",
    "Solution().unit_tests()"
   ]
  },
  {
   "cell_type": "markdown",
   "metadata": {},
   "source": [
    "## Reference\n",
    "- [Leetcode](https://leetcode.com/problems/sort-colors/)"
   ]
  },
  {
   "cell_type": "code",
   "execution_count": null,
   "metadata": {},
   "outputs": [],
   "source": []
  }
 ],
 "metadata": {
  "kernelspec": {
   "display_name": "Python 3",
   "language": "python",
   "name": "python3"
  },
  "language_info": {
   "codemirror_mode": {
    "name": "ipython",
    "version": 3
   },
   "file_extension": ".py",
   "mimetype": "text/x-python",
   "name": "python",
   "nbconvert_exporter": "python",
   "pygments_lexer": "ipython3",
   "version": "3.7.6"
  }
 },
 "nbformat": 4,
 "nbformat_minor": 4
}
