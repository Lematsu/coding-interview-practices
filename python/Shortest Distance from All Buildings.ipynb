{
 "cells": [
  {
   "cell_type": "markdown",
   "metadata": {},
   "source": [
    "# Shortest Distance from All Buildings\n",
    "\n",
    "You want to build a house on an empty land which reaches all buildings in the shortest amount of distance. You can only move up, down, left and right. You are given a 2D grid of values 0, 1 or 2, where:\n",
    "\n",
    "Each 0 marks an empty land which you can pass by freely.\n",
    "Each 1 marks a building which you cannot pass through.\n",
    "Each 2 marks an obstacle which you cannot pass through.\n",
    "```\n",
    "Example:\n",
    "\n",
    "Input: [[1,0,2,0,1],[0,0,0,0,0],[0,0,1,0,0]]\n",
    "\n",
    "1 - 0 - 2 - 0 - 1\n",
    "|   |   |   |   |\n",
    "0 - 0 - 0 - 0 - 0\n",
    "|   |   |   |   |\n",
    "0 - 0 - 1 - 0 - 0\n",
    "\n",
    "Output: 7 \n",
    "```\n",
    "\n",
    "Explanation: Given three buildings at (0,0), (0,4), (2,2), and an obstacle at (0,2),\n",
    "             the point (1,2) is an ideal empty land to build a house, as the total \n",
    "             travel distance of 3+3+1=7 is minimal. So return 7.\n",
    "Note:\n",
    "There will be at least one building. If it is not possible to build such house according to the above rules, return -1."
   ]
  },
  {
   "cell_type": "markdown",
   "metadata": {},
   "source": [
    "## Communication\n",
    "**DPS approach** We could approach this problem by first interpreting the data and then running dfs to find the best empty land to build a house. When we interpret the data, we want to iterate over every node to create a list of buildings, list of empty land, and list of obstacles. We want the list of buildings when we're running dfs on the graph and we could identify if a building is found or if all buildings are discovered before we run the dfs on a new node. We store the list of empty lands to iterate over them to find the minimum distance to all the buildings. Finally, we have the obstacle list to avoid iterating over nodes that we cannot pass or are obstacles. To process the data we want to run dfs on every empty land using the empty lands list. When doing so, for every new iteration of empty land, we would maintain two local variables, a visited list and a distance to building list. The visited list would terminate the iteration of duplicate nodes and avoid unnecessary dfs processes. The building list would store the distances to each building from the starting point of the empty land. After each iteration of the empty land, we want to compare with the previous total distance and store the minimum distance between the previous and current. To find the next node to visit, we want to visit all possible nodes that have not been visited yet, are not buildings, and are not obstacles. We could use our building list and obstacle list to processing these nodes. The time complexity of this algorithm is $O(n^2)$ because for every empty land, we run dfs to check the path and distance to all buildings. The space complexity is $O(n)$ since n is the number of nodes we are storing in the visited list."
   ]
  },
  {
   "cell_type": "code",
   "execution_count": 26,
   "metadata": {},
   "outputs": [
    {
     "name": "stdout",
     "output_type": "stream",
     "text": [
      "output: 7\n",
      "test#0 passed\n",
      "output: 88\n",
      "test#1 passed\n"
     ]
    }
   ],
   "source": [
    "## Coding\n",
    "class Solution(object):\n",
    "    def shortestDistance(self, grid):\n",
    "        \"\"\"\n",
    "        :type grid: List[List[int]]\n",
    "        :rtype: int\n",
    "        \"\"\"\n",
    "        # gather data\n",
    "        buildings = set()\n",
    "        empty_lands = set()\n",
    "        for row in range(len(grid)):\n",
    "            for col in range(len(grid[0])):\n",
    "                if grid[row][col] == 0:\n",
    "                    empty_lands.add((row,col))\n",
    "                elif grid[row][col] == 1:\n",
    "                    buildings.add((row,col))\n",
    "        # process data\n",
    "        mindist = float('inf')\n",
    "        for el_x, el_y in empty_lands:\n",
    "            dist = 0\n",
    "            for b_x, b_y in buildings:\n",
    "                def dfs(i, j, k, l, dist):\n",
    "                    # return intmax if indexes are out of bounds or empty lands are already visited\n",
    "                    if i < 0 or i >= len(grid) or j < 0 or j >= len(grid[0]) or grid[i][j] == -1:\n",
    "                        return float('inf')\n",
    "                    # return building distance if building is discovered\n",
    "                    elif i == k and j == l:\n",
    "                        return dist\n",
    "                    # return intmax if grid cell is not specified building or obstacle\n",
    "                    elif grid[i][j] == 1 or grid[i][j] == 2:\n",
    "                        return float('inf')\n",
    "                    # store empty land cell value in tempval to represent already visited\n",
    "                    # empty land cells with negative values\n",
    "                    tempval = grid[i][j]\n",
    "                    grid[i][j] = -1\n",
    "                    # calculate the minimum path\n",
    "                    dist = min(dfs(i-1,j,k,l,dist+1),\n",
    "                               dfs(i+1,j,k,l,dist+1),\n",
    "                               dfs(i,j-1,k,l,dist+1),\n",
    "                               dfs(i,j+1,k,l,dist+1))\n",
    "                    # restore empty land cell value\n",
    "                    grid[i][j] = tempval\n",
    "                    return dist\n",
    "                tempdist = dfs(el_x, el_y, b_x, b_y, 0)\n",
    "                if tempdist == float('inf'):\n",
    "                    dist = 0\n",
    "                    break\n",
    "                dist += tempdist\n",
    "            if dist != 0 and dist < mindist:\n",
    "                mindist = dist\n",
    "        return -1 if mindist == float('inf') else mindist\n",
    "    def unit_tests(self):\n",
    "        test_cases = [\n",
    "            [[[1,0,2,0,1],[0,0,0,0,0],[0,0,1,0,0]], 7],\n",
    "            [[[1,1,1,1,1,0],[0,0,0,0,0,1],[0,1,1,0,0,1],[1,0,0,1,0,1],[1,0,1,0,0,1],[1,0,0,0,0,1],[0,1,1,1,1,0]], 88]\n",
    "        ]\n",
    "        for index, tc in enumerate(test_cases):\n",
    "            output = self.shortestDistance(tc[0])\n",
    "            print('output: {0}'.format(output))\n",
    "            assert output == tc[1], 'test#{0} failed'.format(index)\n",
    "            print('test#{0} passed'.format(index))\n",
    "Solution().unit_tests()"
   ]
  },
  {
   "cell_type": "markdown",
   "metadata": {},
   "source": [
    "## Communication\n",
    "**BFS Approach** In our previous approach with DFS, we have redundant processes that we would not need to process with BFS. If we shift towards the BFS appraoch, we're adding all adjacent cells to our queue, therefore we would have the shortest paths to all buildings without iterating over redundant cells like in the DPS. The problem with DFS is that it is not able to identify the shortest path to all buildings in one pass, we need to specify which building the dfs recursion is looking for. In our bfs approach, for each empty cell, if it can reach all buildings, we calculate sum of shortest distance from it to each building. This process takes $O(n^2)$ where $n$ is the number of cells in the grid. Since shortest distance is a transitive property, for each building (x,y) we calculate the shortest distance from (x,y) to each empty cell. Then we find the empty cell which can reach all buildings with minimum sum of distance to all buildings. This process takes $O(n)$ where $n$ is again the number of cells."
   ]
  },
  {
   "cell_type": "code",
   "execution_count": 28,
   "metadata": {},
   "outputs": [
    {
     "name": "stdout",
     "output_type": "stream",
     "text": [
      "output: 7\n",
      "test#0 passed\n",
      "output: 88\n",
      "test#1 passed\n"
     ]
    }
   ],
   "source": [
    "## Coding\n",
    "## Coding\n",
    "class Solution(object):\n",
    "    def shortestDistance(self, grid):\n",
    "        \"\"\"\n",
    "        :type grid: List[List[int]]\n",
    "        :rtype: int\n",
    "        \"\"\"\n",
    "        # If it cannot build building, return -1\n",
    "        if not grid:\n",
    "            return -1\n",
    "        rows, cols = len(grid), len(grid[0])\n",
    "        reach = [[0 for _ in range(cols)] for _ in range(rows)]\n",
    "        dist = [[0 for _ in range(cols)] for _ in range(rows)]\n",
    "    \n",
    "        def bfs(i, j, cnt):\n",
    "            queue = [(i,j,0)]\n",
    "            while queue:\n",
    "                r, c, step = queue.pop(0)\n",
    "                for dr, dc in ((0,1), (0,-1), (1,0), (-1,0)):\n",
    "                    nr, nc = dr + r, dc + c\n",
    "                    if 0 <= nr < rows and 0 <= nc < cols and grid[nr][nc] == 0 and reach[nr][nc] == cnt:\n",
    "                        dist[nr][nc] += step + 1\n",
    "                        reach[nr][nc] += 1\n",
    "                        queue.append((nr, nc, step + 1))\n",
    "                step += 1\n",
    "    \n",
    "        cnt = 0\n",
    "        for i in range(rows):\n",
    "            for j in range(cols):\n",
    "                if grid[i][j] == 1:\n",
    "                    # For a building, calculate shortest distance to each empty cell by BFS\n",
    "                    bfs(i, j, cnt)\n",
    "                    cnt += 1\n",
    "    \n",
    "        ans = float('inf')\n",
    "        for i in range(rows):\n",
    "            for j in range(cols):\n",
    "                # Get min value from distance if cell is empty and can reach all other buildings\n",
    "                if grid[i][j] == 0 and reach[i][j] == cnt:\n",
    "                    ans = min(ans, dist[i][j])\n",
    "    \n",
    "        return ans if ans < float('inf') else -1\n",
    "    \n",
    "    def unit_tests(self):\n",
    "        test_cases = [\n",
    "            [[[1,0,2,0,1],[0,0,0,0,0],[0,0,1,0,0]], 7],\n",
    "            [[[1,1,1,1,1,0],[0,0,0,0,0,1],[0,1,1,0,0,1],[1,0,0,1,0,1],[1,0,1,0,0,1],[1,0,0,0,0,1],[0,1,1,1,1,0]], 88]\n",
    "        ]\n",
    "        for index, tc in enumerate(test_cases):\n",
    "            output = self.shortestDistance(tc[0])\n",
    "            print('output: {0}'.format(output))\n",
    "            assert output == tc[1], 'test#{0} failed'.format(index)\n",
    "            print('test#{0} passed'.format(index))\n",
    "Solution().unit_tests()"
   ]
  },
  {
   "cell_type": "markdown",
   "metadata": {},
   "source": [
    "## Reference\n",
    "- [Leetcode](https://leetcode.com/problems/shortest-distance-from-all-buildings/)"
   ]
  },
  {
   "cell_type": "code",
   "execution_count": null,
   "metadata": {},
   "outputs": [],
   "source": []
  }
 ],
 "metadata": {
  "kernelspec": {
   "display_name": "Python 3",
   "language": "python",
   "name": "python3"
  },
  "language_info": {
   "codemirror_mode": {
    "name": "ipython",
    "version": 3
   },
   "file_extension": ".py",
   "mimetype": "text/x-python",
   "name": "python",
   "nbconvert_exporter": "python",
   "pygments_lexer": "ipython3",
   "version": "3.7.6"
  }
 },
 "nbformat": 4,
 "nbformat_minor": 4
}
