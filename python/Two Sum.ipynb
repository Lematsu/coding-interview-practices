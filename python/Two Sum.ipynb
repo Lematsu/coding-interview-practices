{
 "cells": [
  {
   "cell_type": "markdown",
   "metadata": {},
   "source": [
    "# Two Sum\n",
    "\n",
    "Given an array of integers, return indices of the two numbers such that they add up to a specific target.\n",
    "\n",
    "You may assume that each input would have exactly one solution, and you may not use the same element twice.\n",
    "\n",
    "Example\n",
    "```\n",
    "Given nums = [2, 7, 11, 15], target = 9,\n",
    "\n",
    "Because nums[0] + nums[1] = 2 + 7 = 9\n",
    "return [0, 1]\n",
    "```"
   ]
  },
  {
   "cell_type": "markdown",
   "metadata": {},
   "source": [
    "## Communication\n",
    "\n",
    "Given the list, I could create a hash map where the key would be the number in nums and the value would be the index of the number in the list. For instance, in the given example, the hash map would look like the following below:\n",
    "```\n",
    "hash_map = {\n",
    "    2: 0,\n",
    "    7: 1,\n",
    "    11: 2,\n",
    "    15: 3}\n",
    "```\n",
    "I would create this hash map while iterating other the map, checking if the difference between the target and current iteration of number is already in the dictionary as a key. Since we're only looking for the first instance, we could return the indexes of the above two dictionaries when we have both values. The time complexity is linear time or O(n) since we're iterating over the input list. The space complexity will also be O(n) or linear since we're storing the input list in a hash map."
   ]
  },
  {
   "cell_type": "code",
   "execution_count": 7,
   "metadata": {},
   "outputs": [
    {
     "name": "stdout",
     "output_type": "stream",
     "text": [
      "test#0 passed\n",
      "test#1 passed\n"
     ]
    }
   ],
   "source": [
    "class Solution:\n",
    "    def two_sums(self, nums, target):\n",
    "        dict = {}\n",
    "        for i, num in enumerate(nums):\n",
    "            if target-num in dict:\n",
    "                return [dict[target-num], i]\n",
    "            dict[num] = i\n",
    "        return 'not possible'\n",
    "    def unit_test(self):\n",
    "        test_case = [[[2,7,11,15], 9, [0,1]], [[7,7,9,15], 14, [0,1]]]\n",
    "        for i, tc in enumerate(test_case):\n",
    "            output = self.two_sums(tc[0],tc[1])\n",
    "            assert output == tc[2], 'test#{0} failed'.format(i)\n",
    "            print('test#{0} passed'.format(i))\n",
    "\n",
    "Solution().unit_test()"
   ]
  },
  {
   "cell_type": "markdown",
   "metadata": {},
   "source": [
    "## Reference\n",
    "- [Leet code](https://leetcode.com/problems/two-sum/)"
   ]
  },
  {
   "cell_type": "code",
   "execution_count": null,
   "metadata": {},
   "outputs": [],
   "source": []
  }
 ],
 "metadata": {
  "kernelspec": {
   "display_name": "Python 3",
   "language": "python",
   "name": "python3"
  },
  "language_info": {
   "codemirror_mode": {
    "name": "ipython",
    "version": 3
   },
   "file_extension": ".py",
   "mimetype": "text/x-python",
   "name": "python",
   "nbconvert_exporter": "python",
   "pygments_lexer": "ipython3",
   "version": "3.7.6"
  }
 },
 "nbformat": 4,
 "nbformat_minor": 4
}
