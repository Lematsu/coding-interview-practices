{
 "cells": [
  {
   "cell_type": "markdown",
   "metadata": {},
   "source": [
    "# Remove Zero Sum Consecutive Nodes\n",
    "\n",
    "Given the head of a linked list, we repeatedly delete consecutive sequences of nodes that sum to 0 until there are no such sequences.\n",
    "\n",
    "After doing so, return the head of the final linked list.  You may return any such answer.\n",
    "\n",
    " \n",
    "\n",
    "(Note that in the examples below, all sequences are serializations of ListNode objects.)\n",
    "\n",
    "```\n",
    "Example 1:\n",
    "Input: head = [1,2,-3,3,1]\n",
    "Output: [3,1]\n",
    "Note: The answer [1,2,1] would also be accepted.\n",
    "\n",
    "Example 2:\n",
    "Input: head = [1,2,3,-3,4]\n",
    "Output: [1,2,4]\n",
    "\n",
    "Example 3:\n",
    "Input: head = [1,2,3,-3,-2]\n",
    "Output: [1]\n",
    "```\n",
    "\n",
    "Constraints:\n",
    "\n",
    "The given linked list will contain between 1 and 1000 nodes.\n",
    "Each node in the linked list has -1000 <= node.val <= 1000."
   ]
  },
  {
   "cell_type": "markdown",
   "metadata": {},
   "source": [
    "## Communication\n",
    "\n",
    "**Clean Hashmap Approach** We could approach this problem using a prefix sum and an ordered dictionary to maintain the prefix sum. That we mean by prefix sum is that initialized at zero, it would accumulate all values in the linked list in order. For each prefix sum as the key, we could store the current node at which the prefix sum has accumulated to. This is so when the prefix sum reaches a value that matches a key in the ordered dictionary, we could say that from the current node back to the matched prefix node, the values in between them could be removed. In addition, since we could initialize the ordered dictionary with a zero prefix value, if we encounter a prefix sum of a zero, we could process to remove all the elements from the beginning of the linked list to the node in which the prefix sum would be zero. Finally, we use an ordered dictionary rather than an ordinary dictionary because we need to maintain the order in which we inserted items. When we encounter a zero sum consecutive and would need to remove items, we need to remove all items previous to the matched prefix. We want to remove the our previous items before the prefix to remove duplicate prefixes from interfer with prefixes with the same value. The time complexity is O(n + m) where n is the number of nodes in the linked list and m is the number of prefix in the map. The space complexity is O(n) where n is the number of nodes in the linked list."
   ]
  },
  {
   "cell_type": "code",
   "execution_count": 10,
   "metadata": {},
   "outputs": [
    {
     "name": "stdout",
     "output_type": "stream",
     "text": [
      "test#0 passed\n",
      "test#1 passed\n",
      "test#2 passed\n"
     ]
    }
   ],
   "source": [
    "from collections import OrderedDict\n",
    "## Coding\n",
    "# Definition for singly-linked list.\n",
    "# class ListNode(object):\n",
    "#     def __init__(self, x):\n",
    "#         self.val = x\n",
    "#         self.next = None\n",
    "\n",
    "class ListNode(object):\n",
    "    def __init__(self, x):\n",
    "        self.val = x\n",
    "        self.next = None\n",
    "\n",
    "class Solution(object):\n",
    "    def removeZeroSumSublists(self, head):\n",
    "        \"\"\"\n",
    "        :type head: ListNode\n",
    "        :rtype: ListNode\n",
    "        \"\"\"\n",
    "        curr = dummy = ListNode(0)\n",
    "        dummy.next = head\n",
    "        prefix = 0\n",
    "        seen = OrderedDict()\n",
    "        while curr:\n",
    "            prefix += curr.val\n",
    "            if prefix not in seen:\n",
    "                seen[prefix] = curr\n",
    "            else:\n",
    "                node = seen[prefix]\n",
    "                node.next = curr.next \n",
    "                while list(seen.keys())[-1] != prefix:\n",
    "                    seen.popitem()\n",
    "            curr = curr.next\n",
    "        return dummy.next \n",
    "    def createLinkedList(self, nums):\n",
    "        head = curr = None\n",
    "        for n in nums:\n",
    "            if head == None:\n",
    "                head = curr = ListNode(n)\n",
    "            else:\n",
    "                curr.next = ListNode(n)\n",
    "                curr = curr.next\n",
    "        return head\n",
    "    # createList\n",
    "    def createList(self, node):\n",
    "        res = []\n",
    "        while node:\n",
    "            res.append(node.val)\n",
    "            node = node.next\n",
    "        return res\n",
    "    def unit_tests(self):\n",
    "        test_cases = [\n",
    "            [[1,2,-3,3,1],[3,1]],\n",
    "            [[1,2,3,-3,4],[1,2,4]],\n",
    "            [[1,2,3,-3,-2],[1]]\n",
    "        ]\n",
    "        for index, tc in enumerate(test_cases):\n",
    "            head = self.createLinkedList(tc[0])\n",
    "            head = self.removeZeroSumSublists(head)\n",
    "            output = self.createList(head)\n",
    "            assert output == tc[1], 'test#{0} failed'.format(index)\n",
    "            print('test#{0} passed'.format(index))\n",
    "Solution().unit_tests()"
   ]
  },
  {
   "cell_type": "markdown",
   "metadata": {},
   "source": [
    "## Communication\n",
    "**Overwrite Hashmap Approach** Similar to our previous approach, we would still use the prefix sum and the hashmap to store prefix sum and the node that represents the prefix sum. In our new approach, we could eliminate the cleaning of the hashmap after every discoverd node. In addition, we no longer need the OrderedDict and would use the native dictionary that does not maintain insert order. Instead, we would pass through the linked list twice. In our first time, we calculate the prefix sum and save it to the hashmap where we override any duplicate values. One of the characteristic of the OrderedDict is that when we override a value already stored in order, we only change the value stored and the order is maintained. Therefore, by overriding the node in which we know we'll have a zero sum consecutive, we could directly skip to the last occurrence of this prefix in the linked list. The time complexity of this is O(2n) or O(n) where n is the number of nodes in the linked list. The space cmplexity of this is O(n) where n is the number of nodes in the linked list where we store these values into a hashmap."
   ]
  },
  {
   "cell_type": "code",
   "execution_count": 12,
   "metadata": {},
   "outputs": [
    {
     "name": "stdout",
     "output_type": "stream",
     "text": [
      "test#0 passed\n",
      "test#1 passed\n",
      "test#2 passed\n"
     ]
    }
   ],
   "source": [
    "## Coding\n",
    "class Solution(object):\n",
    "    def removeZeroSumSublists(self, head):\n",
    "        \"\"\"\n",
    "        :type head: ListNode\n",
    "        :rtype: ListNode\n",
    "        \"\"\"\n",
    "        prefix = 0\n",
    "        seen = {}\n",
    "        seen[0] = dummy = ListNode(0)\n",
    "        dummy.next = head\n",
    "        while head:\n",
    "            prefix += head.val\n",
    "            seen[prefix] = head\n",
    "            head = head.next\n",
    "        head = dummy\n",
    "        prefix = 0\n",
    "        while head:\n",
    "            prefix += head.val\n",
    "            head.next = seen[prefix].next\n",
    "            head = head.next\n",
    "        return dummy.next\n",
    "    def createLinkedList(self, nums):\n",
    "        head = curr = None\n",
    "        for n in nums:\n",
    "            if head == None:\n",
    "                head = curr = ListNode(n)\n",
    "            else:\n",
    "                curr.next = ListNode(n)\n",
    "                curr = curr.next\n",
    "        return head\n",
    "    # createList\n",
    "    def createList(self, node):\n",
    "        res = []\n",
    "        while node:\n",
    "            res.append(node.val)\n",
    "            node = node.next\n",
    "        return res\n",
    "    def unit_tests(self):\n",
    "        test_cases = [\n",
    "            [[1,2,-3,3,1],[3,1]],\n",
    "            [[1,2,3,-3,4],[1,2,4]],\n",
    "            [[1,2,3,-3,-2],[1]]\n",
    "        ]\n",
    "        for index, tc in enumerate(test_cases):\n",
    "            head = self.createLinkedList(tc[0])\n",
    "            head = self.removeZeroSumSublists(head)\n",
    "            output = self.createList(head)\n",
    "            assert output == tc[1], 'test#{0} failed'.format(index)\n",
    "            print('test#{0} passed'.format(index))\n",
    "Solution().unit_tests()"
   ]
  },
  {
   "cell_type": "markdown",
   "metadata": {},
   "source": [
    "## Reference\n",
    "\n",
    "- [Leetcode](https://leetcode.com/problems/remove-zero-sum-consecutive-nodes-from-linked-list/)"
   ]
  },
  {
   "cell_type": "code",
   "execution_count": null,
   "metadata": {},
   "outputs": [],
   "source": []
  }
 ],
 "metadata": {
  "kernelspec": {
   "display_name": "Python 3",
   "language": "python",
   "name": "python3"
  },
  "language_info": {
   "codemirror_mode": {
    "name": "ipython",
    "version": 3
   },
   "file_extension": ".py",
   "mimetype": "text/x-python",
   "name": "python",
   "nbconvert_exporter": "python",
   "pygments_lexer": "ipython3",
   "version": "3.7.6"
  }
 },
 "nbformat": 4,
 "nbformat_minor": 4
}
