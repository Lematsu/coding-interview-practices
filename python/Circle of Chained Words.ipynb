{
 "cells": [
  {
   "cell_type": "markdown",
   "metadata": {},
   "source": [
    "# Circle of Chained Words\n",
    "\n",
    "Given an array of strings, find if the given strings can be chained to form a circle. A string X can be put before another string Y in circle if the last character of X is same as first character of Y.\n",
    "\n",
    "**Examples:**\n",
    "```\n",
    "Input: arr[] = {\"geek\", \"king\"}\n",
    "Output: Yes, the given strings can be chained.\n",
    "Note that the last character of first string is same\n",
    "as first character of second string and vice versa is\n",
    "also true.\n",
    "\n",
    "Input: arr[] = {\"for\", \"geek\", \"rig\", \"kaf\"}\n",
    "Output: Yes, the given strings can be chained.\n",
    "The strings can be chained as \"for\", \"rig\", \"geek\" \n",
    "and \"kaf\"\n",
    "\n",
    "Input: arr[] = {\"aab\", \"bac\", \"aaa\", \"cda\"}\n",
    "Output: Yes, the given strings can be chained.\n",
    "The strings can be chained as \"aaa\", \"aab\", \"bac\" \n",
    "and \"cda\"\n",
    "\n",
    "Input: arr[] = {\"aaa\", \"bbb\", \"baa\", \"aab\"};\n",
    "Output: Yes, the given strings can be chained.\n",
    "The strings can be chained as \"aaa\", \"aab\", \"bbb\" \n",
    "and \"baa\"\n",
    "\n",
    "Input: arr[] = {\"aaa\"};\n",
    "Output: Yes\n",
    "\n",
    "Input: arr[] = {\"aaa\", \"bbb\"};\n",
    "Output: No\n",
    "\n",
    "Input  : arr[] = [\"abc\", \"efg\", \"cde\", \"ghi\", \"ija\"]\n",
    "Output : Yes\n",
    "These strings can be reordered as, “abc”, “cde”, “efg”,\n",
    "“ghi”, “ija”\n",
    "\n",
    "Input : arr[] = [“ijk”, “kji”, “abc”, “cba”]\n",
    "Output : No\n",
    "```"
   ]
  },
  {
   "cell_type": "markdown",
   "metadata": {},
   "source": [
    "## Communication\n",
    "\n",
    "![alt text](assets/circle_of_chained_words.png)"
   ]
  },
  {
   "cell_type": "code",
   "execution_count": 24,
   "metadata": {},
   "outputs": [
    {
     "name": "stdout",
     "output_type": "stream",
     "text": [
      "test#0 passed\n",
      "test#1 passed\n",
      "test#2 passed\n",
      "test#3 passed\n"
     ]
    }
   ],
   "source": [
    "from collections import defaultdict\n",
    "## Coding\n",
    "class Solution(object):\n",
    "    def chainWords(self, strings):\n",
    "        # create dict\n",
    "        dicts = defaultdict(list)\n",
    "        for s in strings:\n",
    "            dicts[s[0]].append(s)\n",
    "        # function to traverse dict\n",
    "        def dfs(dicts, current_word, start_word, length, visited):\n",
    "            if length == 1:\n",
    "                return current_word[-1] == start_word[0]\n",
    "            visited.add(current_word)\n",
    "            for neighbor in dicts[current_word[-1]]:\n",
    "                if (neighbor not in visited and\n",
    "                   dfs(dicts, neighbor, start_word, length - 1, visited)):\n",
    "                    return True\n",
    "            visited.remove(current_word)\n",
    "            return False\n",
    "        return dfs(dicts, strings[0], strings[0], len(strings), set())\n",
    "    \n",
    "    def unit_tests(self):\n",
    "        test_cases = [\n",
    "            [['geek','king'], True],\n",
    "            [['aaa','aab','bac','cda'], True],\n",
    "            [['aaa','bbb'], False],\n",
    "            [[\"aaa\", \"bbb\", \"baa\", \"aab\"], True]\n",
    "        ]\n",
    "        for i, tc in enumerate(test_cases):\n",
    "            output = self.chainWords(tc[0])\n",
    "            assert output == tc[1], 'test#{0} failed'.format(i)\n",
    "            print('test#{0} passed'.format(i))\n",
    "Solution().unit_tests()\n",
    "            \n",
    "        \n",
    "        "
   ]
  },
  {
   "cell_type": "markdown",
   "metadata": {},
   "source": [
    "## Reference\n",
    "- [GeeksforGeeks](https://www.geeksforgeeks.org/given-array-strings-find-strings-can-chained-form-circle/)"
   ]
  },
  {
   "cell_type": "code",
   "execution_count": null,
   "metadata": {},
   "outputs": [],
   "source": []
  }
 ],
 "metadata": {
  "kernelspec": {
   "display_name": "Python 3",
   "language": "python",
   "name": "python3"
  },
  "language_info": {
   "codemirror_mode": {
    "name": "ipython",
    "version": 3
   },
   "file_extension": ".py",
   "mimetype": "text/x-python",
   "name": "python",
   "nbconvert_exporter": "python",
   "pygments_lexer": "ipython3",
   "version": "3.6.9"
  }
 },
 "nbformat": 4,
 "nbformat_minor": 4
}