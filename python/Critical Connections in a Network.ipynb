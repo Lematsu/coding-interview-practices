{
 "cells": [
  {
   "cell_type": "markdown",
   "metadata": {},
   "source": [
    "# Critical Connections in a Network\n",
    "\n",
    "There are n servers numbered from 0 to n-1 connected by undirected server-to-server connections forming a network where connections[i] = [a, b] represents a connection between servers a and b. Any server can reach any other server directly or indirectly through the network.\n",
    "\n",
    "A critical connection is a connection that, if removed, will make some server unable to reach some other server.\n",
    "\n",
    "Return all critical connections in the network in any order.\n",
    "\n",
    "```\n",
    "Example 1:\n",
    "\n",
    "Input: n = 4, connections = [[0,1],[1,2],[2,0],[1,3]]\n",
    "Output: [[1,3]]\n",
    "Explanation: [[3,1]] is also accepted.\n",
    "```\n",
    "![diagram 1](assets/critical_connections_in_a_network.png)\n",
    "\n",
    "```\n",
    "Constraints:\n",
    "\n",
    "1 <= n <= 10^5\n",
    "n-1 <= connections.length <= 10^5\n",
    "connections[i][0] != connections[i][1]\n",
    "There are no repeated connections.\n",
    "```"
   ]
  },
  {
   "cell_type": "markdown",
   "metadata": {},
   "source": [
    "## Communication\n",
    "We could approach this question by creating a dps spanning tree with the given connections. This would be possible by first creating a graph that shows the relationship between each edge of nodes, and then performing dps on the graph per node to identity the anticulation point. An anticulation point is a vertex in a graph, if it is removed, the graph will split into components. In the above example, 1 is an articulation point because if we remove 1, 2 and 0 will be a component, and 3 will be another component. When traversing the graph, we are maintaining a few variables to be able to determine the anticulation point. First, with the dps spanning tree, we want to be able to keep track of the depth of the nodes, meaning at what dfs call did we reach the particular node. In addition, we want to know which nodes we have already visited. We could use a list to keep track of the visited nodes. For each dfs call, we could add the node if it is not already visited. To be able to have O(1) access to be able to distinguish which nodes have what depth, we could create a list to keep track of this. For each index, we could store the depth of an index. The key data structure and data we need to use to be able to detect the articulation point is to keep track of the lowest depth the current node can reach without traversing through it's parent node. Therefore, if we perform dfs on the children of the curret node, we keep track of the lowest depth node it can reach. At any point, if the depth of the children node is larger than the depth of the current node, then we could conclude that this is an articulation point. The time complexity of this algorithm would be O(v * e) where v is the number of nodes and e is the number of edges. The space complexity of this algorithm would be linear or O(n * e) since we maintain a graph containing all the nodes and edges."
   ]
  },
  {
   "cell_type": "code",
   "execution_count": 8,
   "metadata": {},
   "outputs": [
    {
     "name": "stdout",
     "output_type": "stream",
     "text": [
      "output: [[1, 3]]\n",
      "test#0 passed\n"
     ]
    }
   ],
   "source": [
    "## Coding\n",
    "class Solution(object):\n",
    "    def criticalConnections(self, n, connections):\n",
    "        bridges = []\n",
    "        self.depth = 0\n",
    "        depth = [0] * n\n",
    "        low_links = [0] * n\n",
    "        visited = [False] * n\n",
    "        \n",
    "        adj_list = [[] for _ in range(n)]\n",
    "        # build graph\n",
    "        for node_1, node_2 in connections:\n",
    "            adj_list[node_1].append(node_2)\n",
    "            adj_list[node_2].append(node_1)\n",
    "        # dfs function\n",
    "        def dfs(current_node, parent_node):\n",
    "            visited[current_node] = True\n",
    "            low_links[current_node] = self.depth\n",
    "            depth[current_node] = self.depth\n",
    "            self.depth += 1\n",
    "            for dest in adj_list[current_node]:\n",
    "                if dest == parent_node:\n",
    "                    continue\n",
    "                if not visited[dest]:\n",
    "                    dfs(dest, current_node)\n",
    "                    low_links[current_node] = min(low_links[current_node], low_links[dest])\n",
    "                    if depth[current_node] < low_links[dest]:\n",
    "                        bridges.append([current_node, dest])\n",
    "                else:\n",
    "                    low_links[current_node] = min(low_links[current_node], depth[dest])\n",
    "        for i in range(n):\n",
    "            if not visited[i]:\n",
    "                dfs(i, -1)\n",
    "        return bridges\n",
    "\n",
    "    def unit_test(self):\n",
    "        test_cases = [\n",
    "            [4, [[0,1],[1,2],[2,0],[1,3]], [[1,3]]]\n",
    "        ]\n",
    "        for index, tc in enumerate(test_cases):\n",
    "            output = self.criticalConnections(tc[0], tc[1])\n",
    "            assert output == tc[2], 'test#{0} failed'.format(index)\n",
    "            print('test#{0} passed'.format(index))\n",
    "Solution().unit_test()"
   ]
  },
  {
   "cell_type": "markdown",
   "metadata": {},
   "source": [
    "## Refernce\n",
    "- [Leetcode](https://leetcode.com/problems/critical-connections-in-a-network)"
   ]
  },
  {
   "cell_type": "code",
   "execution_count": null,
   "metadata": {},
   "outputs": [],
   "source": []
  }
 ],
 "metadata": {
  "kernelspec": {
   "display_name": "Python 3",
   "language": "python",
   "name": "python3"
  },
  "language_info": {
   "codemirror_mode": {
    "name": "ipython",
    "version": 3
   },
   "file_extension": ".py",
   "mimetype": "text/x-python",
   "name": "python",
   "nbconvert_exporter": "python",
   "pygments_lexer": "ipython3",
   "version": "3.7.6"
  }
 },
 "nbformat": 4,
 "nbformat_minor": 4
}