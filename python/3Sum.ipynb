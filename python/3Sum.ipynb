{
 "cells": [
  {
   "cell_type": "markdown",
   "metadata": {},
   "source": [
    "## 3Sum\n",
    "Given an array nums of n integers, are there elements a, b, c in nums such that a + b + c = 0? Find all unique triplets in the array which gives the sum of zero.\n",
    "\n",
    "Note:\n",
    "\n",
    "The solution set must not contain duplicate triplets.\n",
    "```\n",
    "Example:\n",
    "\n",
    "Given array nums = [-1, 0, 1, 2, -1, -4],\n",
    "\n",
    "A solution set is:\n",
    "[\n",
    "  [-1, 0, 1],\n",
    "  [-1, -1, 2]\n",
    "]\n",
    "```"
   ]
  },
  {
   "cell_type": "markdown",
   "metadata": {},
   "source": [
    "## Communication\n",
    "\n",
    "We could approach this question with a modified two sum approach. In a two sum approach, we have two pointers starting at the head and the tail of the list. If the two pointer values sum to a desired value, we add the two pointer values to the result. If the sum is too small, the left pointer increments by one. If the sum is too large, the right pointer decrements by one. This approach is possible when the list is sorted and we have a desired value to look for. In our three sum approach, we could apply this two sum approach with an additional pointer to identify the third value. We could first start the third pointer from the beginning of the list. We could slice the list with this third pointer, meaning whatever is to the right of the third pointer, we could run the two sum approach. The desired outcome in our case would be zero minus what the third pointer is pointing to. The time complexity of this approach would $O(n^2)$ since we need the third pointer to iterate over all the nodes and the two sum approach takes $O(n)$ since we're moving two pointers but cannot assume it would merge in the middle. The space complexity is O(1) since we do not maintain a data structure other than the input and output value."
   ]
  },
  {
   "cell_type": "code",
   "execution_count": 8,
   "metadata": {},
   "outputs": [
    {
     "name": "stdout",
     "output_type": "stream",
     "text": [
      "output: [[-1, -1, 2], [-1, 0, 1]]\n",
      "test#0 passed\n"
     ]
    }
   ],
   "source": [
    "## Coding\n",
    "\n",
    "class Solution(object):\n",
    "    def threeSum(self, nums):\n",
    "        \"\"\"\n",
    "        :type nums: List[int]\n",
    "        :rtype: List[List[int]]\n",
    "        \"\"\"\n",
    "        res = []\n",
    "        nums = sorted(nums)\n",
    "        length = len(nums)\n",
    "        for i in range(length - 2):\n",
    "            if i > 0 and nums[i] == nums[i-1]:\n",
    "                continue\n",
    "            j = i + 1\n",
    "            k = length - 1\n",
    "            while j < k:\n",
    "                sum_value = nums[i] + nums[j] + nums[k]\n",
    "                if sum_value == 0:\n",
    "                    res.append([nums[i], nums[j], nums[k]])\n",
    "                    while j < k and nums[j] == nums[j+1]:\n",
    "                        j += 1\n",
    "                    while j < k and nums[k] == nums[k-1]:\n",
    "                        k -= 1\n",
    "                    j += 1\n",
    "                    k -= 1\n",
    "                elif sum_value > 0:\n",
    "                    k -= 1\n",
    "                else:\n",
    "                    j += 1\n",
    "        return res\n",
    "                    \n",
    "\n",
    "    def unit_tests(self):\n",
    "        test_cases = [\n",
    "            [ [-1, 0, 1, 2, -1, -4], [[-1, -1, 2],[-1, 0, 1]] ]\n",
    "        ]\n",
    "        for index, tc in enumerate(test_cases):\n",
    "            output = self.threeSum(tc[0])\n",
    "            print('output: {0}'.format(output))\n",
    "            assert output == tc[1], 'test#{0} failed'.format(index)\n",
    "            print('test#{0} passed'.format(index))\n",
    "Solution().unit_tests()\n",
    "        "
   ]
  },
  {
   "cell_type": "markdown",
   "metadata": {},
   "source": [
    "## Reference\n",
    "- [Leetcode](https://leetcode.com/problems/3sum/)"
   ]
  },
  {
   "cell_type": "code",
   "execution_count": null,
   "metadata": {},
   "outputs": [],
   "source": []
  }
 ],
 "metadata": {
  "kernelspec": {
   "display_name": "Python 3",
   "language": "python",
   "name": "python3"
  },
  "language_info": {
   "codemirror_mode": {
    "name": "ipython",
    "version": 3
   },
   "file_extension": ".py",
   "mimetype": "text/x-python",
   "name": "python",
   "nbconvert_exporter": "python",
   "pygments_lexer": "ipython3",
   "version": "3.7.6"
  }
 },
 "nbformat": 4,
 "nbformat_minor": 4
}
